{
 "cells": [
  {
   "cell_type": "markdown",
   "metadata": {},
   "source": [
    "### Data Dictionary"
   ]
  },
  {
   "cell_type": "markdown",
   "metadata": {},
   "source": [
    "Imagine that an automobile manufacturer has developed prototypes for a new vehicle. Before introducing the new model into its range, the manufacturer wants to determine which existing vehicles on the market are most like the prototypes--that is, how vehicles can be grouped, which group is the most similar with the model, and therefore which models they will be competing against.\n",
    "\n",
    "Our objective here, is to use clustering methods, to find the most distinctive clusters of vehicles. It will summarize the existing vehicles and help manufacturers to make decision about the supply of new models.\n"
   ]
  },
  {
   "cell_type": "markdown",
   "metadata": {},
   "source": [
    "### Import Libraries"
   ]
  },
  {
   "cell_type": "code",
   "execution_count": 1,
   "metadata": {},
   "outputs": [],
   "source": [
    "import numpy as np\n",
    "import pandas as pd\n",
    "import matplotlib.pyplot as plt\n",
    "import seaborn as sns\n",
    "\n",
    "%matplotlib inline\n",
    "sns.set_style('dark')\n",
    "sns.set(font_scale=1.5)\n",
    "\n",
    "import warnings\n",
    "warnings.filterwarnings('ignore')\n",
    "\n",
    "import pickle\n",
    "from pickle import dump, load\n",
    "\n",
    "#from pycaret.classification import *\n",
    "from pycaret.clustering import *\n",
    "#from pycaret.regression import *\n",
    "\n",
    "pd.options.display.max_columns= None\n",
    "#pd.options.display.max_rows = None"
   ]
  },
  {
   "cell_type": "markdown",
   "metadata": {},
   "source": [
    "### Data Exploration"
   ]
  },
  {
   "cell_type": "code",
   "execution_count": 2,
   "metadata": {},
   "outputs": [],
   "source": [
    "df = pd.read_csv(\"cars_clus.csv\")"
   ]
  },
  {
   "cell_type": "code",
   "execution_count": 3,
   "metadata": {},
   "outputs": [
    {
     "data": {
      "text/html": [
       "<div>\n",
       "<style scoped>\n",
       "    .dataframe tbody tr th:only-of-type {\n",
       "        vertical-align: middle;\n",
       "    }\n",
       "\n",
       "    .dataframe tbody tr th {\n",
       "        vertical-align: top;\n",
       "    }\n",
       "\n",
       "    .dataframe thead th {\n",
       "        text-align: right;\n",
       "    }\n",
       "</style>\n",
       "<table border=\"1\" class=\"dataframe\">\n",
       "  <thead>\n",
       "    <tr style=\"text-align: right;\">\n",
       "      <th></th>\n",
       "      <th>manufact</th>\n",
       "      <th>model</th>\n",
       "      <th>sales</th>\n",
       "      <th>resale</th>\n",
       "      <th>type</th>\n",
       "      <th>price</th>\n",
       "      <th>engine_s</th>\n",
       "      <th>horsepow</th>\n",
       "      <th>wheelbas</th>\n",
       "      <th>width</th>\n",
       "      <th>length</th>\n",
       "      <th>curb_wgt</th>\n",
       "      <th>fuel_cap</th>\n",
       "      <th>mpg</th>\n",
       "      <th>lnsales</th>\n",
       "      <th>partition</th>\n",
       "    </tr>\n",
       "  </thead>\n",
       "  <tbody>\n",
       "    <tr>\n",
       "      <th>0</th>\n",
       "      <td>Acura</td>\n",
       "      <td>Integra</td>\n",
       "      <td>16.919</td>\n",
       "      <td>16.360</td>\n",
       "      <td>0.000</td>\n",
       "      <td>21.500</td>\n",
       "      <td>1.800</td>\n",
       "      <td>140.000</td>\n",
       "      <td>101.200</td>\n",
       "      <td>67.300</td>\n",
       "      <td>172.400</td>\n",
       "      <td>2.639</td>\n",
       "      <td>13.200</td>\n",
       "      <td>28.000</td>\n",
       "      <td>2.828</td>\n",
       "      <td>0.0</td>\n",
       "    </tr>\n",
       "    <tr>\n",
       "      <th>1</th>\n",
       "      <td>Acura</td>\n",
       "      <td>TL</td>\n",
       "      <td>39.384</td>\n",
       "      <td>19.875</td>\n",
       "      <td>0.000</td>\n",
       "      <td>28.400</td>\n",
       "      <td>3.200</td>\n",
       "      <td>225.000</td>\n",
       "      <td>108.100</td>\n",
       "      <td>70.300</td>\n",
       "      <td>192.900</td>\n",
       "      <td>3.517</td>\n",
       "      <td>17.200</td>\n",
       "      <td>25.000</td>\n",
       "      <td>3.673</td>\n",
       "      <td>0.0</td>\n",
       "    </tr>\n",
       "    <tr>\n",
       "      <th>2</th>\n",
       "      <td>Acura</td>\n",
       "      <td>CL</td>\n",
       "      <td>14.114</td>\n",
       "      <td>18.225</td>\n",
       "      <td>0.000</td>\n",
       "      <td>$null$</td>\n",
       "      <td>3.200</td>\n",
       "      <td>225.000</td>\n",
       "      <td>106.900</td>\n",
       "      <td>70.600</td>\n",
       "      <td>192.000</td>\n",
       "      <td>3.470</td>\n",
       "      <td>17.200</td>\n",
       "      <td>26.000</td>\n",
       "      <td>2.647</td>\n",
       "      <td>0.0</td>\n",
       "    </tr>\n",
       "    <tr>\n",
       "      <th>3</th>\n",
       "      <td>Acura</td>\n",
       "      <td>RL</td>\n",
       "      <td>8.588</td>\n",
       "      <td>29.725</td>\n",
       "      <td>0.000</td>\n",
       "      <td>42.000</td>\n",
       "      <td>3.500</td>\n",
       "      <td>210.000</td>\n",
       "      <td>114.600</td>\n",
       "      <td>71.400</td>\n",
       "      <td>196.600</td>\n",
       "      <td>3.850</td>\n",
       "      <td>18.000</td>\n",
       "      <td>22.000</td>\n",
       "      <td>2.150</td>\n",
       "      <td>0.0</td>\n",
       "    </tr>\n",
       "    <tr>\n",
       "      <th>4</th>\n",
       "      <td>Audi</td>\n",
       "      <td>A4</td>\n",
       "      <td>20.397</td>\n",
       "      <td>22.255</td>\n",
       "      <td>0.000</td>\n",
       "      <td>23.990</td>\n",
       "      <td>1.800</td>\n",
       "      <td>150.000</td>\n",
       "      <td>102.600</td>\n",
       "      <td>68.200</td>\n",
       "      <td>178.000</td>\n",
       "      <td>2.998</td>\n",
       "      <td>16.400</td>\n",
       "      <td>27.000</td>\n",
       "      <td>3.015</td>\n",
       "      <td>0.0</td>\n",
       "    </tr>\n",
       "    <tr>\n",
       "      <th>...</th>\n",
       "      <td>...</td>\n",
       "      <td>...</td>\n",
       "      <td>...</td>\n",
       "      <td>...</td>\n",
       "      <td>...</td>\n",
       "      <td>...</td>\n",
       "      <td>...</td>\n",
       "      <td>...</td>\n",
       "      <td>...</td>\n",
       "      <td>...</td>\n",
       "      <td>...</td>\n",
       "      <td>...</td>\n",
       "      <td>...</td>\n",
       "      <td>...</td>\n",
       "      <td>...</td>\n",
       "      <td>...</td>\n",
       "    </tr>\n",
       "    <tr>\n",
       "      <th>154</th>\n",
       "      <td>Volvo</td>\n",
       "      <td>V70</td>\n",
       "      <td>17.531</td>\n",
       "      <td>$null$</td>\n",
       "      <td>0.000</td>\n",
       "      <td>28.800</td>\n",
       "      <td>2.400</td>\n",
       "      <td>168.000</td>\n",
       "      <td>104.900</td>\n",
       "      <td>69.300</td>\n",
       "      <td>186.200</td>\n",
       "      <td>3.259</td>\n",
       "      <td>17.900</td>\n",
       "      <td>25.000</td>\n",
       "      <td>2.864</td>\n",
       "      <td>0.0</td>\n",
       "    </tr>\n",
       "    <tr>\n",
       "      <th>155</th>\n",
       "      <td>Volvo</td>\n",
       "      <td>C70</td>\n",
       "      <td>3.493</td>\n",
       "      <td>$null$</td>\n",
       "      <td>0.000</td>\n",
       "      <td>45.500</td>\n",
       "      <td>2.300</td>\n",
       "      <td>236.000</td>\n",
       "      <td>104.900</td>\n",
       "      <td>71.500</td>\n",
       "      <td>185.700</td>\n",
       "      <td>3.601</td>\n",
       "      <td>18.500</td>\n",
       "      <td>23.000</td>\n",
       "      <td>1.251</td>\n",
       "      <td>0.0</td>\n",
       "    </tr>\n",
       "    <tr>\n",
       "      <th>156</th>\n",
       "      <td>Volvo</td>\n",
       "      <td>S80</td>\n",
       "      <td>18.969</td>\n",
       "      <td>$null$</td>\n",
       "      <td>0.000</td>\n",
       "      <td>36.000</td>\n",
       "      <td>2.900</td>\n",
       "      <td>201.000</td>\n",
       "      <td>109.900</td>\n",
       "      <td>72.100</td>\n",
       "      <td>189.800</td>\n",
       "      <td>3.600</td>\n",
       "      <td>21.100</td>\n",
       "      <td>24.000</td>\n",
       "      <td>2.943</td>\n",
       "      <td>0.0</td>\n",
       "    </tr>\n",
       "    <tr>\n",
       "      <th>157</th>\n",
       "      <td>NaN</td>\n",
       "      <td>newCar</td>\n",
       "      <td>$null$</td>\n",
       "      <td>$null$</td>\n",
       "      <td>$null$</td>\n",
       "      <td>21.500</td>\n",
       "      <td>1.500</td>\n",
       "      <td>76.000</td>\n",
       "      <td>106.300</td>\n",
       "      <td>67.900</td>\n",
       "      <td>175.000</td>\n",
       "      <td>2.932</td>\n",
       "      <td>11.900</td>\n",
       "      <td>46.000</td>\n",
       "      <td>$null$</td>\n",
       "      <td>1.0</td>\n",
       "    </tr>\n",
       "    <tr>\n",
       "      <th>158</th>\n",
       "      <td>NaN</td>\n",
       "      <td>newTruck</td>\n",
       "      <td>$null$</td>\n",
       "      <td>$null$</td>\n",
       "      <td>$null$</td>\n",
       "      <td>34.200</td>\n",
       "      <td>3.500</td>\n",
       "      <td>167.000</td>\n",
       "      <td>109.800</td>\n",
       "      <td>75.200</td>\n",
       "      <td>188.400</td>\n",
       "      <td>4.508</td>\n",
       "      <td>17.200</td>\n",
       "      <td>26.000</td>\n",
       "      <td>$null$</td>\n",
       "      <td>1.0</td>\n",
       "    </tr>\n",
       "  </tbody>\n",
       "</table>\n",
       "<p>159 rows × 16 columns</p>\n",
       "</div>"
      ],
      "text/plain": [
       "    manufact     model   sales  resale    type   price engine_s horsepow  \\\n",
       "0      Acura   Integra  16.919  16.360   0.000  21.500    1.800  140.000   \n",
       "1      Acura        TL  39.384  19.875   0.000  28.400    3.200  225.000   \n",
       "2      Acura        CL  14.114  18.225   0.000  $null$    3.200  225.000   \n",
       "3      Acura        RL   8.588  29.725   0.000  42.000    3.500  210.000   \n",
       "4       Audi        A4  20.397  22.255   0.000  23.990    1.800  150.000   \n",
       "..       ...       ...     ...     ...     ...     ...      ...      ...   \n",
       "154    Volvo       V70  17.531  $null$   0.000  28.800    2.400  168.000   \n",
       "155    Volvo       C70   3.493  $null$   0.000  45.500    2.300  236.000   \n",
       "156    Volvo       S80  18.969  $null$   0.000  36.000    2.900  201.000   \n",
       "157      NaN    newCar  $null$  $null$  $null$  21.500    1.500   76.000   \n",
       "158      NaN  newTruck  $null$  $null$  $null$  34.200    3.500  167.000   \n",
       "\n",
       "    wheelbas   width   length curb_wgt fuel_cap     mpg lnsales  partition  \n",
       "0    101.200  67.300  172.400    2.639   13.200  28.000   2.828        0.0  \n",
       "1    108.100  70.300  192.900    3.517   17.200  25.000   3.673        0.0  \n",
       "2    106.900  70.600  192.000    3.470   17.200  26.000   2.647        0.0  \n",
       "3    114.600  71.400  196.600    3.850   18.000  22.000   2.150        0.0  \n",
       "4    102.600  68.200  178.000    2.998   16.400  27.000   3.015        0.0  \n",
       "..       ...     ...      ...      ...      ...     ...     ...        ...  \n",
       "154  104.900  69.300  186.200    3.259   17.900  25.000   2.864        0.0  \n",
       "155  104.900  71.500  185.700    3.601   18.500  23.000   1.251        0.0  \n",
       "156  109.900  72.100  189.800    3.600   21.100  24.000   2.943        0.0  \n",
       "157  106.300  67.900  175.000    2.932   11.900  46.000  $null$        1.0  \n",
       "158  109.800  75.200  188.400    4.508   17.200  26.000  $null$        1.0  \n",
       "\n",
       "[159 rows x 16 columns]"
      ]
     },
     "execution_count": 3,
     "metadata": {},
     "output_type": "execute_result"
    }
   ],
   "source": [
    "df"
   ]
  },
  {
   "cell_type": "code",
   "execution_count": 4,
   "metadata": {},
   "outputs": [
    {
     "name": "stdout",
     "output_type": "stream",
     "text": [
      "<class 'pandas.core.frame.DataFrame'>\n",
      "RangeIndex: 159 entries, 0 to 158\n",
      "Data columns (total 16 columns):\n",
      " #   Column     Non-Null Count  Dtype  \n",
      "---  ------     --------------  -----  \n",
      " 0   manufact   157 non-null    object \n",
      " 1   model      159 non-null    object \n",
      " 2   sales      159 non-null    object \n",
      " 3   resale     159 non-null    object \n",
      " 4   type       159 non-null    object \n",
      " 5   price      159 non-null    object \n",
      " 6   engine_s   159 non-null    object \n",
      " 7   horsepow   159 non-null    object \n",
      " 8   wheelbas   159 non-null    object \n",
      " 9   width      159 non-null    object \n",
      " 10  length     159 non-null    object \n",
      " 11  curb_wgt   159 non-null    object \n",
      " 12  fuel_cap   159 non-null    object \n",
      " 13  mpg        159 non-null    object \n",
      " 14  lnsales    159 non-null    object \n",
      " 15  partition  159 non-null    float64\n",
      "dtypes: float64(1), object(15)\n",
      "memory usage: 20.0+ KB\n"
     ]
    }
   ],
   "source": [
    "df.info()"
   ]
  },
  {
   "cell_type": "code",
   "execution_count": 5,
   "metadata": {},
   "outputs": [
    {
     "data": {
      "text/html": [
       "<div>\n",
       "<style scoped>\n",
       "    .dataframe tbody tr th:only-of-type {\n",
       "        vertical-align: middle;\n",
       "    }\n",
       "\n",
       "    .dataframe tbody tr th {\n",
       "        vertical-align: top;\n",
       "    }\n",
       "\n",
       "    .dataframe thead th {\n",
       "        text-align: right;\n",
       "    }\n",
       "</style>\n",
       "<table border=\"1\" class=\"dataframe\">\n",
       "  <thead>\n",
       "    <tr style=\"text-align: right;\">\n",
       "      <th></th>\n",
       "      <th>manufact</th>\n",
       "      <th>model</th>\n",
       "      <th>sales</th>\n",
       "      <th>resale</th>\n",
       "      <th>type</th>\n",
       "      <th>price</th>\n",
       "      <th>engine_s</th>\n",
       "      <th>horsepow</th>\n",
       "      <th>wheelbas</th>\n",
       "      <th>width</th>\n",
       "      <th>length</th>\n",
       "      <th>curb_wgt</th>\n",
       "      <th>fuel_cap</th>\n",
       "      <th>mpg</th>\n",
       "      <th>lnsales</th>\n",
       "      <th>partition</th>\n",
       "    </tr>\n",
       "  </thead>\n",
       "  <tbody>\n",
       "    <tr>\n",
       "      <th>count</th>\n",
       "      <td>157</td>\n",
       "      <td>159</td>\n",
       "      <td>159</td>\n",
       "      <td>159</td>\n",
       "      <td>159</td>\n",
       "      <td>159</td>\n",
       "      <td>159</td>\n",
       "      <td>159</td>\n",
       "      <td>159</td>\n",
       "      <td>159</td>\n",
       "      <td>159</td>\n",
       "      <td>159</td>\n",
       "      <td>159</td>\n",
       "      <td>159</td>\n",
       "      <td>159</td>\n",
       "      <td>159.000000</td>\n",
       "    </tr>\n",
       "    <tr>\n",
       "      <th>unique</th>\n",
       "      <td>30</td>\n",
       "      <td>158</td>\n",
       "      <td>158</td>\n",
       "      <td>118</td>\n",
       "      <td>3</td>\n",
       "      <td>154</td>\n",
       "      <td>32</td>\n",
       "      <td>69</td>\n",
       "      <td>90</td>\n",
       "      <td>80</td>\n",
       "      <td>130</td>\n",
       "      <td>149</td>\n",
       "      <td>56</td>\n",
       "      <td>24</td>\n",
       "      <td>151</td>\n",
       "      <td>NaN</td>\n",
       "    </tr>\n",
       "    <tr>\n",
       "      <th>top</th>\n",
       "      <td>Dodge</td>\n",
       "      <td>Neon</td>\n",
       "      <td>$null$</td>\n",
       "      <td>$null$</td>\n",
       "      <td>0.000</td>\n",
       "      <td>12.640</td>\n",
       "      <td>2.000</td>\n",
       "      <td>170.000</td>\n",
       "      <td>112.200</td>\n",
       "      <td>74.400</td>\n",
       "      <td>186.300</td>\n",
       "      <td>2.998</td>\n",
       "      <td>18.500</td>\n",
       "      <td>25.000</td>\n",
       "      <td>3.672</td>\n",
       "      <td>NaN</td>\n",
       "    </tr>\n",
       "    <tr>\n",
       "      <th>freq</th>\n",
       "      <td>11</td>\n",
       "      <td>2</td>\n",
       "      <td>2</td>\n",
       "      <td>38</td>\n",
       "      <td>116</td>\n",
       "      <td>2</td>\n",
       "      <td>17</td>\n",
       "      <td>9</td>\n",
       "      <td>8</td>\n",
       "      <td>6</td>\n",
       "      <td>4</td>\n",
       "      <td>3</td>\n",
       "      <td>14</td>\n",
       "      <td>22</td>\n",
       "      <td>2</td>\n",
       "      <td>NaN</td>\n",
       "    </tr>\n",
       "    <tr>\n",
       "      <th>mean</th>\n",
       "      <td>NaN</td>\n",
       "      <td>NaN</td>\n",
       "      <td>NaN</td>\n",
       "      <td>NaN</td>\n",
       "      <td>NaN</td>\n",
       "      <td>NaN</td>\n",
       "      <td>NaN</td>\n",
       "      <td>NaN</td>\n",
       "      <td>NaN</td>\n",
       "      <td>NaN</td>\n",
       "      <td>NaN</td>\n",
       "      <td>NaN</td>\n",
       "      <td>NaN</td>\n",
       "      <td>NaN</td>\n",
       "      <td>NaN</td>\n",
       "      <td>0.012579</td>\n",
       "    </tr>\n",
       "    <tr>\n",
       "      <th>std</th>\n",
       "      <td>NaN</td>\n",
       "      <td>NaN</td>\n",
       "      <td>NaN</td>\n",
       "      <td>NaN</td>\n",
       "      <td>NaN</td>\n",
       "      <td>NaN</td>\n",
       "      <td>NaN</td>\n",
       "      <td>NaN</td>\n",
       "      <td>NaN</td>\n",
       "      <td>NaN</td>\n",
       "      <td>NaN</td>\n",
       "      <td>NaN</td>\n",
       "      <td>NaN</td>\n",
       "      <td>NaN</td>\n",
       "      <td>NaN</td>\n",
       "      <td>0.111799</td>\n",
       "    </tr>\n",
       "    <tr>\n",
       "      <th>min</th>\n",
       "      <td>NaN</td>\n",
       "      <td>NaN</td>\n",
       "      <td>NaN</td>\n",
       "      <td>NaN</td>\n",
       "      <td>NaN</td>\n",
       "      <td>NaN</td>\n",
       "      <td>NaN</td>\n",
       "      <td>NaN</td>\n",
       "      <td>NaN</td>\n",
       "      <td>NaN</td>\n",
       "      <td>NaN</td>\n",
       "      <td>NaN</td>\n",
       "      <td>NaN</td>\n",
       "      <td>NaN</td>\n",
       "      <td>NaN</td>\n",
       "      <td>0.000000</td>\n",
       "    </tr>\n",
       "    <tr>\n",
       "      <th>25%</th>\n",
       "      <td>NaN</td>\n",
       "      <td>NaN</td>\n",
       "      <td>NaN</td>\n",
       "      <td>NaN</td>\n",
       "      <td>NaN</td>\n",
       "      <td>NaN</td>\n",
       "      <td>NaN</td>\n",
       "      <td>NaN</td>\n",
       "      <td>NaN</td>\n",
       "      <td>NaN</td>\n",
       "      <td>NaN</td>\n",
       "      <td>NaN</td>\n",
       "      <td>NaN</td>\n",
       "      <td>NaN</td>\n",
       "      <td>NaN</td>\n",
       "      <td>0.000000</td>\n",
       "    </tr>\n",
       "    <tr>\n",
       "      <th>50%</th>\n",
       "      <td>NaN</td>\n",
       "      <td>NaN</td>\n",
       "      <td>NaN</td>\n",
       "      <td>NaN</td>\n",
       "      <td>NaN</td>\n",
       "      <td>NaN</td>\n",
       "      <td>NaN</td>\n",
       "      <td>NaN</td>\n",
       "      <td>NaN</td>\n",
       "      <td>NaN</td>\n",
       "      <td>NaN</td>\n",
       "      <td>NaN</td>\n",
       "      <td>NaN</td>\n",
       "      <td>NaN</td>\n",
       "      <td>NaN</td>\n",
       "      <td>0.000000</td>\n",
       "    </tr>\n",
       "    <tr>\n",
       "      <th>75%</th>\n",
       "      <td>NaN</td>\n",
       "      <td>NaN</td>\n",
       "      <td>NaN</td>\n",
       "      <td>NaN</td>\n",
       "      <td>NaN</td>\n",
       "      <td>NaN</td>\n",
       "      <td>NaN</td>\n",
       "      <td>NaN</td>\n",
       "      <td>NaN</td>\n",
       "      <td>NaN</td>\n",
       "      <td>NaN</td>\n",
       "      <td>NaN</td>\n",
       "      <td>NaN</td>\n",
       "      <td>NaN</td>\n",
       "      <td>NaN</td>\n",
       "      <td>0.000000</td>\n",
       "    </tr>\n",
       "    <tr>\n",
       "      <th>max</th>\n",
       "      <td>NaN</td>\n",
       "      <td>NaN</td>\n",
       "      <td>NaN</td>\n",
       "      <td>NaN</td>\n",
       "      <td>NaN</td>\n",
       "      <td>NaN</td>\n",
       "      <td>NaN</td>\n",
       "      <td>NaN</td>\n",
       "      <td>NaN</td>\n",
       "      <td>NaN</td>\n",
       "      <td>NaN</td>\n",
       "      <td>NaN</td>\n",
       "      <td>NaN</td>\n",
       "      <td>NaN</td>\n",
       "      <td>NaN</td>\n",
       "      <td>1.000000</td>\n",
       "    </tr>\n",
       "  </tbody>\n",
       "</table>\n",
       "</div>"
      ],
      "text/plain": [
       "       manufact model   sales  resale   type   price engine_s horsepow  \\\n",
       "count       157   159     159     159    159     159      159      159   \n",
       "unique       30   158     158     118      3     154       32       69   \n",
       "top       Dodge  Neon  $null$  $null$  0.000  12.640    2.000  170.000   \n",
       "freq         11     2       2      38    116       2       17        9   \n",
       "mean        NaN   NaN     NaN     NaN    NaN     NaN      NaN      NaN   \n",
       "std         NaN   NaN     NaN     NaN    NaN     NaN      NaN      NaN   \n",
       "min         NaN   NaN     NaN     NaN    NaN     NaN      NaN      NaN   \n",
       "25%         NaN   NaN     NaN     NaN    NaN     NaN      NaN      NaN   \n",
       "50%         NaN   NaN     NaN     NaN    NaN     NaN      NaN      NaN   \n",
       "75%         NaN   NaN     NaN     NaN    NaN     NaN      NaN      NaN   \n",
       "max         NaN   NaN     NaN     NaN    NaN     NaN      NaN      NaN   \n",
       "\n",
       "       wheelbas   width   length curb_wgt fuel_cap     mpg lnsales   partition  \n",
       "count       159     159      159      159      159     159     159  159.000000  \n",
       "unique       90      80      130      149       56      24     151         NaN  \n",
       "top     112.200  74.400  186.300    2.998   18.500  25.000   3.672         NaN  \n",
       "freq          8       6        4        3       14      22       2         NaN  \n",
       "mean        NaN     NaN      NaN      NaN      NaN     NaN     NaN    0.012579  \n",
       "std         NaN     NaN      NaN      NaN      NaN     NaN     NaN    0.111799  \n",
       "min         NaN     NaN      NaN      NaN      NaN     NaN     NaN    0.000000  \n",
       "25%         NaN     NaN      NaN      NaN      NaN     NaN     NaN    0.000000  \n",
       "50%         NaN     NaN      NaN      NaN      NaN     NaN     NaN    0.000000  \n",
       "75%         NaN     NaN      NaN      NaN      NaN     NaN     NaN    0.000000  \n",
       "max         NaN     NaN      NaN      NaN      NaN     NaN     NaN    1.000000  "
      ]
     },
     "execution_count": 5,
     "metadata": {},
     "output_type": "execute_result"
    }
   ],
   "source": [
    "df.describe(include='all')"
   ]
  },
  {
   "cell_type": "code",
   "execution_count": 6,
   "metadata": {},
   "outputs": [
    {
     "data": {
      "text/plain": [
       "(159, 16)"
      ]
     },
     "execution_count": 6,
     "metadata": {},
     "output_type": "execute_result"
    }
   ],
   "source": [
    "df.shape"
   ]
  },
  {
   "cell_type": "code",
   "execution_count": 7,
   "metadata": {},
   "outputs": [
    {
     "data": {
      "text/plain": [
       "Index(['manufact', 'model', 'sales', 'resale', 'type', 'price', 'engine_s',\n",
       "       'horsepow', 'wheelbas', 'width', 'length', 'curb_wgt', 'fuel_cap',\n",
       "       'mpg', 'lnsales', 'partition'],\n",
       "      dtype='object')"
      ]
     },
     "execution_count": 7,
     "metadata": {},
     "output_type": "execute_result"
    }
   ],
   "source": [
    "df.columns"
   ]
  },
  {
   "cell_type": "markdown",
   "metadata": {},
   "source": [
    "### Data Exploration"
   ]
  },
  {
   "cell_type": "code",
   "execution_count": null,
   "metadata": {},
   "outputs": [],
   "source": []
  },
  {
   "cell_type": "markdown",
   "metadata": {},
   "source": [
    "### Data Visualization"
   ]
  },
  {
   "cell_type": "markdown",
   "metadata": {},
   "source": [
    "### Univariate Data Exploration"
   ]
  },
  {
   "cell_type": "code",
   "execution_count": 8,
   "metadata": {},
   "outputs": [
    {
     "data": {
      "image/png": "[encoded data removed]",
      "text/plain": [
       "<Figure size 1440x1080 with 1 Axes>"
      ]
     },
     "metadata": {},
     "output_type": "display_data"
    }
   ],
   "source": [
    "df.hist(bins=50, figsize=(20,15))\n",
    "plt.show()"
   ]
  },
  {
   "cell_type": "code",
   "execution_count": 9,
   "metadata": {},
   "outputs": [
    {
     "data": {
      "text/html": [
       "<div>\n",
       "<style scoped>\n",
       "    .dataframe tbody tr th:only-of-type {\n",
       "        vertical-align: middle;\n",
       "    }\n",
       "\n",
       "    .dataframe tbody tr th {\n",
       "        vertical-align: top;\n",
       "    }\n",
       "\n",
       "    .dataframe thead th {\n",
       "        text-align: right;\n",
       "    }\n",
       "</style>\n",
       "<table border=\"1\" class=\"dataframe\">\n",
       "  <thead>\n",
       "    <tr style=\"text-align: right;\">\n",
       "      <th></th>\n",
       "      <th>partition</th>\n",
       "    </tr>\n",
       "  </thead>\n",
       "  <tbody>\n",
       "    <tr>\n",
       "      <th>partition</th>\n",
       "      <td>1.0</td>\n",
       "    </tr>\n",
       "  </tbody>\n",
       "</table>\n",
       "</div>"
      ],
      "text/plain": [
       "           partition\n",
       "partition        1.0"
      ]
     },
     "execution_count": 9,
     "metadata": {},
     "output_type": "execute_result"
    }
   ],
   "source": [
    "df.corr()"
   ]
  },
  {
   "cell_type": "code",
   "execution_count": 10,
   "metadata": {},
   "outputs": [
    {
     "data": {
      "image/png": "[encoded data removed]",
      "text/plain": [
       "<Figure size 1152x648 with 2 Axes>"
      ]
     },
     "metadata": {},
     "output_type": "display_data"
    }
   ],
   "source": [
    "plt.figure(figsize=(16,9))\n",
    "sns.heatmap(df.corr(),cmap=\"coolwarm\",annot=True,fmt='.2f',linewidths=2)\n",
    "plt.show()"
   ]
  },
  {
   "cell_type": "code",
   "execution_count": 11,
   "metadata": {},
   "outputs": [
    {
     "data": {
      "image/png": "[encoded data removed]",
      "text/plain": [
       "<Figure size 180x180 with 2 Axes>"
      ]
     },
     "metadata": {},
     "output_type": "display_data"
    }
   ],
   "source": [
    "sns.pairplot(df)\n",
    "plt.show()"
   ]
  },
  {
   "cell_type": "code",
   "execution_count": 12,
   "metadata": {},
   "outputs": [
    {
     "data": {
      "text/plain": [
       "manufact     2\n",
       "model        0\n",
       "sales        0\n",
       "resale       0\n",
       "type         0\n",
       "price        0\n",
       "engine_s     0\n",
       "horsepow     0\n",
       "wheelbas     0\n",
       "width        0\n",
       "length       0\n",
       "curb_wgt     0\n",
       "fuel_cap     0\n",
       "mpg          0\n",
       "lnsales      0\n",
       "partition    0\n",
       "dtype: int64"
      ]
     },
     "execution_count": 12,
     "metadata": {},
     "output_type": "execute_result"
    }
   ],
   "source": [
    "df.isnull().sum()"
   ]
  },
  {
   "cell_type": "code",
   "execution_count": 13,
   "metadata": {},
   "outputs": [],
   "source": [
    "df.dropna(inplace=True)"
   ]
  },
  {
   "cell_type": "code",
   "execution_count": 14,
   "metadata": {},
   "outputs": [
    {
     "data": {
      "text/plain": [
       "(157, 16)"
      ]
     },
     "execution_count": 14,
     "metadata": {},
     "output_type": "execute_result"
    }
   ],
   "source": [
    "df.shape"
   ]
  },
  {
   "cell_type": "code",
   "execution_count": 15,
   "metadata": {},
   "outputs": [],
   "source": [
    "df2 = df[['engine_s',  'horsepow', 'wheelbas', 'width', 'length', 'curb_wgt', 'fuel_cap', 'mpg']]"
   ]
  },
  {
   "cell_type": "code",
   "execution_count": 16,
   "metadata": {},
   "outputs": [
    {
     "data": {
      "text/html": [
       "<div>\n",
       "<style scoped>\n",
       "    .dataframe tbody tr th:only-of-type {\n",
       "        vertical-align: middle;\n",
       "    }\n",
       "\n",
       "    .dataframe tbody tr th {\n",
       "        vertical-align: top;\n",
       "    }\n",
       "\n",
       "    .dataframe thead th {\n",
       "        text-align: right;\n",
       "    }\n",
       "</style>\n",
       "<table border=\"1\" class=\"dataframe\">\n",
       "  <thead>\n",
       "    <tr style=\"text-align: right;\">\n",
       "      <th></th>\n",
       "      <th>engine_s</th>\n",
       "      <th>horsepow</th>\n",
       "      <th>wheelbas</th>\n",
       "      <th>width</th>\n",
       "      <th>length</th>\n",
       "      <th>curb_wgt</th>\n",
       "      <th>fuel_cap</th>\n",
       "      <th>mpg</th>\n",
       "    </tr>\n",
       "  </thead>\n",
       "  <tbody>\n",
       "    <tr>\n",
       "      <th>0</th>\n",
       "      <td>1.800</td>\n",
       "      <td>140.000</td>\n",
       "      <td>101.200</td>\n",
       "      <td>67.300</td>\n",
       "      <td>172.400</td>\n",
       "      <td>2.639</td>\n",
       "      <td>13.200</td>\n",
       "      <td>28.000</td>\n",
       "    </tr>\n",
       "    <tr>\n",
       "      <th>1</th>\n",
       "      <td>3.200</td>\n",
       "      <td>225.000</td>\n",
       "      <td>108.100</td>\n",
       "      <td>70.300</td>\n",
       "      <td>192.900</td>\n",
       "      <td>3.517</td>\n",
       "      <td>17.200</td>\n",
       "      <td>25.000</td>\n",
       "    </tr>\n",
       "    <tr>\n",
       "      <th>2</th>\n",
       "      <td>3.200</td>\n",
       "      <td>225.000</td>\n",
       "      <td>106.900</td>\n",
       "      <td>70.600</td>\n",
       "      <td>192.000</td>\n",
       "      <td>3.470</td>\n",
       "      <td>17.200</td>\n",
       "      <td>26.000</td>\n",
       "    </tr>\n",
       "    <tr>\n",
       "      <th>3</th>\n",
       "      <td>3.500</td>\n",
       "      <td>210.000</td>\n",
       "      <td>114.600</td>\n",
       "      <td>71.400</td>\n",
       "      <td>196.600</td>\n",
       "      <td>3.850</td>\n",
       "      <td>18.000</td>\n",
       "      <td>22.000</td>\n",
       "    </tr>\n",
       "    <tr>\n",
       "      <th>4</th>\n",
       "      <td>1.800</td>\n",
       "      <td>150.000</td>\n",
       "      <td>102.600</td>\n",
       "      <td>68.200</td>\n",
       "      <td>178.000</td>\n",
       "      <td>2.998</td>\n",
       "      <td>16.400</td>\n",
       "      <td>27.000</td>\n",
       "    </tr>\n",
       "    <tr>\n",
       "      <th>...</th>\n",
       "      <td>...</td>\n",
       "      <td>...</td>\n",
       "      <td>...</td>\n",
       "      <td>...</td>\n",
       "      <td>...</td>\n",
       "      <td>...</td>\n",
       "      <td>...</td>\n",
       "      <td>...</td>\n",
       "    </tr>\n",
       "    <tr>\n",
       "      <th>152</th>\n",
       "      <td>1.900</td>\n",
       "      <td>160.000</td>\n",
       "      <td>100.500</td>\n",
       "      <td>67.600</td>\n",
       "      <td>176.600</td>\n",
       "      <td>3.042</td>\n",
       "      <td>15.800</td>\n",
       "      <td>25.000</td>\n",
       "    </tr>\n",
       "    <tr>\n",
       "      <th>153</th>\n",
       "      <td>2.400</td>\n",
       "      <td>168.000</td>\n",
       "      <td>104.900</td>\n",
       "      <td>69.300</td>\n",
       "      <td>185.900</td>\n",
       "      <td>3.208</td>\n",
       "      <td>17.900</td>\n",
       "      <td>25.000</td>\n",
       "    </tr>\n",
       "    <tr>\n",
       "      <th>154</th>\n",
       "      <td>2.400</td>\n",
       "      <td>168.000</td>\n",
       "      <td>104.900</td>\n",
       "      <td>69.300</td>\n",
       "      <td>186.200</td>\n",
       "      <td>3.259</td>\n",
       "      <td>17.900</td>\n",
       "      <td>25.000</td>\n",
       "    </tr>\n",
       "    <tr>\n",
       "      <th>155</th>\n",
       "      <td>2.300</td>\n",
       "      <td>236.000</td>\n",
       "      <td>104.900</td>\n",
       "      <td>71.500</td>\n",
       "      <td>185.700</td>\n",
       "      <td>3.601</td>\n",
       "      <td>18.500</td>\n",
       "      <td>23.000</td>\n",
       "    </tr>\n",
       "    <tr>\n",
       "      <th>156</th>\n",
       "      <td>2.900</td>\n",
       "      <td>201.000</td>\n",
       "      <td>109.900</td>\n",
       "      <td>72.100</td>\n",
       "      <td>189.800</td>\n",
       "      <td>3.600</td>\n",
       "      <td>21.100</td>\n",
       "      <td>24.000</td>\n",
       "    </tr>\n",
       "  </tbody>\n",
       "</table>\n",
       "<p>157 rows × 8 columns</p>\n",
       "</div>"
      ],
      "text/plain": [
       "    engine_s horsepow wheelbas   width   length curb_wgt fuel_cap     mpg\n",
       "0      1.800  140.000  101.200  67.300  172.400    2.639   13.200  28.000\n",
       "1      3.200  225.000  108.100  70.300  192.900    3.517   17.200  25.000\n",
       "2      3.200  225.000  106.900  70.600  192.000    3.470   17.200  26.000\n",
       "3      3.500  210.000  114.600  71.400  196.600    3.850   18.000  22.000\n",
       "4      1.800  150.000  102.600  68.200  178.000    2.998   16.400  27.000\n",
       "..       ...      ...      ...     ...      ...      ...      ...     ...\n",
       "152    1.900  160.000  100.500  67.600  176.600    3.042   15.800  25.000\n",
       "153    2.400  168.000  104.900  69.300  185.900    3.208   17.900  25.000\n",
       "154    2.400  168.000  104.900  69.300  186.200    3.259   17.900  25.000\n",
       "155    2.300  236.000  104.900  71.500  185.700    3.601   18.500  23.000\n",
       "156    2.900  201.000  109.900  72.100  189.800    3.600   21.100  24.000\n",
       "\n",
       "[157 rows x 8 columns]"
      ]
     },
     "execution_count": 16,
     "metadata": {},
     "output_type": "execute_result"
    }
   ],
   "source": [
    "df2"
   ]
  },
  {
   "cell_type": "markdown",
   "metadata": {},
   "source": [
    "### Model Training"
   ]
  },
  {
   "cell_type": "markdown",
   "metadata": {},
   "source": [
    "### Using PyCaret"
   ]
  },
  {
   "cell_type": "code",
   "execution_count": 17,
   "metadata": {},
   "outputs": [
    {
     "name": "stdout",
     "output_type": "stream",
     "text": [
      "\n",
      "Setup Succesfully Completed!\n"
     ]
    },
    {
     "data": {
      "text/html": [
       "<style  type=\"text/css\" >\n",
       "    #T_af3d7e5c_bf6f_11ea_b64d_3c528213d836row10_col1 {\n",
       "            background-color:  lightgreen;\n",
       "        }</style><table id=\"T_af3d7e5c_bf6f_11ea_b64d_3c528213d836\" ><thead>    <tr>        <th class=\"blank level0\" ></th>        <th class=\"col_heading level0 col0\" >Description</th>        <th class=\"col_heading level0 col1\" >Value</th>    </tr></thead><tbody>\n",
       "                <tr>\n",
       "                        <th id=\"T_af3d7e5c_bf6f_11ea_b64d_3c528213d836level0_row0\" class=\"row_heading level0 row0\" >0</th>\n",
       "                        <td id=\"T_af3d7e5c_bf6f_11ea_b64d_3c528213d836row0_col0\" class=\"data row0 col0\" >session_id </td>\n",
       "                        <td id=\"T_af3d7e5c_bf6f_11ea_b64d_3c528213d836row0_col1\" class=\"data row0 col1\" >123</td>\n",
       "            </tr>\n",
       "            <tr>\n",
       "                        <th id=\"T_af3d7e5c_bf6f_11ea_b64d_3c528213d836level0_row1\" class=\"row_heading level0 row1\" >1</th>\n",
       "                        <td id=\"T_af3d7e5c_bf6f_11ea_b64d_3c528213d836row1_col0\" class=\"data row1 col0\" >Original Data </td>\n",
       "                        <td id=\"T_af3d7e5c_bf6f_11ea_b64d_3c528213d836row1_col1\" class=\"data row1 col1\" >(157, 8)</td>\n",
       "            </tr>\n",
       "            <tr>\n",
       "                        <th id=\"T_af3d7e5c_bf6f_11ea_b64d_3c528213d836level0_row2\" class=\"row_heading level0 row2\" >2</th>\n",
       "                        <td id=\"T_af3d7e5c_bf6f_11ea_b64d_3c528213d836row2_col0\" class=\"data row2 col0\" >Missing Values </td>\n",
       "                        <td id=\"T_af3d7e5c_bf6f_11ea_b64d_3c528213d836row2_col1\" class=\"data row2 col1\" >False</td>\n",
       "            </tr>\n",
       "            <tr>\n",
       "                        <th id=\"T_af3d7e5c_bf6f_11ea_b64d_3c528213d836level0_row3\" class=\"row_heading level0 row3\" >3</th>\n",
       "                        <td id=\"T_af3d7e5c_bf6f_11ea_b64d_3c528213d836row3_col0\" class=\"data row3 col0\" >Numeric Features </td>\n",
       "                        <td id=\"T_af3d7e5c_bf6f_11ea_b64d_3c528213d836row3_col1\" class=\"data row3 col1\" >0</td>\n",
       "            </tr>\n",
       "            <tr>\n",
       "                        <th id=\"T_af3d7e5c_bf6f_11ea_b64d_3c528213d836level0_row4\" class=\"row_heading level0 row4\" >4</th>\n",
       "                        <td id=\"T_af3d7e5c_bf6f_11ea_b64d_3c528213d836row4_col0\" class=\"data row4 col0\" >Categorical Features </td>\n",
       "                        <td id=\"T_af3d7e5c_bf6f_11ea_b64d_3c528213d836row4_col1\" class=\"data row4 col1\" >8</td>\n",
       "            </tr>\n",
       "            <tr>\n",
       "                        <th id=\"T_af3d7e5c_bf6f_11ea_b64d_3c528213d836level0_row5\" class=\"row_heading level0 row5\" >5</th>\n",
       "                        <td id=\"T_af3d7e5c_bf6f_11ea_b64d_3c528213d836row5_col0\" class=\"data row5 col0\" >Ordinal Features </td>\n",
       "                        <td id=\"T_af3d7e5c_bf6f_11ea_b64d_3c528213d836row5_col1\" class=\"data row5 col1\" >False</td>\n",
       "            </tr>\n",
       "            <tr>\n",
       "                        <th id=\"T_af3d7e5c_bf6f_11ea_b64d_3c528213d836level0_row6\" class=\"row_heading level0 row6\" >6</th>\n",
       "                        <td id=\"T_af3d7e5c_bf6f_11ea_b64d_3c528213d836row6_col0\" class=\"data row6 col0\" >High Cardinality Features </td>\n",
       "                        <td id=\"T_af3d7e5c_bf6f_11ea_b64d_3c528213d836row6_col1\" class=\"data row6 col1\" >False</td>\n",
       "            </tr>\n",
       "            <tr>\n",
       "                        <th id=\"T_af3d7e5c_bf6f_11ea_b64d_3c528213d836level0_row7\" class=\"row_heading level0 row7\" >7</th>\n",
       "                        <td id=\"T_af3d7e5c_bf6f_11ea_b64d_3c528213d836row7_col0\" class=\"data row7 col0\" >Transformed Data </td>\n",
       "                        <td id=\"T_af3d7e5c_bf6f_11ea_b64d_3c528213d836row7_col1\" class=\"data row7 col1\" >(157, 622)</td>\n",
       "            </tr>\n",
       "            <tr>\n",
       "                        <th id=\"T_af3d7e5c_bf6f_11ea_b64d_3c528213d836level0_row8\" class=\"row_heading level0 row8\" >8</th>\n",
       "                        <td id=\"T_af3d7e5c_bf6f_11ea_b64d_3c528213d836row8_col0\" class=\"data row8 col0\" >Numeric Imputer </td>\n",
       "                        <td id=\"T_af3d7e5c_bf6f_11ea_b64d_3c528213d836row8_col1\" class=\"data row8 col1\" >mean</td>\n",
       "            </tr>\n",
       "            <tr>\n",
       "                        <th id=\"T_af3d7e5c_bf6f_11ea_b64d_3c528213d836level0_row9\" class=\"row_heading level0 row9\" >9</th>\n",
       "                        <td id=\"T_af3d7e5c_bf6f_11ea_b64d_3c528213d836row9_col0\" class=\"data row9 col0\" >Categorical Imputer </td>\n",
       "                        <td id=\"T_af3d7e5c_bf6f_11ea_b64d_3c528213d836row9_col1\" class=\"data row9 col1\" >constant</td>\n",
       "            </tr>\n",
       "            <tr>\n",
       "                        <th id=\"T_af3d7e5c_bf6f_11ea_b64d_3c528213d836level0_row10\" class=\"row_heading level0 row10\" >10</th>\n",
       "                        <td id=\"T_af3d7e5c_bf6f_11ea_b64d_3c528213d836row10_col0\" class=\"data row10 col0\" >Normalize </td>\n",
       "                        <td id=\"T_af3d7e5c_bf6f_11ea_b64d_3c528213d836row10_col1\" class=\"data row10 col1\" >True</td>\n",
       "            </tr>\n",
       "            <tr>\n",
       "                        <th id=\"T_af3d7e5c_bf6f_11ea_b64d_3c528213d836level0_row11\" class=\"row_heading level0 row11\" >11</th>\n",
       "                        <td id=\"T_af3d7e5c_bf6f_11ea_b64d_3c528213d836row11_col0\" class=\"data row11 col0\" >Normalize Method </td>\n",
       "                        <td id=\"T_af3d7e5c_bf6f_11ea_b64d_3c528213d836row11_col1\" class=\"data row11 col1\" >minmax</td>\n",
       "            </tr>\n",
       "            <tr>\n",
       "                        <th id=\"T_af3d7e5c_bf6f_11ea_b64d_3c528213d836level0_row12\" class=\"row_heading level0 row12\" >12</th>\n",
       "                        <td id=\"T_af3d7e5c_bf6f_11ea_b64d_3c528213d836row12_col0\" class=\"data row12 col0\" >Transformation </td>\n",
       "                        <td id=\"T_af3d7e5c_bf6f_11ea_b64d_3c528213d836row12_col1\" class=\"data row12 col1\" >False</td>\n",
       "            </tr>\n",
       "            <tr>\n",
       "                        <th id=\"T_af3d7e5c_bf6f_11ea_b64d_3c528213d836level0_row13\" class=\"row_heading level0 row13\" >13</th>\n",
       "                        <td id=\"T_af3d7e5c_bf6f_11ea_b64d_3c528213d836row13_col0\" class=\"data row13 col0\" >Transformation Method </td>\n",
       "                        <td id=\"T_af3d7e5c_bf6f_11ea_b64d_3c528213d836row13_col1\" class=\"data row13 col1\" >None</td>\n",
       "            </tr>\n",
       "            <tr>\n",
       "                        <th id=\"T_af3d7e5c_bf6f_11ea_b64d_3c528213d836level0_row14\" class=\"row_heading level0 row14\" >14</th>\n",
       "                        <td id=\"T_af3d7e5c_bf6f_11ea_b64d_3c528213d836row14_col0\" class=\"data row14 col0\" >PCA </td>\n",
       "                        <td id=\"T_af3d7e5c_bf6f_11ea_b64d_3c528213d836row14_col1\" class=\"data row14 col1\" >False</td>\n",
       "            </tr>\n",
       "            <tr>\n",
       "                        <th id=\"T_af3d7e5c_bf6f_11ea_b64d_3c528213d836level0_row15\" class=\"row_heading level0 row15\" >15</th>\n",
       "                        <td id=\"T_af3d7e5c_bf6f_11ea_b64d_3c528213d836row15_col0\" class=\"data row15 col0\" >PCA Method </td>\n",
       "                        <td id=\"T_af3d7e5c_bf6f_11ea_b64d_3c528213d836row15_col1\" class=\"data row15 col1\" >None</td>\n",
       "            </tr>\n",
       "            <tr>\n",
       "                        <th id=\"T_af3d7e5c_bf6f_11ea_b64d_3c528213d836level0_row16\" class=\"row_heading level0 row16\" >16</th>\n",
       "                        <td id=\"T_af3d7e5c_bf6f_11ea_b64d_3c528213d836row16_col0\" class=\"data row16 col0\" >PCA components </td>\n",
       "                        <td id=\"T_af3d7e5c_bf6f_11ea_b64d_3c528213d836row16_col1\" class=\"data row16 col1\" >None</td>\n",
       "            </tr>\n",
       "            <tr>\n",
       "                        <th id=\"T_af3d7e5c_bf6f_11ea_b64d_3c528213d836level0_row17\" class=\"row_heading level0 row17\" >17</th>\n",
       "                        <td id=\"T_af3d7e5c_bf6f_11ea_b64d_3c528213d836row17_col0\" class=\"data row17 col0\" >Ignore Low Variance </td>\n",
       "                        <td id=\"T_af3d7e5c_bf6f_11ea_b64d_3c528213d836row17_col1\" class=\"data row17 col1\" >False</td>\n",
       "            </tr>\n",
       "            <tr>\n",
       "                        <th id=\"T_af3d7e5c_bf6f_11ea_b64d_3c528213d836level0_row18\" class=\"row_heading level0 row18\" >18</th>\n",
       "                        <td id=\"T_af3d7e5c_bf6f_11ea_b64d_3c528213d836row18_col0\" class=\"data row18 col0\" >Combine Rare Levels </td>\n",
       "                        <td id=\"T_af3d7e5c_bf6f_11ea_b64d_3c528213d836row18_col1\" class=\"data row18 col1\" >False</td>\n",
       "            </tr>\n",
       "            <tr>\n",
       "                        <th id=\"T_af3d7e5c_bf6f_11ea_b64d_3c528213d836level0_row19\" class=\"row_heading level0 row19\" >19</th>\n",
       "                        <td id=\"T_af3d7e5c_bf6f_11ea_b64d_3c528213d836row19_col0\" class=\"data row19 col0\" >Rare Level Threshold </td>\n",
       "                        <td id=\"T_af3d7e5c_bf6f_11ea_b64d_3c528213d836row19_col1\" class=\"data row19 col1\" >None</td>\n",
       "            </tr>\n",
       "            <tr>\n",
       "                        <th id=\"T_af3d7e5c_bf6f_11ea_b64d_3c528213d836level0_row20\" class=\"row_heading level0 row20\" >20</th>\n",
       "                        <td id=\"T_af3d7e5c_bf6f_11ea_b64d_3c528213d836row20_col0\" class=\"data row20 col0\" >Numeric Binning </td>\n",
       "                        <td id=\"T_af3d7e5c_bf6f_11ea_b64d_3c528213d836row20_col1\" class=\"data row20 col1\" >False</td>\n",
       "            </tr>\n",
       "            <tr>\n",
       "                        <th id=\"T_af3d7e5c_bf6f_11ea_b64d_3c528213d836level0_row21\" class=\"row_heading level0 row21\" >21</th>\n",
       "                        <td id=\"T_af3d7e5c_bf6f_11ea_b64d_3c528213d836row21_col0\" class=\"data row21 col0\" >Remove Multicollinearity </td>\n",
       "                        <td id=\"T_af3d7e5c_bf6f_11ea_b64d_3c528213d836row21_col1\" class=\"data row21 col1\" >False</td>\n",
       "            </tr>\n",
       "            <tr>\n",
       "                        <th id=\"T_af3d7e5c_bf6f_11ea_b64d_3c528213d836level0_row22\" class=\"row_heading level0 row22\" >22</th>\n",
       "                        <td id=\"T_af3d7e5c_bf6f_11ea_b64d_3c528213d836row22_col0\" class=\"data row22 col0\" >Multicollinearity Threshold </td>\n",
       "                        <td id=\"T_af3d7e5c_bf6f_11ea_b64d_3c528213d836row22_col1\" class=\"data row22 col1\" >None</td>\n",
       "            </tr>\n",
       "            <tr>\n",
       "                        <th id=\"T_af3d7e5c_bf6f_11ea_b64d_3c528213d836level0_row23\" class=\"row_heading level0 row23\" >23</th>\n",
       "                        <td id=\"T_af3d7e5c_bf6f_11ea_b64d_3c528213d836row23_col0\" class=\"data row23 col0\" >Group Features </td>\n",
       "                        <td id=\"T_af3d7e5c_bf6f_11ea_b64d_3c528213d836row23_col1\" class=\"data row23 col1\" >False</td>\n",
       "            </tr>\n",
       "    </tbody></table>"
      ],
      "text/plain": [
       "<pandas.io.formats.style.Styler at 0x1496d3dc788>"
      ]
     },
     "metadata": {},
     "output_type": "display_data"
    }
   ],
   "source": [
    "exp_clu = setup(data = df2, session_id=123, normalize=True, normalize_method='minmax') "
   ]
  },
  {
   "cell_type": "code",
   "execution_count": 18,
   "metadata": {},
   "outputs": [],
   "source": [
    "kmeans = create_model('kmeans', num_clusters=3)"
   ]
  },
  {
   "cell_type": "code",
   "execution_count": 19,
   "metadata": {},
   "outputs": [
    {
     "name": "stdout",
     "output_type": "stream",
     "text": [
      "KMeans(algorithm='auto', copy_x=True, init='k-means++', max_iter=300,\n",
      "       n_clusters=3, n_init=10, n_jobs=None, precompute_distances='auto',\n",
      "       random_state=123, tol=0.0001, verbose=0)\n"
     ]
    }
   ],
   "source": [
    "print(kmeans)"
   ]
  },
  {
   "cell_type": "code",
   "execution_count": 20,
   "metadata": {},
   "outputs": [
    {
     "data": {
      "text/html": [
       "<div>\n",
       "<style scoped>\n",
       "    .dataframe tbody tr th:only-of-type {\n",
       "        vertical-align: middle;\n",
       "    }\n",
       "\n",
       "    .dataframe tbody tr th {\n",
       "        vertical-align: top;\n",
       "    }\n",
       "\n",
       "    .dataframe thead th {\n",
       "        text-align: right;\n",
       "    }\n",
       "</style>\n",
       "<table border=\"1\" class=\"dataframe\">\n",
       "  <thead>\n",
       "    <tr style=\"text-align: right;\">\n",
       "      <th></th>\n",
       "      <th>engine_s</th>\n",
       "      <th>horsepow</th>\n",
       "      <th>wheelbas</th>\n",
       "      <th>width</th>\n",
       "      <th>length</th>\n",
       "      <th>curb_wgt</th>\n",
       "      <th>fuel_cap</th>\n",
       "      <th>mpg</th>\n",
       "      <th>Cluster</th>\n",
       "    </tr>\n",
       "  </thead>\n",
       "  <tbody>\n",
       "    <tr>\n",
       "      <th>0</th>\n",
       "      <td>1.800</td>\n",
       "      <td>140.000</td>\n",
       "      <td>101.200</td>\n",
       "      <td>67.300</td>\n",
       "      <td>172.400</td>\n",
       "      <td>2.639</td>\n",
       "      <td>13.200</td>\n",
       "      <td>28.000</td>\n",
       "      <td>Cluster 0</td>\n",
       "    </tr>\n",
       "    <tr>\n",
       "      <th>1</th>\n",
       "      <td>3.200</td>\n",
       "      <td>225.000</td>\n",
       "      <td>108.100</td>\n",
       "      <td>70.300</td>\n",
       "      <td>192.900</td>\n",
       "      <td>3.517</td>\n",
       "      <td>17.200</td>\n",
       "      <td>25.000</td>\n",
       "      <td>Cluster 2</td>\n",
       "    </tr>\n",
       "    <tr>\n",
       "      <th>2</th>\n",
       "      <td>3.200</td>\n",
       "      <td>225.000</td>\n",
       "      <td>106.900</td>\n",
       "      <td>70.600</td>\n",
       "      <td>192.000</td>\n",
       "      <td>3.470</td>\n",
       "      <td>17.200</td>\n",
       "      <td>26.000</td>\n",
       "      <td>Cluster 0</td>\n",
       "    </tr>\n",
       "    <tr>\n",
       "      <th>3</th>\n",
       "      <td>3.500</td>\n",
       "      <td>210.000</td>\n",
       "      <td>114.600</td>\n",
       "      <td>71.400</td>\n",
       "      <td>196.600</td>\n",
       "      <td>3.850</td>\n",
       "      <td>18.000</td>\n",
       "      <td>22.000</td>\n",
       "      <td>Cluster 0</td>\n",
       "    </tr>\n",
       "    <tr>\n",
       "      <th>4</th>\n",
       "      <td>1.800</td>\n",
       "      <td>150.000</td>\n",
       "      <td>102.600</td>\n",
       "      <td>68.200</td>\n",
       "      <td>178.000</td>\n",
       "      <td>2.998</td>\n",
       "      <td>16.400</td>\n",
       "      <td>27.000</td>\n",
       "      <td>Cluster 1</td>\n",
       "    </tr>\n",
       "  </tbody>\n",
       "</table>\n",
       "</div>"
      ],
      "text/plain": [
       "  engine_s horsepow wheelbas   width   length curb_wgt fuel_cap     mpg  \\\n",
       "0    1.800  140.000  101.200  67.300  172.400    2.639   13.200  28.000   \n",
       "1    3.200  225.000  108.100  70.300  192.900    3.517   17.200  25.000   \n",
       "2    3.200  225.000  106.900  70.600  192.000    3.470   17.200  26.000   \n",
       "3    3.500  210.000  114.600  71.400  196.600    3.850   18.000  22.000   \n",
       "4    1.800  150.000  102.600  68.200  178.000    2.998   16.400  27.000   \n",
       "\n",
       "     Cluster  \n",
       "0  Cluster 0  \n",
       "1  Cluster 2  \n",
       "2  Cluster 0  \n",
       "3  Cluster 0  \n",
       "4  Cluster 1  "
      ]
     },
     "execution_count": 20,
     "metadata": {},
     "output_type": "execute_result"
    }
   ],
   "source": [
    "kmean_results = assign_model(kmeans)\n",
    "kmean_results.head()"
   ]
  },
  {
   "cell_type": "code",
   "execution_count": 21,
   "metadata": {},
   "outputs": [
    {
     "data": {
      "text/html": [
       "        <script type=\"text/javascript\">\n",
       "        window.PlotlyConfig = {MathJaxConfig: 'local'};\n",
       "        if (window.MathJax) {MathJax.Hub.Config({SVG: {font: \"STIX-Web\"}});}\n",
       "        if (typeof require !== 'undefined') {\n",
       "        require.undef(\"plotly\");\n",
       "        requirejs.config({\n",
       "            paths: {\n",
       "                'plotly': ['https://cdn.plot.ly/plotly-latest.min']\n",
       "            }\n",
       "        });\n",
       "        require(['plotly'], function(Plotly) {\n",
       "            window._Plotly = Plotly;\n",
       "        });\n",
       "        }\n",
       "        </script>\n",
       "        "
      ]
     },
     "metadata": {},
     "output_type": "display_data"
    },
    {
     "data": {
      "application/vnd.plotly.v1+json": {
       "config": {
        "plotlyServerURL": "https://plot.ly"
       },
       "data": [
        {
         "customdata": [
          [
           "1.800"
          ],
          [
           "3.200"
          ],
          [
           "3.200"
          ],
          [
           "3.500"
          ],
          [
           "1.800"
          ],
          [
           "2.800"
          ],
          [
           "4.200"
          ],
          [
           "2.500"
          ],
          [
           "2.800"
          ],
          [
           "2.800"
          ],
          [
           "3.100"
          ],
          [
           "3.800"
          ],
          [
           "3.800"
          ],
          [
           "3.800"
          ],
          [
           "4.600"
          ],
          [
           "4.600"
          ],
          [
           "4.600"
          ],
          [
           "3.000"
          ],
          [
           "5.700"
          ],
          [
           "2.200"
          ],
          [
           "3.100"
          ],
          [
           "3.100"
          ],
          [
           "3.400"
          ],
          [
           "3.800"
          ],
          [
           "5.700"
          ],
          [
           "1.800"
          ],
          [
           "1.000"
          ],
          [
           "3.400"
          ],
          [
           "2.500"
          ],
          [
           "2.500"
          ],
          [
           "2.700"
          ],
          [
           "2.000"
          ],
          [
           "3.500"
          ],
          [
           "$null$"
          ],
          [
           "3.500"
          ],
          [
           "2.000"
          ],
          [
           "2.500"
          ],
          [
           "2.500"
          ],
          [
           "2.700"
          ],
          [
           "8.000"
          ],
          [
           "5.200"
          ],
          [
           "3.900"
          ],
          [
           "3.900"
          ],
          [
           "2.500"
          ],
          [
           "5.200"
          ],
          [
           "2.400"
          ],
          [
           "2.000"
          ],
          [
           "3.800"
          ],
          [
           "2.500"
          ],
          [
           "3.000"
          ],
          [
           "2.000"
          ],
          [
           "4.600"
          ],
          [
           "4.000"
          ],
          [
           "3.000"
          ],
          [
           "4.600"
          ],
          [
           "2.500"
          ],
          [
           "4.600"
          ],
          [
           "1.600"
          ],
          [
           "2.300"
          ],
          [
           "2.000"
          ],
          [
           "3.200"
          ],
          [
           "3.500"
          ],
          [
           "1.500"
          ],
          [
           "2.000"
          ],
          [
           "2.400"
          ],
          [
           "3.000"
          ],
          [
           "3.000"
          ],
          [
           "2.500"
          ],
          [
           "4.000"
          ],
          [
           "4.000"
          ],
          [
           "3.000"
          ],
          [
           "3.000"
          ],
          [
           "4.000"
          ],
          [
           "4.000"
          ],
          [
           "4.700"
          ],
          [
           "3.000"
          ],
          [
           "4.600"
          ],
          [
           "4.600"
          ],
          [
           "5.400"
          ],
          [
           "1.800"
          ],
          [
           "2.400"
          ],
          [
           "2.400"
          ],
          [
           "3.500"
          ],
          [
           "3.000"
          ],
          [
           "3.500"
          ],
          [
           "3.000"
          ],
          [
           "2.000"
          ],
          [
           "2.000"
          ],
          [
           "3.000"
          ],
          [
           "4.600"
          ],
          [
           "4.000"
          ],
          [
           "3.300"
          ],
          [
           "2.300"
          ],
          [
           "3.200"
          ],
          [
           "4.300"
          ],
          [
           "5.000"
          ],
          [
           "2.300"
          ],
          [
           "2.300"
          ],
          [
           "3.200"
          ],
          [
           "5.000"
          ],
          [
           "3.200"
          ],
          [
           "1.800"
          ],
          [
           "2.400"
          ],
          [
           "3.000"
          ],
          [
           "3.300"
          ],
          [
           "3.300"
          ],
          [
           "3.300"
          ],
          [
           "3.300"
          ],
          [
           "3.100"
          ],
          [
           "3.500"
          ],
          [
           "2.400"
          ],
          [
           "4.000"
          ]
         ],
         "hoverlabel": {
          "namelength": 0
         },
         "hovertemplate": "Cluster=Cluster 0<br>PCA1=%{x}<br>PCA2=%{y}<br>Feature=%{customdata[0]}",
         "legendgroup": "Cluster=Cluster 0",
         "marker": {
          "color": "#636efa",
          "opacity": 0.5,
          "symbol": "circle"
         },
         "mode": "markers",
         "name": "Cluster=Cluster 0",
         "showlegend": true,
         "textposition": "top center",
         "type": "scatter",
         "x": [
          0.2743786207818731,
          -0.07955899771449632,
          -0.03061427411176268,
          0.33474927828043965,
          0.33534806240224074,
          -0.02396496856838382,
          -0.1788283870764237,
          0.4367309728463564,
          -0.36367012268926363,
          -0.1302881346595493,
          -0.37217111127790475,
          -0.020159985779019257,
          0.8600488032617233,
          -0.04103430847065146,
          -0.14281164620966394,
          -0.23881899093016054,
          -0.2790431579461635,
          -0.10414408888647073,
          0.28293852597644814,
          -0.1757611272075952,
          -0.2707942908447125,
          -0.36223190535009264,
          -0.2470761262252103,
          -0.11851516393178194,
          -0.24080471777859744,
          -0.20211941188409763,
          -0.21400908962985307,
          -0.3140736418117602,
          -0.040586924135590195,
          -0.14588359210970792,
          0.2805509475889126,
          0.03864255198990881,
          -0.37606119514265474,
          -0.13731130511569517,
          1.5694387567379973,
          1.559866845259913,
          1.2604501873383542,
          1.6610599545106404,
          1.7078307615746144,
          -0.11851516393347906,
          -0.1663847445707307,
          -0.24650929189756554,
          -0.14324978561741447,
          0.5524689321767311,
          0.014015630121506997,
          0.32491051959393985,
          0.11558479094095245,
          0.021776841130678258,
          0.023352008433372273,
          0.024097641210013333,
          0.620403727972058,
          -0.16696294588127683,
          -0.04508382975674525,
          -0.12080690541404455,
          -0.08852556992322198,
          -0.06331590688949648,
          -0.15749023264342563,
          -0.19706107274062817,
          0.9620749489898174,
          -0.10103464406166046,
          -0.21363700277660277,
          -0.1384068263845123,
          -0.13044731136207757,
          -0.14955648260760313,
          -0.27081345212577,
          -0.023346271580854328,
          -0.03251481813447185,
          -0.055649344372292055,
          0.022765593683072516,
          0.21542352176466611,
          -0.08181865125643434,
          -0.08986075231209317,
          0.9620749489933405,
          0.02402439894058626,
          -0.011260742918041734,
          -0.1602372556391828,
          0.024024399107300025,
          0.2986405263143496,
          0.03698788957013806,
          -0.07472535405031792,
          -0.3966244104467703,
          -0.44685898227691073,
          -0.22176542890825165,
          0.009804393408823385,
          0.2892202088892759,
          -0.4113114882458058,
          -0.14379714246441386,
          -0.02235661537054534,
          -0.08001960526548293,
          -0.08814364366150139,
          -0.014731717889792124,
          -0.020132216134581285,
          -0.16966387503128907,
          0.6528408206625107,
          -0.12365464965718642,
          -0.2667434431994165,
          -0.030509297971950754,
          -0.12782846266565406,
          -0.22955825888048007,
          -0.3721711112772228,
          -0.11259271406408203,
          0.8258731890745723,
          -0.056595636124801486,
          -0.35322613520414664,
          -0.10059051274723167,
          0.7558786735167461,
          -0.12857227517733266,
          -0.19706107274186105,
          0.03198867971426108,
          0.21369823275386862,
          -0.16666498525531806,
          0.03485279803286501
         ],
         "xaxis": "x",
         "y": [
          0.01611031036642268,
          -0.25858771527125685,
          -0.1143270659176539,
          -0.07290783518687417,
          0.09897849507689112,
          -0.03545770385106022,
          -0.45104971645974673,
          -0.09547049679911362,
          -0.39622657958172797,
          -0.34805896993419755,
          -0.909700989608502,
          0.18575231695294603,
          0.1819443071841568,
          -0.18750556578206987,
          -0.3261901895202817,
          -0.4971388125451566,
          -0.8266230853442473,
          0.6459383689726054,
          -0.010998635434779136,
          -0.3620046753053966,
          -0.8052532594007153,
          -0.7732302354776678,
          -0.42477419721282317,
          -0.14094218638111045,
          -0.5210308624538601,
          -0.5704421262209828,
          -0.4676225764741591,
          -0.6269476726275135,
          -0.12467020893390672,
          -0.10800231464354387,
          -9.93262749527782e-05,
          -0.030660809957098495,
          -0.416794012812769,
          -0.057489849761636715,
          0.1749090218011506,
          0.14251238741758865,
          0.08521654959185748,
          0.15691294112730805,
          0.16141667434680965,
          -0.14094218638576717,
          -0.3346539648643462,
          -0.5298522205164521,
          0.059205585481746495,
          0.060083355582146225,
          -0.5238547017546376,
          0.0005394419059658953,
          0.5652364609766121,
          0.03328878183146891,
          0.03314073953048667,
          0.03407150340449211,
          -0.10889395127071173,
          -0.40578752309867816,
          -0.49716237642940103,
          -0.5835935057249815,
          -0.5483028657538014,
          -0.28767067803027946,
          -0.48559906273219017,
          0.6501747199543773,
          0.008818146714326675,
          -0.4825926478351649,
          -0.7119902270003172,
          -0.3512685817122478,
          -0.10330977832418776,
          -0.07304261930892358,
          -0.44137013747262993,
          -0.13292345865179056,
          0.25816678874827864,
          -0.2338900397752758,
          -0.3353213601510288,
          0.611915032744366,
          0.26593117629751784,
          0.6558859502111203,
          0.008818146719164439,
          -0.6865782768000237,
          -0.10160949732713188,
          -0.28090831658480225,
          -0.686578277428597,
          -0.474318854789775,
          0.5783759849695203,
          0.5993839970953816,
          -0.8862208007903948,
          -0.929616022766467,
          -0.8427294134578053,
          -0.03725039585098271,
          -0.006271786147411984,
          -0.6409303314232472,
          -0.44494738814084706,
          -0.0959811687620433,
          0.02977652704734327,
          -8.62847907607096e-05,
          -0.09013200475316276,
          -0.13419912635314277,
          -0.014489604284982098,
          0.3598735591611429,
          -0.3436373757173869,
          -0.3163597134694371,
          0.11202270484712769,
          -0.3170691243817089,
          -0.6876568781356776,
          -0.9097009896077556,
          -0.34292955424208327,
          0.07471990557387126,
          0.2429400797247919,
          -0.6261924049547345,
          -0.4094714878150402,
          0.08255086801421305,
          0.22857864652508633,
          0.6501747199507537,
          -0.03496374204796561,
          0.018485767333721162,
          -0.5290006134882556,
          -0.024438230273579307
         ],
         "yaxis": "y"
        },
        {
         "customdata": [
          [
           "4.300"
          ],
          [
           "3.400"
          ],
          [
           "2.000"
          ],
          [
           "2.000"
          ],
          [
           "2.400"
          ],
          [
           "3.500"
          ],
          [
           "2.400"
          ],
          [
           "3.400"
          ],
          [
           "3.800"
          ],
          [
           "3.800"
          ],
          [
           "3.800"
          ],
          [
           "3.400"
          ],
          [
           "2.700"
          ],
          [
           "3.400"
          ],
          [
           "3.400"
          ],
          [
           "2.300"
          ],
          [
           "2.000"
          ]
         ],
         "hoverlabel": {
          "namelength": 0
         },
         "hovertemplate": "Cluster=Cluster 1<br>PCA1=%{x}<br>PCA2=%{y}<br>Feature=%{customdata[0]}",
         "legendgroup": "Cluster=Cluster 1",
         "marker": {
          "color": "#EF553B",
          "opacity": 0.5,
          "symbol": "circle"
         },
         "mode": "markers",
         "name": "Cluster=Cluster 1",
         "showlegend": true,
         "textposition": "top center",
         "type": "scatter",
         "x": [
          0.13350425891619302,
          0.3219886604302366,
          0.16500215599368684,
          0.3736171701064502,
          0.9857640924442713,
          0.63154561438335,
          0.3699433192533628,
          0.19688781074711836,
          0.2244017747146415,
          0.3390500546879876,
          0.6971703982994301,
          0.14633722625923704,
          1.1724142936769746,
          1.1380683271009813,
          1.1539169433705274,
          0.2433415330426821,
          0.07350153731771031
         ],
         "xaxis": "x",
         "y": [
          0.13688192134363522,
          0.17891023710214127,
          -0.061296669124628674,
          0.2278194161568128,
          0.1902008250468657,
          0.14564443825231177,
          0.24594352228547608,
          -0.0602751516846867,
          -0.056433296245372355,
          0.049990368101449814,
          0.3904448749192458,
          0.5864433152101541,
          0.34470063991296995,
          0.39014796269855617,
          0.20750423981232793,
          0.024545822395151504,
          0.6412998487474775
         ],
         "yaxis": "y"
        },
        {
         "customdata": [
          [
           "1.900"
          ],
          [
           "1.900"
          ],
          [
           "1.900"
          ],
          [
           "2.200"
          ],
          [
           "2.200"
          ],
          [
           "2.500"
          ],
          [
           "2.500"
          ],
          [
           "1.800"
          ],
          [
           "2.200"
          ],
          [
           "3.000"
          ],
          [
           "1.800"
          ],
          [
           "2.400"
          ],
          [
           "3.000"
          ],
          [
           "2.000"
          ],
          [
           "2.700"
          ],
          [
           "4.700"
          ],
          [
           "2.000"
          ],
          [
           "2.000"
          ],
          [
           "1.800"
          ],
          [
           "2.000"
          ],
          [
           "2.000"
          ],
          [
           "2.000"
          ],
          [
           "1.900"
          ],
          [
           "1.900"
          ],
          [
           "2.400"
          ],
          [
           "2.400"
          ],
          [
           "2.300"
          ],
          [
           "2.900"
          ]
         ],
         "hoverlabel": {
          "namelength": 0
         },
         "hovertemplate": "Cluster=Cluster 2<br>PCA1=%{x}<br>PCA2=%{y}<br>Feature=%{customdata[0]}",
         "legendgroup": "Cluster=Cluster 2",
         "marker": {
          "color": "#00cc96",
          "opacity": 0.5,
          "symbol": "circle"
         },
         "mode": "markers",
         "name": "Cluster=Cluster 2",
         "showlegend": true,
         "textposition": "top center",
         "type": "scatter",
         "x": [
          -0.14711178691489327,
          -0.3820784645339376,
          -0.5249770854822682,
          -0.5920378302513255,
          -0.49601056439901714,
          -0.5252224568073803,
          -0.5409064920824723,
          -0.6096957783074303,
          -0.6096957782416524,
          -0.4416020858142989,
          -0.07576212477862863,
          -0.31699557006794576,
          -0.6541822716687036,
          -0.6750648374955941,
          -0.7079855546813343,
          -0.3068887732352291,
          -0.6825284807995616,
          -0.3997993160504332,
          -0.5902914177511737,
          -0.6857723894778361,
          -0.13222228241858067,
          -0.6626600566721765,
          -0.5970274491160562,
          -0.564031540094924,
          -0.5279105150639993,
          -0.3208282949158427,
          -0.5165763890852919,
          -0.5606824630824968
         ],
         "xaxis": "x",
         "y": [
          0.3183958441822178,
          0.9233122004620604,
          0.8983816011337955,
          0.5878923915399231,
          0.5248920967760876,
          0.73635249507447,
          0.7312483195856595,
          1.0140835487037878,
          1.0140835476546304,
          0.5836740079589446,
          0.08850074364544427,
          -0.053266608819553043,
          0.7169505285430564,
          0.5338111369046672,
          0.1691611946621171,
          0.13637273295282917,
          0.6272289700717026,
          0.7438486940732493,
          0.8597946825333539,
          0.17776192750438316,
          0.12858801088122637,
          0.5633453452096621,
          0.8632491497093756,
          0.715567113072934,
          0.7326936298168355,
          0.34707078928074686,
          1.0094919593070835,
          0.8196888960194872
         ],
         "yaxis": "y"
        }
       ],
       "layout": {
        "height": 600,
        "legend": {
         "tracegroupgap": 0
        },
        "margin": {
         "t": 60
        },
        "plot_bgcolor": "rgb(240,240,240)",
        "template": {
         "data": {
          "bar": [
           {
            "error_x": {
             "color": "#2a3f5f"
            },
            "error_y": {
             "color": "#2a3f5f"
            },
            "marker": {
             "line": {
              "color": "#E5ECF6",
              "width": 0.5
             }
            },
            "type": "bar"
           }
          ],
          "barpolar": [
           {
            "marker": {
             "line": {
              "color": "#E5ECF6",
              "width": 0.5
             }
            },
            "type": "barpolar"
           }
          ],
          "carpet": [
           {
            "aaxis": {
             "endlinecolor": "#2a3f5f",
             "gridcolor": "white",
             "linecolor": "white",
             "minorgridcolor": "white",
             "startlinecolor": "#2a3f5f"
            },
            "baxis": {
             "endlinecolor": "#2a3f5f",
             "gridcolor": "white",
             "linecolor": "white",
             "minorgridcolor": "white",
             "startlinecolor": "#2a3f5f"
            },
            "type": "carpet"
           }
          ],
          "choropleth": [
           {
            "colorbar": {
             "outlinewidth": 0,
             "ticks": ""
            },
            "type": "choropleth"
           }
          ],
          "contour": [
           {
            "colorbar": {
             "outlinewidth": 0,
             "ticks": ""
            },
            "colorscale": [
             [
              0,
              "#0d0887"
             ],
             [
              0.1111111111111111,
              "#46039f"
             ],
             [
              0.2222222222222222,
              "#7201a8"
             ],
             [
              0.3333333333333333,
              "#9c179e"
             ],
             [
              0.4444444444444444,
              "#bd3786"
             ],
             [
              0.5555555555555556,
              "#d8576b"
             ],
             [
              0.6666666666666666,
              "#ed7953"
             ],
             [
              0.7777777777777778,
              "#fb9f3a"
             ],
             [
              0.8888888888888888,
              "#fdca26"
             ],
             [
              1,
              "#f0f921"
             ]
            ],
            "type": "contour"
           }
          ],
          "contourcarpet": [
           {
            "colorbar": {
             "outlinewidth": 0,
             "ticks": ""
            },
            "type": "contourcarpet"
           }
          ],
          "heatmap": [
           {
            "colorbar": {
             "outlinewidth": 0,
             "ticks": ""
            },
            "colorscale": [
             [
              0,
              "#0d0887"
             ],
             [
              0.1111111111111111,
              "#46039f"
             ],
             [
              0.2222222222222222,
              "#7201a8"
             ],
             [
              0.3333333333333333,
              "#9c179e"
             ],
             [
              0.4444444444444444,
              "#bd3786"
             ],
             [
              0.5555555555555556,
              "#d8576b"
             ],
             [
              0.6666666666666666,
              "#ed7953"
             ],
             [
              0.7777777777777778,
              "#fb9f3a"
             ],
             [
              0.8888888888888888,
              "#fdca26"
             ],
             [
              1,
              "#f0f921"
             ]
            ],
            "type": "heatmap"
           }
          ],
          "heatmapgl": [
           {
            "colorbar": {
             "outlinewidth": 0,
             "ticks": ""
            },
            "colorscale": [
             [
              0,
              "#0d0887"
             ],
             [
              0.1111111111111111,
              "#46039f"
             ],
             [
              0.2222222222222222,
              "#7201a8"
             ],
             [
              0.3333333333333333,
              "#9c179e"
             ],
             [
              0.4444444444444444,
              "#bd3786"
             ],
             [
              0.5555555555555556,
              "#d8576b"
             ],
             [
              0.6666666666666666,
              "#ed7953"
             ],
             [
              0.7777777777777778,
              "#fb9f3a"
             ],
             [
              0.8888888888888888,
              "#fdca26"
             ],
             [
              1,
              "#f0f921"
             ]
            ],
            "type": "heatmapgl"
           }
          ],
          "histogram": [
           {
            "marker": {
             "colorbar": {
              "outlinewidth": 0,
              "ticks": ""
             }
            },
            "type": "histogram"
           }
          ],
          "histogram2d": [
           {
            "colorbar": {
             "outlinewidth": 0,
             "ticks": ""
            },
            "colorscale": [
             [
              0,
              "#0d0887"
             ],
             [
              0.1111111111111111,
              "#46039f"
             ],
             [
              0.2222222222222222,
              "#7201a8"
             ],
             [
              0.3333333333333333,
              "#9c179e"
             ],
             [
              0.4444444444444444,
              "#bd3786"
             ],
             [
              0.5555555555555556,
              "#d8576b"
             ],
             [
              0.6666666666666666,
              "#ed7953"
             ],
             [
              0.7777777777777778,
              "#fb9f3a"
             ],
             [
              0.8888888888888888,
              "#fdca26"
             ],
             [
              1,
              "#f0f921"
             ]
            ],
            "type": "histogram2d"
           }
          ],
          "histogram2dcontour": [
           {
            "colorbar": {
             "outlinewidth": 0,
             "ticks": ""
            },
            "colorscale": [
             [
              0,
              "#0d0887"
             ],
             [
              0.1111111111111111,
              "#46039f"
             ],
             [
              0.2222222222222222,
              "#7201a8"
             ],
             [
              0.3333333333333333,
              "#9c179e"
             ],
             [
              0.4444444444444444,
              "#bd3786"
             ],
             [
              0.5555555555555556,
              "#d8576b"
             ],
             [
              0.6666666666666666,
              "#ed7953"
             ],
             [
              0.7777777777777778,
              "#fb9f3a"
             ],
             [
              0.8888888888888888,
              "#fdca26"
             ],
             [
              1,
              "#f0f921"
             ]
            ],
            "type": "histogram2dcontour"
           }
          ],
          "mesh3d": [
           {
            "colorbar": {
             "outlinewidth": 0,
             "ticks": ""
            },
            "type": "mesh3d"
           }
          ],
          "parcoords": [
           {
            "line": {
             "colorbar": {
              "outlinewidth": 0,
              "ticks": ""
             }
            },
            "type": "parcoords"
           }
          ],
          "pie": [
           {
            "automargin": true,
            "type": "pie"
           }
          ],
          "scatter": [
           {
            "marker": {
             "colorbar": {
              "outlinewidth": 0,
              "ticks": ""
             }
            },
            "type": "scatter"
           }
          ],
          "scatter3d": [
           {
            "line": {
             "colorbar": {
              "outlinewidth": 0,
              "ticks": ""
             }
            },
            "marker": {
             "colorbar": {
              "outlinewidth": 0,
              "ticks": ""
             }
            },
            "type": "scatter3d"
           }
          ],
          "scattercarpet": [
           {
            "marker": {
             "colorbar": {
              "outlinewidth": 0,
              "ticks": ""
             }
            },
            "type": "scattercarpet"
           }
          ],
          "scattergeo": [
           {
            "marker": {
             "colorbar": {
              "outlinewidth": 0,
              "ticks": ""
             }
            },
            "type": "scattergeo"
           }
          ],
          "scattergl": [
           {
            "marker": {
             "colorbar": {
              "outlinewidth": 0,
              "ticks": ""
             }
            },
            "type": "scattergl"
           }
          ],
          "scattermapbox": [
           {
            "marker": {
             "colorbar": {
              "outlinewidth": 0,
              "ticks": ""
             }
            },
            "type": "scattermapbox"
           }
          ],
          "scatterpolar": [
           {
            "marker": {
             "colorbar": {
              "outlinewidth": 0,
              "ticks": ""
             }
            },
            "type": "scatterpolar"
           }
          ],
          "scatterpolargl": [
           {
            "marker": {
             "colorbar": {
              "outlinewidth": 0,
              "ticks": ""
             }
            },
            "type": "scatterpolargl"
           }
          ],
          "scatterternary": [
           {
            "marker": {
             "colorbar": {
              "outlinewidth": 0,
              "ticks": ""
             }
            },
            "type": "scatterternary"
           }
          ],
          "surface": [
           {
            "colorbar": {
             "outlinewidth": 0,
             "ticks": ""
            },
            "colorscale": [
             [
              0,
              "#0d0887"
             ],
             [
              0.1111111111111111,
              "#46039f"
             ],
             [
              0.2222222222222222,
              "#7201a8"
             ],
             [
              0.3333333333333333,
              "#9c179e"
             ],
             [
              0.4444444444444444,
              "#bd3786"
             ],
             [
              0.5555555555555556,
              "#d8576b"
             ],
             [
              0.6666666666666666,
              "#ed7953"
             ],
             [
              0.7777777777777778,
              "#fb9f3a"
             ],
             [
              0.8888888888888888,
              "#fdca26"
             ],
             [
              1,
              "#f0f921"
             ]
            ],
            "type": "surface"
           }
          ],
          "table": [
           {
            "cells": {
             "fill": {
              "color": "#EBF0F8"
             },
             "line": {
              "color": "white"
             }
            },
            "header": {
             "fill": {
              "color": "#C8D4E3"
             },
             "line": {
              "color": "white"
             }
            },
            "type": "table"
           }
          ]
         },
         "layout": {
          "annotationdefaults": {
           "arrowcolor": "#2a3f5f",
           "arrowhead": 0,
           "arrowwidth": 1
          },
          "coloraxis": {
           "colorbar": {
            "outlinewidth": 0,
            "ticks": ""
           }
          },
          "colorscale": {
           "diverging": [
            [
             0,
             "#8e0152"
            ],
            [
             0.1,
             "#c51b7d"
            ],
            [
             0.2,
             "#de77ae"
            ],
            [
             0.3,
             "#f1b6da"
            ],
            [
             0.4,
             "#fde0ef"
            ],
            [
             0.5,
             "#f7f7f7"
            ],
            [
             0.6,
             "#e6f5d0"
            ],
            [
             0.7,
             "#b8e186"
            ],
            [
             0.8,
             "#7fbc41"
            ],
            [
             0.9,
             "#4d9221"
            ],
            [
             1,
             "#276419"
            ]
           ],
           "sequential": [
            [
             0,
             "#0d0887"
            ],
            [
             0.1111111111111111,
             "#46039f"
            ],
            [
             0.2222222222222222,
             "#7201a8"
            ],
            [
             0.3333333333333333,
             "#9c179e"
            ],
            [
             0.4444444444444444,
             "#bd3786"
            ],
            [
             0.5555555555555556,
             "#d8576b"
            ],
            [
             0.6666666666666666,
             "#ed7953"
            ],
            [
             0.7777777777777778,
             "#fb9f3a"
            ],
            [
             0.8888888888888888,
             "#fdca26"
            ],
            [
             1,
             "#f0f921"
            ]
           ],
           "sequentialminus": [
            [
             0,
             "#0d0887"
            ],
            [
             0.1111111111111111,
             "#46039f"
            ],
            [
             0.2222222222222222,
             "#7201a8"
            ],
            [
             0.3333333333333333,
             "#9c179e"
            ],
            [
             0.4444444444444444,
             "#bd3786"
            ],
            [
             0.5555555555555556,
             "#d8576b"
            ],
            [
             0.6666666666666666,
             "#ed7953"
            ],
            [
             0.7777777777777778,
             "#fb9f3a"
            ],
            [
             0.8888888888888888,
             "#fdca26"
            ],
            [
             1,
             "#f0f921"
            ]
           ]
          },
          "colorway": [
           "#636efa",
           "#EF553B",
           "#00cc96",
           "#ab63fa",
           "#FFA15A",
           "#19d3f3",
           "#FF6692",
           "#B6E880",
           "#FF97FF",
           "#FECB52"
          ],
          "font": {
           "color": "#2a3f5f"
          },
          "geo": {
           "bgcolor": "white",
           "lakecolor": "white",
           "landcolor": "#E5ECF6",
           "showlakes": true,
           "showland": true,
           "subunitcolor": "white"
          },
          "hoverlabel": {
           "align": "left"
          },
          "hovermode": "closest",
          "mapbox": {
           "style": "light"
          },
          "paper_bgcolor": "white",
          "plot_bgcolor": "#E5ECF6",
          "polar": {
           "angularaxis": {
            "gridcolor": "white",
            "linecolor": "white",
            "ticks": ""
           },
           "bgcolor": "#E5ECF6",
           "radialaxis": {
            "gridcolor": "white",
            "linecolor": "white",
            "ticks": ""
           }
          },
          "scene": {
           "xaxis": {
            "backgroundcolor": "#E5ECF6",
            "gridcolor": "white",
            "gridwidth": 2,
            "linecolor": "white",
            "showbackground": true,
            "ticks": "",
            "zerolinecolor": "white"
           },
           "yaxis": {
            "backgroundcolor": "#E5ECF6",
            "gridcolor": "white",
            "gridwidth": 2,
            "linecolor": "white",
            "showbackground": true,
            "ticks": "",
            "zerolinecolor": "white"
           },
           "zaxis": {
            "backgroundcolor": "#E5ECF6",
            "gridcolor": "white",
            "gridwidth": 2,
            "linecolor": "white",
            "showbackground": true,
            "ticks": "",
            "zerolinecolor": "white"
           }
          },
          "shapedefaults": {
           "line": {
            "color": "#2a3f5f"
           }
          },
          "ternary": {
           "aaxis": {
            "gridcolor": "white",
            "linecolor": "white",
            "ticks": ""
           },
           "baxis": {
            "gridcolor": "white",
            "linecolor": "white",
            "ticks": ""
           },
           "bgcolor": "#E5ECF6",
           "caxis": {
            "gridcolor": "white",
            "linecolor": "white",
            "ticks": ""
           }
          },
          "title": {
           "x": 0.05
          },
          "xaxis": {
           "automargin": true,
           "gridcolor": "white",
           "linecolor": "white",
           "ticks": "",
           "title": {
            "standoff": 15
           },
           "zerolinecolor": "white",
           "zerolinewidth": 2
          },
          "yaxis": {
           "automargin": true,
           "gridcolor": "white",
           "linecolor": "white",
           "ticks": "",
           "title": {
            "standoff": 15
           },
           "zerolinecolor": "white",
           "zerolinewidth": 2
          }
         }
        },
        "title": {
         "text": "2D Cluster PCA Plot"
        },
        "xaxis": {
         "anchor": "y",
         "domain": [
          0,
          1
         ],
         "title": {
          "text": "PCA1"
         }
        },
        "yaxis": {
         "anchor": "x",
         "domain": [
          0,
          1
         ],
         "title": {
          "text": "PCA2"
         }
        }
       }
      },
      "text/html": [
       "<div>\n",
       "        \n",
       "        \n",
       "            <div id=\"4e7de52b-7098-4ff9-aec1-b1f56b273e6c\" class=\"plotly-graph-div\" style=\"height:600px; width:100%;\"></div>\n",
       "            <script type=\"text/javascript\">\n",
       "                require([\"plotly\"], function(Plotly) {\n",
       "                    window.PLOTLYENV=window.PLOTLYENV || {};\n",
       "                    \n",
       "                if (document.getElementById(\"4e7de52b-7098-4ff9-aec1-b1f56b273e6c\")) {\n",
       "                    Plotly.newPlot(\n",
       "                        '4e7de52b-7098-4ff9-aec1-b1f56b273e6c',\n",
       "                        [{\"customdata\": [[\"1.800\"], [\"3.200\"], [\"3.200\"], [\"3.500\"], [\"1.800\"], [\"2.800\"], [\"4.200\"], [\"2.500\"], [\"2.800\"], [\"2.800\"], [\"3.100\"], [\"3.800\"], [\"3.800\"], [\"3.800\"], [\"4.600\"], [\"4.600\"], [\"4.600\"], [\"3.000\"], [\"5.700\"], [\"2.200\"], [\"3.100\"], [\"3.100\"], [\"3.400\"], [\"3.800\"], [\"5.700\"], [\"1.800\"], [\"1.000\"], [\"3.400\"], [\"2.500\"], [\"2.500\"], [\"2.700\"], [\"2.000\"], [\"3.500\"], [\"$null$\"], [\"3.500\"], [\"2.000\"], [\"2.500\"], [\"2.500\"], [\"2.700\"], [\"8.000\"], [\"5.200\"], [\"3.900\"], [\"3.900\"], [\"2.500\"], [\"5.200\"], [\"2.400\"], [\"2.000\"], [\"3.800\"], [\"2.500\"], [\"3.000\"], [\"2.000\"], [\"4.600\"], [\"4.000\"], [\"3.000\"], [\"4.600\"], [\"2.500\"], [\"4.600\"], [\"1.600\"], [\"2.300\"], [\"2.000\"], [\"3.200\"], [\"3.500\"], [\"1.500\"], [\"2.000\"], [\"2.400\"], [\"3.000\"], [\"3.000\"], [\"2.500\"], [\"4.000\"], [\"4.000\"], [\"3.000\"], [\"3.000\"], [\"4.000\"], [\"4.000\"], [\"4.700\"], [\"3.000\"], [\"4.600\"], [\"4.600\"], [\"5.400\"], [\"1.800\"], [\"2.400\"], [\"2.400\"], [\"3.500\"], [\"3.000\"], [\"3.500\"], [\"3.000\"], [\"2.000\"], [\"2.000\"], [\"3.000\"], [\"4.600\"], [\"4.000\"], [\"3.300\"], [\"2.300\"], [\"3.200\"], [\"4.300\"], [\"5.000\"], [\"2.300\"], [\"2.300\"], [\"3.200\"], [\"5.000\"], [\"3.200\"], [\"1.800\"], [\"2.400\"], [\"3.000\"], [\"3.300\"], [\"3.300\"], [\"3.300\"], [\"3.300\"], [\"3.100\"], [\"3.500\"], [\"2.400\"], [\"4.000\"]], \"hoverlabel\": {\"namelength\": 0}, \"hovertemplate\": \"Cluster=Cluster 0<br>PCA1=%{x}<br>PCA2=%{y}<br>Feature=%{customdata[0]}\", \"legendgroup\": \"Cluster=Cluster 0\", \"marker\": {\"color\": \"#636efa\", \"opacity\": 0.5, \"symbol\": \"circle\"}, \"mode\": \"markers\", \"name\": \"Cluster=Cluster 0\", \"showlegend\": true, \"textposition\": \"top center\", \"type\": \"scatter\", \"x\": [0.2743786207818731, -0.07955899771449632, -0.03061427411176268, 0.33474927828043965, 0.33534806240224074, -0.02396496856838382, -0.1788283870764237, 0.4367309728463564, -0.36367012268926363, -0.1302881346595493, -0.37217111127790475, -0.020159985779019257, 0.8600488032617233, -0.04103430847065146, -0.14281164620966394, -0.23881899093016054, -0.2790431579461635, -0.10414408888647073, 0.28293852597644814, -0.1757611272075952, -0.2707942908447125, -0.36223190535009264, -0.2470761262252103, -0.11851516393178194, -0.24080471777859744, -0.20211941188409763, -0.21400908962985307, -0.3140736418117602, -0.040586924135590195, -0.14588359210970792, 0.2805509475889126, 0.03864255198990881, -0.37606119514265474, -0.13731130511569517, 1.5694387567379973, 1.559866845259913, 1.2604501873383542, 1.6610599545106404, 1.7078307615746144, -0.11851516393347906, -0.1663847445707307, -0.24650929189756554, -0.14324978561741447, 0.5524689321767311, 0.014015630121506997, 0.32491051959393985, 0.11558479094095245, 0.021776841130678258, 0.023352008433372273, 0.024097641210013333, 0.620403727972058, -0.16696294588127683, -0.04508382975674525, -0.12080690541404455, -0.08852556992322198, -0.06331590688949648, -0.15749023264342563, -0.19706107274062817, 0.9620749489898174, -0.10103464406166046, -0.21363700277660277, -0.1384068263845123, -0.13044731136207757, -0.14955648260760313, -0.27081345212577, -0.023346271580854328, -0.03251481813447185, -0.055649344372292055, 0.022765593683072516, 0.21542352176466611, -0.08181865125643434, -0.08986075231209317, 0.9620749489933405, 0.02402439894058626, -0.011260742918041734, -0.1602372556391828, 0.024024399107300025, 0.2986405263143496, 0.03698788957013806, -0.07472535405031792, -0.3966244104467703, -0.44685898227691073, -0.22176542890825165, 0.009804393408823385, 0.2892202088892759, -0.4113114882458058, -0.14379714246441386, -0.02235661537054534, -0.08001960526548293, -0.08814364366150139, -0.014731717889792124, -0.020132216134581285, -0.16966387503128907, 0.6528408206625107, -0.12365464965718642, -0.2667434431994165, -0.030509297971950754, -0.12782846266565406, -0.22955825888048007, -0.3721711112772228, -0.11259271406408203, 0.8258731890745723, -0.056595636124801486, -0.35322613520414664, -0.10059051274723167, 0.7558786735167461, -0.12857227517733266, -0.19706107274186105, 0.03198867971426108, 0.21369823275386862, -0.16666498525531806, 0.03485279803286501], \"xaxis\": \"x\", \"y\": [0.01611031036642268, -0.25858771527125685, -0.1143270659176539, -0.07290783518687417, 0.09897849507689112, -0.03545770385106022, -0.45104971645974673, -0.09547049679911362, -0.39622657958172797, -0.34805896993419755, -0.909700989608502, 0.18575231695294603, 0.1819443071841568, -0.18750556578206987, -0.3261901895202817, -0.4971388125451566, -0.8266230853442473, 0.6459383689726054, -0.010998635434779136, -0.3620046753053966, -0.8052532594007153, -0.7732302354776678, -0.42477419721282317, -0.14094218638111045, -0.5210308624538601, -0.5704421262209828, -0.4676225764741591, -0.6269476726275135, -0.12467020893390672, -0.10800231464354387, -9.93262749527782e-05, -0.030660809957098495, -0.416794012812769, -0.057489849761636715, 0.1749090218011506, 0.14251238741758865, 0.08521654959185748, 0.15691294112730805, 0.16141667434680965, -0.14094218638576717, -0.3346539648643462, -0.5298522205164521, 0.059205585481746495, 0.060083355582146225, -0.5238547017546376, 0.0005394419059658953, 0.5652364609766121, 0.03328878183146891, 0.03314073953048667, 0.03407150340449211, -0.10889395127071173, -0.40578752309867816, -0.49716237642940103, -0.5835935057249815, -0.5483028657538014, -0.28767067803027946, -0.48559906273219017, 0.6501747199543773, 0.008818146714326675, -0.4825926478351649, -0.7119902270003172, -0.3512685817122478, -0.10330977832418776, -0.07304261930892358, -0.44137013747262993, -0.13292345865179056, 0.25816678874827864, -0.2338900397752758, -0.3353213601510288, 0.611915032744366, 0.26593117629751784, 0.6558859502111203, 0.008818146719164439, -0.6865782768000237, -0.10160949732713188, -0.28090831658480225, -0.686578277428597, -0.474318854789775, 0.5783759849695203, 0.5993839970953816, -0.8862208007903948, -0.929616022766467, -0.8427294134578053, -0.03725039585098271, -0.006271786147411984, -0.6409303314232472, -0.44494738814084706, -0.0959811687620433, 0.02977652704734327, -8.62847907607096e-05, -0.09013200475316276, -0.13419912635314277, -0.014489604284982098, 0.3598735591611429, -0.3436373757173869, -0.3163597134694371, 0.11202270484712769, -0.3170691243817089, -0.6876568781356776, -0.9097009896077556, -0.34292955424208327, 0.07471990557387126, 0.2429400797247919, -0.6261924049547345, -0.4094714878150402, 0.08255086801421305, 0.22857864652508633, 0.6501747199507537, -0.03496374204796561, 0.018485767333721162, -0.5290006134882556, -0.024438230273579307], \"yaxis\": \"y\"}, {\"customdata\": [[\"4.300\"], [\"3.400\"], [\"2.000\"], [\"2.000\"], [\"2.400\"], [\"3.500\"], [\"2.400\"], [\"3.400\"], [\"3.800\"], [\"3.800\"], [\"3.800\"], [\"3.400\"], [\"2.700\"], [\"3.400\"], [\"3.400\"], [\"2.300\"], [\"2.000\"]], \"hoverlabel\": {\"namelength\": 0}, \"hovertemplate\": \"Cluster=Cluster 1<br>PCA1=%{x}<br>PCA2=%{y}<br>Feature=%{customdata[0]}\", \"legendgroup\": \"Cluster=Cluster 1\", \"marker\": {\"color\": \"#EF553B\", \"opacity\": 0.5, \"symbol\": \"circle\"}, \"mode\": \"markers\", \"name\": \"Cluster=Cluster 1\", \"showlegend\": true, \"textposition\": \"top center\", \"type\": \"scatter\", \"x\": [0.13350425891619302, 0.3219886604302366, 0.16500215599368684, 0.3736171701064502, 0.9857640924442713, 0.63154561438335, 0.3699433192533628, 0.19688781074711836, 0.2244017747146415, 0.3390500546879876, 0.6971703982994301, 0.14633722625923704, 1.1724142936769746, 1.1380683271009813, 1.1539169433705274, 0.2433415330426821, 0.07350153731771031], \"xaxis\": \"x\", \"y\": [0.13688192134363522, 0.17891023710214127, -0.061296669124628674, 0.2278194161568128, 0.1902008250468657, 0.14564443825231177, 0.24594352228547608, -0.0602751516846867, -0.056433296245372355, 0.049990368101449814, 0.3904448749192458, 0.5864433152101541, 0.34470063991296995, 0.39014796269855617, 0.20750423981232793, 0.024545822395151504, 0.6412998487474775], \"yaxis\": \"y\"}, {\"customdata\": [[\"1.900\"], [\"1.900\"], [\"1.900\"], [\"2.200\"], [\"2.200\"], [\"2.500\"], [\"2.500\"], [\"1.800\"], [\"2.200\"], [\"3.000\"], [\"1.800\"], [\"2.400\"], [\"3.000\"], [\"2.000\"], [\"2.700\"], [\"4.700\"], [\"2.000\"], [\"2.000\"], [\"1.800\"], [\"2.000\"], [\"2.000\"], [\"2.000\"], [\"1.900\"], [\"1.900\"], [\"2.400\"], [\"2.400\"], [\"2.300\"], [\"2.900\"]], \"hoverlabel\": {\"namelength\": 0}, \"hovertemplate\": \"Cluster=Cluster 2<br>PCA1=%{x}<br>PCA2=%{y}<br>Feature=%{customdata[0]}\", \"legendgroup\": \"Cluster=Cluster 2\", \"marker\": {\"color\": \"#00cc96\", \"opacity\": 0.5, \"symbol\": \"circle\"}, \"mode\": \"markers\", \"name\": \"Cluster=Cluster 2\", \"showlegend\": true, \"textposition\": \"top center\", \"type\": \"scatter\", \"x\": [-0.14711178691489327, -0.3820784645339376, -0.5249770854822682, -0.5920378302513255, -0.49601056439901714, -0.5252224568073803, -0.5409064920824723, -0.6096957783074303, -0.6096957782416524, -0.4416020858142989, -0.07576212477862863, -0.31699557006794576, -0.6541822716687036, -0.6750648374955941, -0.7079855546813343, -0.3068887732352291, -0.6825284807995616, -0.3997993160504332, -0.5902914177511737, -0.6857723894778361, -0.13222228241858067, -0.6626600566721765, -0.5970274491160562, -0.564031540094924, -0.5279105150639993, -0.3208282949158427, -0.5165763890852919, -0.5606824630824968], \"xaxis\": \"x\", \"y\": [0.3183958441822178, 0.9233122004620604, 0.8983816011337955, 0.5878923915399231, 0.5248920967760876, 0.73635249507447, 0.7312483195856595, 1.0140835487037878, 1.0140835476546304, 0.5836740079589446, 0.08850074364544427, -0.053266608819553043, 0.7169505285430564, 0.5338111369046672, 0.1691611946621171, 0.13637273295282917, 0.6272289700717026, 0.7438486940732493, 0.8597946825333539, 0.17776192750438316, 0.12858801088122637, 0.5633453452096621, 0.8632491497093756, 0.715567113072934, 0.7326936298168355, 0.34707078928074686, 1.0094919593070835, 0.8196888960194872], \"yaxis\": \"y\"}],\n",
       "                        {\"height\": 600, \"legend\": {\"tracegroupgap\": 0}, \"margin\": {\"t\": 60}, \"plot_bgcolor\": \"rgb(240,240,240)\", \"template\": {\"data\": {\"bar\": [{\"error_x\": {\"color\": \"#2a3f5f\"}, \"error_y\": {\"color\": \"#2a3f5f\"}, \"marker\": {\"line\": {\"color\": \"#E5ECF6\", \"width\": 0.5}}, \"type\": \"bar\"}], \"barpolar\": [{\"marker\": {\"line\": {\"color\": \"#E5ECF6\", \"width\": 0.5}}, \"type\": \"barpolar\"}], \"carpet\": [{\"aaxis\": {\"endlinecolor\": \"#2a3f5f\", \"gridcolor\": \"white\", \"linecolor\": \"white\", \"minorgridcolor\": \"white\", \"startlinecolor\": \"#2a3f5f\"}, \"baxis\": {\"endlinecolor\": \"#2a3f5f\", \"gridcolor\": \"white\", \"linecolor\": \"white\", \"minorgridcolor\": \"white\", \"startlinecolor\": \"#2a3f5f\"}, \"type\": \"carpet\"}], \"choropleth\": [{\"colorbar\": {\"outlinewidth\": 0, \"ticks\": \"\"}, \"type\": \"choropleth\"}], \"contour\": [{\"colorbar\": {\"outlinewidth\": 0, \"ticks\": \"\"}, \"colorscale\": [[0.0, \"#0d0887\"], [0.1111111111111111, \"#46039f\"], [0.2222222222222222, \"#7201a8\"], [0.3333333333333333, \"#9c179e\"], [0.4444444444444444, \"#bd3786\"], [0.5555555555555556, \"#d8576b\"], [0.6666666666666666, \"#ed7953\"], [0.7777777777777778, \"#fb9f3a\"], [0.8888888888888888, \"#fdca26\"], [1.0, \"#f0f921\"]], \"type\": \"contour\"}], \"contourcarpet\": [{\"colorbar\": {\"outlinewidth\": 0, \"ticks\": \"\"}, \"type\": \"contourcarpet\"}], \"heatmap\": [{\"colorbar\": {\"outlinewidth\": 0, \"ticks\": \"\"}, \"colorscale\": [[0.0, \"#0d0887\"], [0.1111111111111111, \"#46039f\"], [0.2222222222222222, \"#7201a8\"], [0.3333333333333333, \"#9c179e\"], [0.4444444444444444, \"#bd3786\"], [0.5555555555555556, \"#d8576b\"], [0.6666666666666666, \"#ed7953\"], [0.7777777777777778, \"#fb9f3a\"], [0.8888888888888888, \"#fdca26\"], [1.0, \"#f0f921\"]], \"type\": \"heatmap\"}], \"heatmapgl\": [{\"colorbar\": {\"outlinewidth\": 0, \"ticks\": \"\"}, \"colorscale\": [[0.0, \"#0d0887\"], [0.1111111111111111, \"#46039f\"], [0.2222222222222222, \"#7201a8\"], [0.3333333333333333, \"#9c179e\"], [0.4444444444444444, \"#bd3786\"], [0.5555555555555556, \"#d8576b\"], [0.6666666666666666, \"#ed7953\"], [0.7777777777777778, \"#fb9f3a\"], [0.8888888888888888, \"#fdca26\"], [1.0, \"#f0f921\"]], \"type\": \"heatmapgl\"}], \"histogram\": [{\"marker\": {\"colorbar\": {\"outlinewidth\": 0, \"ticks\": \"\"}}, \"type\": \"histogram\"}], \"histogram2d\": [{\"colorbar\": {\"outlinewidth\": 0, \"ticks\": \"\"}, \"colorscale\": [[0.0, \"#0d0887\"], [0.1111111111111111, \"#46039f\"], [0.2222222222222222, \"#7201a8\"], [0.3333333333333333, \"#9c179e\"], [0.4444444444444444, \"#bd3786\"], [0.5555555555555556, \"#d8576b\"], [0.6666666666666666, \"#ed7953\"], [0.7777777777777778, \"#fb9f3a\"], [0.8888888888888888, \"#fdca26\"], [1.0, \"#f0f921\"]], \"type\": \"histogram2d\"}], \"histogram2dcontour\": [{\"colorbar\": {\"outlinewidth\": 0, \"ticks\": \"\"}, \"colorscale\": [[0.0, \"#0d0887\"], [0.1111111111111111, \"#46039f\"], [0.2222222222222222, \"#7201a8\"], [0.3333333333333333, \"#9c179e\"], [0.4444444444444444, \"#bd3786\"], [0.5555555555555556, \"#d8576b\"], [0.6666666666666666, \"#ed7953\"], [0.7777777777777778, \"#fb9f3a\"], [0.8888888888888888, \"#fdca26\"], [1.0, \"#f0f921\"]], \"type\": \"histogram2dcontour\"}], \"mesh3d\": [{\"colorbar\": {\"outlinewidth\": 0, \"ticks\": \"\"}, \"type\": \"mesh3d\"}], \"parcoords\": [{\"line\": {\"colorbar\": {\"outlinewidth\": 0, \"ticks\": \"\"}}, \"type\": \"parcoords\"}], \"pie\": [{\"automargin\": true, \"type\": \"pie\"}], \"scatter\": [{\"marker\": {\"colorbar\": {\"outlinewidth\": 0, \"ticks\": \"\"}}, \"type\": \"scatter\"}], \"scatter3d\": [{\"line\": {\"colorbar\": {\"outlinewidth\": 0, \"ticks\": \"\"}}, \"marker\": {\"colorbar\": {\"outlinewidth\": 0, \"ticks\": \"\"}}, \"type\": \"scatter3d\"}], \"scattercarpet\": [{\"marker\": {\"colorbar\": {\"outlinewidth\": 0, \"ticks\": \"\"}}, \"type\": \"scattercarpet\"}], \"scattergeo\": [{\"marker\": {\"colorbar\": {\"outlinewidth\": 0, \"ticks\": \"\"}}, \"type\": \"scattergeo\"}], \"scattergl\": [{\"marker\": {\"colorbar\": {\"outlinewidth\": 0, \"ticks\": \"\"}}, \"type\": \"scattergl\"}], \"scattermapbox\": [{\"marker\": {\"colorbar\": {\"outlinewidth\": 0, \"ticks\": \"\"}}, \"type\": \"scattermapbox\"}], \"scatterpolar\": [{\"marker\": {\"colorbar\": {\"outlinewidth\": 0, \"ticks\": \"\"}}, \"type\": \"scatterpolar\"}], \"scatterpolargl\": [{\"marker\": {\"colorbar\": {\"outlinewidth\": 0, \"ticks\": \"\"}}, \"type\": \"scatterpolargl\"}], \"scatterternary\": [{\"marker\": {\"colorbar\": {\"outlinewidth\": 0, \"ticks\": \"\"}}, \"type\": \"scatterternary\"}], \"surface\": [{\"colorbar\": {\"outlinewidth\": 0, \"ticks\": \"\"}, \"colorscale\": [[0.0, \"#0d0887\"], [0.1111111111111111, \"#46039f\"], [0.2222222222222222, \"#7201a8\"], [0.3333333333333333, \"#9c179e\"], [0.4444444444444444, \"#bd3786\"], [0.5555555555555556, \"#d8576b\"], [0.6666666666666666, \"#ed7953\"], [0.7777777777777778, \"#fb9f3a\"], [0.8888888888888888, \"#fdca26\"], [1.0, \"#f0f921\"]], \"type\": \"surface\"}], \"table\": [{\"cells\": {\"fill\": {\"color\": \"#EBF0F8\"}, \"line\": {\"color\": \"white\"}}, \"header\": {\"fill\": {\"color\": \"#C8D4E3\"}, \"line\": {\"color\": \"white\"}}, \"type\": \"table\"}]}, \"layout\": {\"annotationdefaults\": {\"arrowcolor\": \"#2a3f5f\", \"arrowhead\": 0, \"arrowwidth\": 1}, \"coloraxis\": {\"colorbar\": {\"outlinewidth\": 0, \"ticks\": \"\"}}, \"colorscale\": {\"diverging\": [[0, \"#8e0152\"], [0.1, \"#c51b7d\"], [0.2, \"#de77ae\"], [0.3, \"#f1b6da\"], [0.4, \"#fde0ef\"], [0.5, \"#f7f7f7\"], [0.6, \"#e6f5d0\"], [0.7, \"#b8e186\"], [0.8, \"#7fbc41\"], [0.9, \"#4d9221\"], [1, \"#276419\"]], \"sequential\": [[0.0, \"#0d0887\"], [0.1111111111111111, \"#46039f\"], [0.2222222222222222, \"#7201a8\"], [0.3333333333333333, \"#9c179e\"], [0.4444444444444444, \"#bd3786\"], [0.5555555555555556, \"#d8576b\"], [0.6666666666666666, \"#ed7953\"], [0.7777777777777778, \"#fb9f3a\"], [0.8888888888888888, \"#fdca26\"], [1.0, \"#f0f921\"]], \"sequentialminus\": [[0.0, \"#0d0887\"], [0.1111111111111111, \"#46039f\"], [0.2222222222222222, \"#7201a8\"], [0.3333333333333333, \"#9c179e\"], [0.4444444444444444, \"#bd3786\"], [0.5555555555555556, \"#d8576b\"], [0.6666666666666666, \"#ed7953\"], [0.7777777777777778, \"#fb9f3a\"], [0.8888888888888888, \"#fdca26\"], [1.0, \"#f0f921\"]]}, \"colorway\": [\"#636efa\", \"#EF553B\", \"#00cc96\", \"#ab63fa\", \"#FFA15A\", \"#19d3f3\", \"#FF6692\", \"#B6E880\", \"#FF97FF\", \"#FECB52\"], \"font\": {\"color\": \"#2a3f5f\"}, \"geo\": {\"bgcolor\": \"white\", \"lakecolor\": \"white\", \"landcolor\": \"#E5ECF6\", \"showlakes\": true, \"showland\": true, \"subunitcolor\": \"white\"}, \"hoverlabel\": {\"align\": \"left\"}, \"hovermode\": \"closest\", \"mapbox\": {\"style\": \"light\"}, \"paper_bgcolor\": \"white\", \"plot_bgcolor\": \"#E5ECF6\", \"polar\": {\"angularaxis\": {\"gridcolor\": \"white\", \"linecolor\": \"white\", \"ticks\": \"\"}, \"bgcolor\": \"#E5ECF6\", \"radialaxis\": {\"gridcolor\": \"white\", \"linecolor\": \"white\", \"ticks\": \"\"}}, \"scene\": {\"xaxis\": {\"backgroundcolor\": \"#E5ECF6\", \"gridcolor\": \"white\", \"gridwidth\": 2, \"linecolor\": \"white\", \"showbackground\": true, \"ticks\": \"\", \"zerolinecolor\": \"white\"}, \"yaxis\": {\"backgroundcolor\": \"#E5ECF6\", \"gridcolor\": \"white\", \"gridwidth\": 2, \"linecolor\": \"white\", \"showbackground\": true, \"ticks\": \"\", \"zerolinecolor\": \"white\"}, \"zaxis\": {\"backgroundcolor\": \"#E5ECF6\", \"gridcolor\": \"white\", \"gridwidth\": 2, \"linecolor\": \"white\", \"showbackground\": true, \"ticks\": \"\", \"zerolinecolor\": \"white\"}}, \"shapedefaults\": {\"line\": {\"color\": \"#2a3f5f\"}}, \"ternary\": {\"aaxis\": {\"gridcolor\": \"white\", \"linecolor\": \"white\", \"ticks\": \"\"}, \"baxis\": {\"gridcolor\": \"white\", \"linecolor\": \"white\", \"ticks\": \"\"}, \"bgcolor\": \"#E5ECF6\", \"caxis\": {\"gridcolor\": \"white\", \"linecolor\": \"white\", \"ticks\": \"\"}}, \"title\": {\"x\": 0.05}, \"xaxis\": {\"automargin\": true, \"gridcolor\": \"white\", \"linecolor\": \"white\", \"ticks\": \"\", \"title\": {\"standoff\": 15}, \"zerolinecolor\": \"white\", \"zerolinewidth\": 2}, \"yaxis\": {\"automargin\": true, \"gridcolor\": \"white\", \"linecolor\": \"white\", \"ticks\": \"\", \"title\": {\"standoff\": 15}, \"zerolinecolor\": \"white\", \"zerolinewidth\": 2}}}, \"title\": {\"text\": \"2D Cluster PCA Plot\"}, \"xaxis\": {\"anchor\": \"y\", \"domain\": [0.0, 1.0], \"title\": {\"text\": \"PCA1\"}}, \"yaxis\": {\"anchor\": \"x\", \"domain\": [0.0, 1.0], \"title\": {\"text\": \"PCA2\"}}},\n",
       "                        {\"responsive\": true}\n",
       "                    ).then(function(){\n",
       "                            \n",
       "var gd = document.getElementById('4e7de52b-7098-4ff9-aec1-b1f56b273e6c');\n",
       "var x = new MutationObserver(function (mutations, observer) {{\n",
       "        var display = window.getComputedStyle(gd).display;\n",
       "        if (!display || display === 'none') {{\n",
       "            console.log([gd, 'removed!']);\n",
       "            Plotly.purge(gd);\n",
       "            observer.disconnect();\n",
       "        }}\n",
       "}});\n",
       "\n",
       "// Listen for the removal of the full notebook cells\n",
       "var notebookContainer = gd.closest('#notebook-container');\n",
       "if (notebookContainer) {{\n",
       "    x.observe(notebookContainer, {childList: true});\n",
       "}}\n",
       "\n",
       "// Listen for the clearing of the current output cell\n",
       "var outputEl = gd.closest('.output');\n",
       "if (outputEl) {{\n",
       "    x.observe(outputEl, {childList: true});\n",
       "}}\n",
       "\n",
       "                        })\n",
       "                };\n",
       "                });\n",
       "            </script>\n",
       "        </div>"
      ]
     },
     "metadata": {},
     "output_type": "display_data"
    }
   ],
   "source": [
    "plot_model(kmeans)"
   ]
  },
  {
   "cell_type": "code",
   "execution_count": 22,
   "metadata": {},
   "outputs": [
    {
     "data": {
      "text/html": [
       "        <script type=\"text/javascript\">\n",
       "        window.PlotlyConfig = {MathJaxConfig: 'local'};\n",
       "        if (window.MathJax) {MathJax.Hub.Config({SVG: {font: \"STIX-Web\"}});}\n",
       "        if (typeof require !== 'undefined') {\n",
       "        require.undef(\"plotly\");\n",
       "        requirejs.config({\n",
       "            paths: {\n",
       "                'plotly': ['https://cdn.plot.ly/plotly-latest.min']\n",
       "            }\n",
       "        });\n",
       "        require(['plotly'], function(Plotly) {\n",
       "            window._Plotly = Plotly;\n",
       "        });\n",
       "        }\n",
       "        </script>\n",
       "        "
      ]
     },
     "metadata": {},
     "output_type": "display_data"
    },
    {
     "data": {
      "image/png": "[encoded data removed]",
      "text/plain": [
       "<Figure size 576x396 with 1 Axes>"
      ]
     },
     "metadata": {},
     "output_type": "display_data"
    }
   ],
   "source": [
    "plot_model(kmeans, plot = 'elbow')"
   ]
  },
  {
   "cell_type": "code",
   "execution_count": 23,
   "metadata": {},
   "outputs": [
    {
     "data": {
      "text/html": [
       "        <script type=\"text/javascript\">\n",
       "        window.PlotlyConfig = {MathJaxConfig: 'local'};\n",
       "        if (window.MathJax) {MathJax.Hub.Config({SVG: {font: \"STIX-Web\"}});}\n",
       "        if (typeof require !== 'undefined') {\n",
       "        require.undef(\"plotly\");\n",
       "        requirejs.config({\n",
       "            paths: {\n",
       "                'plotly': ['https://cdn.plot.ly/plotly-latest.min']\n",
       "            }\n",
       "        });\n",
       "        require(['plotly'], function(Plotly) {\n",
       "            window._Plotly = Plotly;\n",
       "        });\n",
       "        }\n",
       "        </script>\n",
       "        "
      ]
     },
     "metadata": {},
     "output_type": "display_data"
    },
    {
     "data": {
      "image/png": "[encoded data removed]",
      "text/plain": [
       "<Figure size 576x396 with 1 Axes>"
      ]
     },
     "metadata": {},
     "output_type": "display_data"
    }
   ],
   "source": [
    "plot_model(kmeans, plot = 'silhouette')"
   ]
  },
  {
   "cell_type": "code",
   "execution_count": 24,
   "metadata": {},
   "outputs": [
    {
     "data": {
      "text/html": [
       "        <script type=\"text/javascript\">\n",
       "        window.PlotlyConfig = {MathJaxConfig: 'local'};\n",
       "        if (window.MathJax) {MathJax.Hub.Config({SVG: {font: \"STIX-Web\"}});}\n",
       "        if (typeof require !== 'undefined') {\n",
       "        require.undef(\"plotly\");\n",
       "        requirejs.config({\n",
       "            paths: {\n",
       "                'plotly': ['https://cdn.plot.ly/plotly-latest.min']\n",
       "            }\n",
       "        });\n",
       "        require(['plotly'], function(Plotly) {\n",
       "            window._Plotly = Plotly;\n",
       "        });\n",
       "        }\n",
       "        </script>\n",
       "        "
      ]
     },
     "metadata": {},
     "output_type": "display_data"
    },
    {
     "data": {
      "application/vnd.plotly.v1+json": {
       "config": {
        "plotlyServerURL": "https://plot.ly"
       },
       "data": [
        {
         "alignmentgroup": "True",
         "bingroup": "x",
         "hoverlabel": {
          "namelength": 0
         },
         "hovertemplate": "Cluster=%{x}<br>count=%{y}",
         "legendgroup": "Cluster=Cluster 0",
         "marker": {
          "color": "#636efa",
          "opacity": 0.7
         },
         "name": "Cluster=Cluster 0",
         "offsetgroup": "Cluster=Cluster 0",
         "orientation": "v",
         "showlegend": true,
         "type": "histogram",
         "x": [
          "Cluster 0",
          "Cluster 0",
          "Cluster 0",
          "Cluster 0",
          "Cluster 0",
          "Cluster 0",
          "Cluster 0",
          "Cluster 0",
          "Cluster 0",
          "Cluster 0",
          "Cluster 0",
          "Cluster 0",
          "Cluster 0",
          "Cluster 0",
          "Cluster 0",
          "Cluster 0",
          "Cluster 0",
          "Cluster 0",
          "Cluster 0",
          "Cluster 0",
          "Cluster 0",
          "Cluster 0",
          "Cluster 0",
          "Cluster 0",
          "Cluster 0",
          "Cluster 0",
          "Cluster 0",
          "Cluster 0",
          "Cluster 0",
          "Cluster 0",
          "Cluster 0",
          "Cluster 0",
          "Cluster 0",
          "Cluster 0",
          "Cluster 0",
          "Cluster 0",
          "Cluster 0",
          "Cluster 0",
          "Cluster 0",
          "Cluster 0",
          "Cluster 0",
          "Cluster 0",
          "Cluster 0",
          "Cluster 0",
          "Cluster 0",
          "Cluster 0",
          "Cluster 0",
          "Cluster 0",
          "Cluster 0",
          "Cluster 0",
          "Cluster 0",
          "Cluster 0",
          "Cluster 0",
          "Cluster 0",
          "Cluster 0",
          "Cluster 0",
          "Cluster 0",
          "Cluster 0",
          "Cluster 0",
          "Cluster 0",
          "Cluster 0",
          "Cluster 0",
          "Cluster 0",
          "Cluster 0",
          "Cluster 0",
          "Cluster 0",
          "Cluster 0",
          "Cluster 0",
          "Cluster 0",
          "Cluster 0",
          "Cluster 0",
          "Cluster 0",
          "Cluster 0",
          "Cluster 0",
          "Cluster 0",
          "Cluster 0",
          "Cluster 0",
          "Cluster 0",
          "Cluster 0",
          "Cluster 0",
          "Cluster 0",
          "Cluster 0",
          "Cluster 0",
          "Cluster 0",
          "Cluster 0",
          "Cluster 0",
          "Cluster 0",
          "Cluster 0",
          "Cluster 0",
          "Cluster 0",
          "Cluster 0",
          "Cluster 0",
          "Cluster 0",
          "Cluster 0",
          "Cluster 0",
          "Cluster 0",
          "Cluster 0",
          "Cluster 0",
          "Cluster 0",
          "Cluster 0",
          "Cluster 0",
          "Cluster 0",
          "Cluster 0",
          "Cluster 0",
          "Cluster 0",
          "Cluster 0",
          "Cluster 0",
          "Cluster 0",
          "Cluster 0",
          "Cluster 0",
          "Cluster 0",
          "Cluster 0"
         ],
         "xaxis": "x",
         "yaxis": "y"
        },
        {
         "alignmentgroup": "True",
         "customdata": [
          [
           "1.800",
           "140.000",
           "101.200",
           "67.300",
           "172.400",
           "2.639",
           "13.200",
           "28.000",
           "Cluster 0"
          ],
          [
           "3.200",
           "215.000",
           "111.000",
           "72.200",
           "180.600",
           "4.387",
           "19.000",
           "20.000",
           "Cluster 0"
          ],
          [
           "5.000",
           "302.000",
           "113.600",
           "73.100",
           "196.600",
           "4.115",
           "23.200",
           "20.000",
           "Cluster 0"
          ],
          [
           "3.200",
           "215.000",
           "105.900",
           "67.800",
           "180.300",
           "3.213",
           "16.400",
           "26.000",
           "Cluster 0"
          ],
          [
           "2.300",
           "190.000",
           "94.500",
           "67.500",
           "157.900",
           "3.055",
           "15.900",
           "26.000",
           "Cluster 0"
          ],
          [
           "5.000",
           "302.000",
           "99.000",
           "71.300",
           "177.100",
           "4.125",
           "21.100",
           "20.000",
           "Cluster 0"
          ],
          [
           "4.300",
           "275.000",
           "121.500",
           "73.100",
           "203.100",
           "4.133",
           "23.200",
           "21.000",
           "Cluster 0"
          ],
          [
           "2.300",
           "185.000",
           "105.900",
           "67.700",
           "177.400",
           "3.250",
           "16.400",
           "26.000",
           "Cluster 0"
          ],
          [
           "3.300",
           "170.000",
           "112.200",
           "74.900",
           "194.700",
           "3.944",
           "20.000",
           "21.000",
           "Cluster 0"
          ],
          [
           "4.000",
           "210.000",
           "111.600",
           "70.200",
           "190.100",
           "3.876",
           "21.000",
           "18.000",
           "Cluster 0"
          ],
          [
           "4.600",
           "200.000",
           "114.700",
           "78.200",
           "212.000",
           "3.958",
           "19.000",
           "21.000",
           "Cluster 0"
          ],
          [
           "3.000",
           "153.000",
           "108.500",
           "73.000",
           "199.700",
           "3.379",
           "16.000",
           "24.000",
           "Cluster 0"
          ],
          [
           "2.000",
           "125.000",
           "106.400",
           "69.600",
           "185.000",
           "2.892",
           "16.000",
           "30.000",
           "Cluster 0"
          ],
          [
           "3.000",
           "173.000",
           "107.300",
           "66.700",
           "178.300",
           "3.510",
           "19.500",
           "20.000",
           "Cluster 0"
          ],
          [
           "3.500",
           "200.000",
           "107.300",
           "69.900",
           "186.600",
           "4.520",
           "24.300",
           "18.000",
           "Cluster 0"
          ],
          [
           "3.000",
           "161.000",
           "97.200",
           "72.400",
           "180.300",
           "3.131",
           "19.800",
           "21.000",
           "Cluster 0"
          ],
          [
           "3.500",
           "210.000",
           "107.100",
           "70.300",
           "194.100",
           "3.443",
           "19.000",
           "22.000",
           "Cluster 0"
          ],
          [
           "2.400",
           "154.000",
           "100.800",
           "68.900",
           "175.400",
           "2.910",
           "15.900",
           "24.000",
           "Cluster 0"
          ],
          [
           "1.800",
           "113.000",
           "98.400",
           "66.500",
           "173.600",
           "2.250",
           "13.200",
           "30.000",
           "Cluster 0"
          ],
          [
           "2.300",
           "236.000",
           "104.900",
           "71.500",
           "185.700",
           "3.601",
           "18.500",
           "23.000",
           "Cluster 0"
          ],
          [
           "4.600",
           "215.000",
           "117.700",
           "78.200",
           "215.300",
           "4.121",
           "19.000",
           "21.000",
           "Cluster 0"
          ],
          [
           "4.600",
           "275.000",
           "109.000",
           "73.600",
           "208.500",
           "3.868",
           "20.000",
           "22.000",
           "Cluster 0"
          ],
          [
           "3.000",
           "220.000",
           "103.000",
           "71.500",
           "180.100",
           "3.900",
           "17.200",
           "21.000",
           "Cluster 0"
          ],
          [
           "4.700",
           "230.000",
           "112.200",
           "76.400",
           "192.500",
           "5.401",
           "25.400",
           "15.000",
           "Cluster 0"
          ],
          [
           "4.000",
           "290.000",
           "112.200",
           "72.000",
           "196.700",
           "3.890",
           "22.500",
           "22.000",
           "Cluster 0"
          ],
          [
           "4.000",
           "300.000",
           "110.200",
           "70.900",
           "189.200",
           "3.693",
           "19.800",
           "21.000",
           "Cluster 0"
          ],
          [
           "3.000",
           "225.000",
           "110.200",
           "70.900",
           "189.200",
           "3.638",
           "19.800",
           "23.000",
           "Cluster 0"
          ],
          [
           "3.000",
           "210.000",
           "105.100",
           "70.500",
           "190.200",
           "3.373",
           "18.500",
           "23.000",
           "Cluster 0"
          ],
          [
           "4.000",
           "195.000",
           "105.900",
           "72.300",
           "181.500",
           "3.880",
           "20.500",
           "19.000",
           "Cluster 0"
          ],
          [
           "4.000",
           "190.000",
           "101.400",
           "69.400",
           "167.500",
           "3.194",
           "20.000",
           "20.000",
           "Cluster 0"
          ],
          [
           "1.800",
           "126.000",
           "99.800",
           "67.300",
           "177.500",
           "2.593",
           "13.200",
           "30.000",
           "Cluster 0"
          ],
          [
           "2.500",
           "120.000",
           "93.400",
           "66.700",
           "152.000",
           "3.045",
           "19.000",
           "17.000",
           "Cluster 0"
          ],
          [
           "3.300",
           "170.000",
           "112.200",
           "74.900",
           "194.800",
           "3.991",
           "20.000",
           "21.000",
           "Cluster 0"
          ],
          [
           "3.300",
           "170.000",
           "104.300",
           "70.400",
           "178.000",
           "3.821",
           "19.400",
           "18.000",
           "Cluster 0"
          ],
          [
           "2.000",
           "115.000",
           "98.900",
           "67.900",
           "161.100",
           "2.769",
           "14.500",
           "26.000",
           "Cluster 0"
          ],
          [
           "2.000",
           "115.000",
           "98.900",
           "68.300",
           "163.300",
           "2.762",
           "14.600",
           "26.000",
           "Cluster 0"
          ],
          [
           "2.000",
           "115.000",
           "97.400",
           "66.700",
           "160.400",
           "3.079",
           "13.700",
           "26.000",
           "Cluster 0"
          ],
          [
           "2.000",
           "115.000",
           "98.900",
           "68.300",
           "172.300",
           "2.853",
           "14.500",
           "26.000",
           "Cluster 0"
          ],
          [
           "2.000",
           "115.000",
           "98.900",
           "68.300",
           "163.300",
           "2.767",
           "14.500",
           "26.000",
           "Cluster 0"
          ],
          [
           "4.700",
           "230.000",
           "112.200",
           "76.400",
           "192.500",
           "5.115",
           "25.400",
           "15.000",
           "Cluster 0"
          ],
          [
           "2.700",
           "150.000",
           "105.300",
           "66.500",
           "183.300",
           "3.440",
           "18.500",
           "23.000",
           "Cluster 0"
          ],
          [
           "3.000",
           "194.000",
           "114.200",
           "73.400",
           "193.500",
           "3.759",
           "20.900",
           "22.000",
           "Cluster 0"
          ],
          [
           "2.400",
           "142.000",
           "103.300",
           "66.500",
           "178.700",
           "2.580",
           "15.100",
           "23.000",
           "Cluster 0"
          ],
          [
           "1.800",
           "140.000",
           "102.400",
           "68.300",
           "170.500",
           "2.425",
           "14.500",
           "31.000",
           "Cluster 0"
          ],
          [
           "3.000",
           "210.000",
           "107.100",
           "71.700",
           "191.900",
           "3.417",
           "18.500",
           "26.000",
           "Cluster 0"
          ],
          [
           "1.800",
           "120.000",
           "97.000",
           "66.700",
           "174.000",
           "2.420",
           "13.200",
           "33.000",
           "Cluster 0"
          ],
          [
           "2.500",
           "165.000",
           "99.400",
           "68.300",
           "175.200",
           "3.125",
           "15.900",
           "24.000",
           "Cluster 0"
          ],
          [
           "1.900",
           "124.000",
           "102.400",
           "66.400",
           "176.900",
           "2.452",
           "12.100",
           "31.000",
           "Cluster 0"
          ],
          [
           "1.900",
           "100.000",
           "102.400",
           "66.400",
           "180.000",
           "2.367",
           "12.100",
           "33.000",
           "Cluster 0"
          ],
          [
           "1.900",
           "100.000",
           "102.400",
           "66.400",
           "176.900",
           "2.332",
           "12.100",
           "33.000",
           "Cluster 0"
          ],
          [
           "2.000",
           "185.000",
           "102.600",
           "67.400",
           "182.200",
           "2.990",
           "16.900",
           "23.000",
           "Cluster 0"
          ],
          [
           "2.300",
           "170.000",
           "106.400",
           "70.600",
           "189.200",
           "3.280",
           "18.500",
           "23.000",
           "Cluster 0"
          ],
          [
           "3.400",
           "300.000",
           "92.600",
           "69.500",
           "174.500",
           "3.075",
           "17.000",
           "23.000",
           "Cluster 0"
          ],
          [
           "3.400",
           "300.000",
           "92.600",
           "69.500",
           "174.500",
           "3.032",
           "17.000",
           "21.000",
           "Cluster 0"
          ],
          [
           "2.700",
           "217.000",
           "95.200",
           "70.100",
           "171.000",
           "2.778",
           "17.000",
           "22.000",
           "Cluster 0"
          ],
          [
           "3.400",
           "185.000",
           "120.000",
           "72.700",
           "201.300",
           "3.942",
           "25.000",
           "23.000",
           "Cluster 0"
          ],
          [
           "3.500",
           "253.000",
           "113.300",
           "76.300",
           "165.400",
           "2.850",
           "12.000",
           "21.000",
           "Cluster 0"
          ],
          [
           "2.400",
           "150.000",
           "113.300",
           "76.800",
           "186.300",
           "3.528",
           "20.000",
           "24.000",
           "Cluster 0"
          ],
          [
           "2.000",
           "132.000",
           "105.000",
           "74.400",
           "174.400",
           "2.559",
           "12.500",
           "29.000",
           "Cluster 0"
          ],
          [
           "3.400",
           "185.000",
           "120.000",
           "72.200",
           "201.400",
           "3.948",
           "25.000",
           "22.000",
           "Cluster 0"
          ],
          [
           "4.000",
           "250.000",
           "113.800",
           "74.400",
           "205.400",
           "3.967",
           "18.500",
           "22.000",
           "Cluster 0"
          ],
          [
           "3.500",
           "215.000",
           "109.000",
           "73.600",
           "195.900",
           "3.455",
           "18.000",
           "$null$",
           "Cluster 0"
          ],
          [
           "3.300",
           "170.000",
           "116.100",
           "66.500",
           "196.100",
           "3.217",
           "19.400",
           "18.000",
           "Cluster 0"
          ],
          [
           "3.300",
           "170.000",
           "106.300",
           "71.700",
           "182.600",
           "3.947",
           "21.000",
           "19.000",
           "Cluster 0"
          ],
          [
           "3.000",
           "240.000",
           "114.500",
           "71.600",
           "191.300",
           "3.650",
           "18.400",
           "21.000",
           "Cluster 0"
          ],
          [
           "5.400",
           "300.000",
           "119.000",
           "79.900",
           "204.800",
           "5.393",
           "30.000",
           "15.000",
           "Cluster 0"
          ],
          [
           "2.900",
           "201.000",
           "109.900",
           "72.100",
           "189.800",
           "3.600",
           "21.100",
           "24.000",
           "Cluster 0"
          ],
          [
           "8.000",
           "450.000",
           "96.200",
           "75.700",
           "176.700",
           "3.375",
           "19.000",
           "16.000",
           "Cluster 0"
          ],
          [
           "2.700",
           "202.000",
           "113.000",
           "74.700",
           "203.700",
           "3.489",
           "17.000",
           "$null$",
           "Cluster 0"
          ],
          [
           "2.500",
           "168.000",
           "108.000",
           "71.000",
           "186.000",
           "3.058",
           "16.000",
           "24.000",
           "Cluster 0"
          ],
          [
           "2.800",
           "193.000",
           "107.300",
           "68.500",
           "176.000",
           "3.197",
           "16.600",
           "24.000",
           "Cluster 0"
          ],
          [
           "2.500",
           "163.000",
           "103.700",
           "69.100",
           "190.200",
           "2.879",
           "15.900",
           "24.000",
           "Cluster 0"
          ],
          [
           "2.000",
           "132.000",
           "105.000",
           "74.400",
           "174.400",
           "2.567",
           "12.500",
           "29.000",
           "Cluster 0"
          ],
          [
           "3.500",
           "253.000",
           "113.000",
           "74.400",
           "197.800",
           "3.567",
           "17.000",
           "23.000",
           "Cluster 0"
          ],
          [
           "$null$",
           "$null$",
           "$null$",
           "$null$",
           "$null$",
           "$null$",
           "$null$",
           "$null$",
           "Cluster 0"
          ],
          [
           "2.800",
           "193.000",
           "111.400",
           "70.900",
           "188.000",
           "3.472",
           "18.500",
           "24.800",
           "Cluster 0"
          ],
          [
           "3.500",
           "253.000",
           "113.000",
           "74.400",
           "207.700",
           "3.564",
           "17.000",
           "23.000",
           "Cluster 0"
          ],
          [
           "2.700",
           "200.000",
           "113.000",
           "74.400",
           "209.100",
           "3.452",
           "17.000",
           "26.000",
           "Cluster 0"
          ],
          [
           "2.500",
           "168.000",
           "106.000",
           "69.200",
           "193.000",
           "3.332",
           "16.000",
           "24.000",
           "Cluster 0"
          ],
          [
           "2.500",
           "163.000",
           "103.700",
           "69.700",
           "190.900",
           "2.967",
           "15.900",
           "24.000",
           "Cluster 0"
          ],
          [
           "4.600",
           "275.000",
           "115.300",
           "74.500",
           "207.200",
           "3.978",
           "18.500",
           "22.000",
           "Cluster 0"
          ],
          [
           "4.600",
           "275.000",
           "112.200",
           "75.000",
           "201.000",
           "$null$",
           "18.500",
           "22.000",
           "Cluster 0"
          ],
          [
           "4.600",
           "275.000",
           "108.000",
           "75.500",
           "200.600",
           "3.843",
           "19.000",
           "22.000",
           "Cluster 0"
          ],
          [
           "1.000",
           "55.000",
           "93.100",
           "62.600",
           "149.400",
           "1.895",
           "10.300",
           "45.000",
           "Cluster 0"
          ],
          [
           "1.800",
           "120.000",
           "97.100",
           "66.700",
           "174.300",
           "2.398",
           "13.200",
           "33.000",
           "Cluster 0"
          ],
          [
           "3.000",
           "200.000",
           "107.400",
           "70.300",
           "194.800",
           "3.770",
           "18.000",
           "22.000",
           "Cluster 0"
          ],
          [
           "5.700",
           "345.000",
           "104.500",
           "73.600",
           "179.700",
           "3.210",
           "19.100",
           "22.000",
           "Cluster 0"
          ],
          [
           "5.700",
           "255.000",
           "117.500",
           "77.000",
           "201.200",
           "5.572",
           "30.000",
           "15.000",
           "Cluster 0"
          ],
          [
           "3.900",
           "175.000",
           "109.600",
           "78.800",
           "192.600",
           "4.245",
           "32.000",
           "15.000",
           "Cluster 0"
          ],
          [
           "3.900",
           "175.000",
           "127.200",
           "78.800",
           "208.500",
           "4.298",
           "32.000",
           "16.000",
           "Cluster 0"
          ],
          [
           "5.200",
           "230.000",
           "138.700",
           "79.300",
           "224.200",
           "4.470",
           "26.000",
           "17.000",
           "Cluster 0"
          ],
          [
           "5.200",
           "230.000",
           "115.700",
           "71.700",
           "193.500",
           "4.394",
           "25.000",
           "17.000",
           "Cluster 0"
          ],
          [
           "2.500",
           "119.000",
           "117.500",
           "69.400",
           "200.700",
           "3.086",
           "20.000",
           "23.000",
           "Cluster 0"
          ],
          [
           "2.000",
           "146.000",
           "103.200",
           "68.900",
           "177.600",
           "3.219",
           "15.300",
           "24.000",
           "Cluster 0"
          ],
          [
           "4.600",
           "240.000",
           "119.000",
           "78.700",
           "204.600",
           "4.808",
           "26.000",
           "16.000",
           "Cluster 0"
          ],
          [
           "3.000",
           "150.000",
           "120.700",
           "76.600",
           "200.900",
           "3.761",
           "26.000",
           "21.000",
           "Cluster 0"
          ],
          [
           "2.500",
           "120.000",
           "131.000",
           "71.500",
           "215.000",
           "3.557",
           "22.000",
           "19.000",
           "Cluster 0"
          ],
          [
           "4.000",
           "210.000",
           "111.600",
           "70.200",
           "190.700",
           "3.876",
           "21.000",
           "19.000",
           "Cluster 0"
          ],
          [
           "3.500",
           "210.000",
           "114.600",
           "71.400",
           "196.600",
           "3.850",
           "18.000",
           "22.000",
           "Cluster 0"
          ],
          [
           "4.600",
           "200.000",
           "114.700",
           "78.200",
           "212.000",
           "3.908",
           "19.000",
           "21.000",
           "Cluster 0"
          ],
          [
           "4.600",
           "220.000",
           "138.500",
           "79.100",
           "224.500",
           "4.241",
           "25.100",
           "18.000",
           "Cluster 0"
          ],
          [
           "2.000",
           "107.000",
           "103.000",
           "66.900",
           "174.800",
           "2.564",
           "13.200",
           "30.000",
           "Cluster 0"
          ],
          [
           "3.000",
           "155.000",
           "108.500",
           "73.000",
           "197.600",
           "3.368",
           "16.000",
           "24.000",
           "Cluster 0"
          ],
          [
           "2.800",
           "200.000",
           "108.700",
           "76.100",
           "192.000",
           "3.561",
           "18.500",
           "22.000",
           "Cluster 0"
          ],
          [
           "4.200",
           "310.000",
           "113.000",
           "74.000",
           "198.200",
           "3.902",
           "23.700",
           "21.000",
           "Cluster 0"
          ],
          [
           "2.000",
           "110.000",
           "98.400",
           "67.000",
           "174.700",
           "2.468",
           "12.700",
           "30.000",
           "Cluster 0"
          ],
          [
           "2.500",
           "170.000",
           "107.300",
           "68.400",
           "176.000",
           "3.179",
           "16.600",
           "26.100",
           "Cluster 0"
          ],
          [
           "2.400",
           "150.000",
           "113.300",
           "76.800",
           "186.300",
           "3.533",
           "20.000",
           "24.000",
           "Cluster 0"
          ],
          [
           "1.500",
           "92.000",
           "96.100",
           "65.700",
           "166.700",
           "2.240",
           "11.900",
           "31.000",
           "Cluster 0"
          ],
          [
           "3.200",
           "225.000",
           "106.900",
           "70.600",
           "192.000",
           "3.470",
           "17.200",
           "26.000",
           "Cluster 0"
          ],
          [
           "3.500",
           "210.000",
           "118.100",
           "75.600",
           "201.200",
           "4.288",
           "20.000",
           "23.000",
           "Cluster 0"
          ],
          [
           "1.600",
           "106.000",
           "103.200",
           "67.100",
           "175.100",
           "2.339",
           "11.900",
           "32.000",
           "Cluster 0"
          ]
         ],
         "hoverlabel": {
          "namelength": 0
         },
         "hovertemplate": "Cluster=%{customdata[8]}<br>engine_s=%{customdata[0]}<br>horsepow=%{customdata[1]}<br>wheelbas=%{customdata[2]}<br>width=%{customdata[3]}<br>length=%{customdata[4]}<br>curb_wgt=%{customdata[5]}<br>fuel_cap=%{customdata[6]}<br>mpg=%{customdata[7]}",
         "legendgroup": "Cluster=Cluster 0",
         "marker": {
          "color": "#636efa"
         },
         "name": "Cluster=Cluster 0",
         "notched": true,
         "offsetgroup": "Cluster=Cluster 0",
         "showlegend": false,
         "type": "box",
         "x": [
          "Cluster 0",
          "Cluster 0",
          "Cluster 0",
          "Cluster 0",
          "Cluster 0",
          "Cluster 0",
          "Cluster 0",
          "Cluster 0",
          "Cluster 0",
          "Cluster 0",
          "Cluster 0",
          "Cluster 0",
          "Cluster 0",
          "Cluster 0",
          "Cluster 0",
          "Cluster 0",
          "Cluster 0",
          "Cluster 0",
          "Cluster 0",
          "Cluster 0",
          "Cluster 0",
          "Cluster 0",
          "Cluster 0",
          "Cluster 0",
          "Cluster 0",
          "Cluster 0",
          "Cluster 0",
          "Cluster 0",
          "Cluster 0",
          "Cluster 0",
          "Cluster 0",
          "Cluster 0",
          "Cluster 0",
          "Cluster 0",
          "Cluster 0",
          "Cluster 0",
          "Cluster 0",
          "Cluster 0",
          "Cluster 0",
          "Cluster 0",
          "Cluster 0",
          "Cluster 0",
          "Cluster 0",
          "Cluster 0",
          "Cluster 0",
          "Cluster 0",
          "Cluster 0",
          "Cluster 0",
          "Cluster 0",
          "Cluster 0",
          "Cluster 0",
          "Cluster 0",
          "Cluster 0",
          "Cluster 0",
          "Cluster 0",
          "Cluster 0",
          "Cluster 0",
          "Cluster 0",
          "Cluster 0",
          "Cluster 0",
          "Cluster 0",
          "Cluster 0",
          "Cluster 0",
          "Cluster 0",
          "Cluster 0",
          "Cluster 0",
          "Cluster 0",
          "Cluster 0",
          "Cluster 0",
          "Cluster 0",
          "Cluster 0",
          "Cluster 0",
          "Cluster 0",
          "Cluster 0",
          "Cluster 0",
          "Cluster 0",
          "Cluster 0",
          "Cluster 0",
          "Cluster 0",
          "Cluster 0",
          "Cluster 0",
          "Cluster 0",
          "Cluster 0",
          "Cluster 0",
          "Cluster 0",
          "Cluster 0",
          "Cluster 0",
          "Cluster 0",
          "Cluster 0",
          "Cluster 0",
          "Cluster 0",
          "Cluster 0",
          "Cluster 0",
          "Cluster 0",
          "Cluster 0",
          "Cluster 0",
          "Cluster 0",
          "Cluster 0",
          "Cluster 0",
          "Cluster 0",
          "Cluster 0",
          "Cluster 0",
          "Cluster 0",
          "Cluster 0",
          "Cluster 0",
          "Cluster 0",
          "Cluster 0",
          "Cluster 0",
          "Cluster 0",
          "Cluster 0",
          "Cluster 0",
          "Cluster 0"
         ],
         "xaxis": "x2",
         "yaxis": "y2"
        },
        {
         "alignmentgroup": "True",
         "bingroup": "x",
         "hoverlabel": {
          "namelength": 0
         },
         "hovertemplate": "Cluster=%{x}<br>count=%{y}",
         "legendgroup": "Cluster=Cluster 1",
         "marker": {
          "color": "#EF553B",
          "opacity": 0.7
         },
         "name": "Cluster=Cluster 1",
         "offsetgroup": "Cluster=Cluster 1",
         "orientation": "v",
         "showlegend": true,
         "type": "histogram",
         "x": [
          "Cluster 1",
          "Cluster 1",
          "Cluster 1",
          "Cluster 1",
          "Cluster 1",
          "Cluster 1",
          "Cluster 1",
          "Cluster 1",
          "Cluster 1",
          "Cluster 1",
          "Cluster 1",
          "Cluster 1",
          "Cluster 1",
          "Cluster 1",
          "Cluster 1",
          "Cluster 1",
          "Cluster 1"
         ],
         "xaxis": "x",
         "yaxis": "y"
        },
        {
         "alignmentgroup": "True",
         "customdata": [
          [
           "2.200",
           "137.000",
           "106.500",
           "69.000",
           "190.400",
           "2.910",
           "13.100",
           "28.000",
           "Cluster 1"
          ],
          [
           "2.200",
           "137.000",
           "106.500",
           "69.000",
           "190.400",
           "3.075",
           "13.100",
           "27.000",
           "Cluster 1"
          ],
          [
           "2.200",
           "133.000",
           "105.200",
           "70.100",
           "188.500",
           "2.998",
           "18.500",
           "27.000",
           "Cluster 1"
          ],
          [
           "1.800",
           "150.000",
           "102.600",
           "68.200",
           "178.000",
           "2.998",
           "16.400",
           "27.000",
           "Cluster 1"
          ],
          [
           "2.000",
           "127.000",
           "94.900",
           "66.700",
           "163.800",
           "2.668",
           "15.300",
           "27.000",
           "Cluster 1"
          ],
          [
           "2.200",
           "115.000",
           "104.100",
           "67.900",
           "180.900",
           "2.676",
           "14.300",
           "27.000",
           "Cluster 1"
          ],
          [
           "1.800",
           "150.000",
           "106.400",
           "68.500",
           "184.100",
           "3.043",
           "16.400",
           "27.000",
           "Cluster 1"
          ],
          [
           "3.400",
           "180.000",
           "110.500",
           "72.700",
           "197.900",
           "3.340",
           "17.000",
           "27.000",
           "Cluster 1"
          ],
          [
           "3.400",
           "180.000",
           "110.500",
           "73.000",
           "200.000",
           "3.389",
           "17.000",
           "27.000",
           "Cluster 1"
          ],
          [
           "2.300",
           "185.000",
           "94.500",
           "67.500",
           "157.300",
           "2.975",
           "14.000",
           "27.000",
           "Cluster 1"
          ],
          [
           "2.000",
           "125.000",
           "106.500",
           "69.100",
           "184.800",
           "2.769",
           "15.000",
           "28.000",
           "Cluster 1"
          ],
          [
           "2.400",
           "150.000",
           "104.100",
           "68.400",
           "181.900",
           "2.906",
           "15.000",
           "27.000",
           "Cluster 1"
          ],
          [
           "2.000",
           "132.000",
           "108.000",
           "71.000",
           "186.000",
           "2.911",
           "16.000",
           "27.000",
           "Cluster 1"
          ],
          [
           "2.000",
           "132.000",
           "108.000",
           "71.000",
           "186.300",
           "2.942",
           "16.000",
           "27.000",
           "Cluster 1"
          ],
          [
           "2.000",
           "140.000",
           "100.400",
           "66.900",
           "174.000",
           "2.626",
           "14.500",
           "27.000",
           "Cluster 1"
          ],
          [
           "2.300",
           "135.000",
           "106.900",
           "70.300",
           "188.800",
           "2.932",
           "17.100",
           "27.000",
           "Cluster 1"
          ],
          [
           "2.400",
           "150.000",
           "107.000",
           "70.100",
           "186.700",
           "2.958",
           "15.000",
           "27.000",
           "Cluster 1"
          ]
         ],
         "hoverlabel": {
          "namelength": 0
         },
         "hovertemplate": "Cluster=%{customdata[8]}<br>engine_s=%{customdata[0]}<br>horsepow=%{customdata[1]}<br>wheelbas=%{customdata[2]}<br>width=%{customdata[3]}<br>length=%{customdata[4]}<br>curb_wgt=%{customdata[5]}<br>fuel_cap=%{customdata[6]}<br>mpg=%{customdata[7]}",
         "legendgroup": "Cluster=Cluster 1",
         "marker": {
          "color": "#EF553B"
         },
         "name": "Cluster=Cluster 1",
         "notched": true,
         "offsetgroup": "Cluster=Cluster 1",
         "showlegend": false,
         "type": "box",
         "x": [
          "Cluster 1",
          "Cluster 1",
          "Cluster 1",
          "Cluster 1",
          "Cluster 1",
          "Cluster 1",
          "Cluster 1",
          "Cluster 1",
          "Cluster 1",
          "Cluster 1",
          "Cluster 1",
          "Cluster 1",
          "Cluster 1",
          "Cluster 1",
          "Cluster 1",
          "Cluster 1",
          "Cluster 1"
         ],
         "xaxis": "x2",
         "yaxis": "y2"
        },
        {
         "alignmentgroup": "True",
         "bingroup": "x",
         "hoverlabel": {
          "namelength": 0
         },
         "hovertemplate": "Cluster=%{x}<br>count=%{y}",
         "legendgroup": "Cluster=Cluster 2",
         "marker": {
          "color": "#00cc96",
          "opacity": 0.7
         },
         "name": "Cluster=Cluster 2",
         "offsetgroup": "Cluster=Cluster 2",
         "orientation": "v",
         "showlegend": true,
         "type": "histogram",
         "x": [
          "Cluster 2",
          "Cluster 2",
          "Cluster 2",
          "Cluster 2",
          "Cluster 2",
          "Cluster 2",
          "Cluster 2",
          "Cluster 2",
          "Cluster 2",
          "Cluster 2",
          "Cluster 2",
          "Cluster 2",
          "Cluster 2",
          "Cluster 2",
          "Cluster 2",
          "Cluster 2",
          "Cluster 2",
          "Cluster 2",
          "Cluster 2",
          "Cluster 2",
          "Cluster 2",
          "Cluster 2",
          "Cluster 2",
          "Cluster 2",
          "Cluster 2",
          "Cluster 2",
          "Cluster 2",
          "Cluster 2"
         ],
         "xaxis": "x",
         "yaxis": "y"
        },
        {
         "alignmentgroup": "True",
         "customdata": [
          [
           "3.800",
           "190.000",
           "101.300",
           "73.100",
           "183.200",
           "3.203",
           "15.700",
           "24.000",
           "Cluster 2"
          ],
          [
           "2.500",
           "170.000",
           "106.500",
           "69.100",
           "184.600",
           "2.769",
           "15.000",
           "25.000",
           "Cluster 2"
          ],
          [
           "2.400",
           "145.000",
           "103.700",
           "68.500",
           "187.800",
           "2.945",
           "16.300",
           "25.000",
           "Cluster 2"
          ],
          [
           "3.800",
           "195.000",
           "110.500",
           "72.700",
           "196.500",
           "3.396",
           "18.000",
           "25.000",
           "Cluster 2"
          ],
          [
           "3.200",
           "225.000",
           "108.100",
           "70.300",
           "192.900",
           "3.517",
           "17.200",
           "25.000",
           "Cluster 2"
          ],
          [
           "1.900",
           "160.000",
           "100.500",
           "67.600",
           "176.600",
           "2.998",
           "15.800",
           "25.000",
           "Cluster 2"
          ],
          [
           "1.900",
           "160.000",
           "100.500",
           "67.600",
           "176.600",
           "3.042",
           "15.800",
           "25.000",
           "Cluster 2"
          ],
          [
           "2.400",
           "168.000",
           "104.900",
           "69.300",
           "185.900",
           "3.208",
           "17.900",
           "25.000",
           "Cluster 2"
          ],
          [
           "2.400",
           "168.000",
           "104.900",
           "69.300",
           "186.200",
           "3.259",
           "17.900",
           "25.000",
           "Cluster 2"
          ],
          [
           "3.200",
           "221.000",
           "111.500",
           "70.800",
           "189.400",
           "3.823",
           "21.100",
           "25.000",
           "Cluster 2"
          ],
          [
           "3.200",
           "205.000",
           "106.400",
           "70.400",
           "178.200",
           "3.857",
           "21.100",
           "19.000",
           "Cluster 2"
          ],
          [
           "3.800",
           "240.000",
           "109.000",
           "72.700",
           "196.200",
           "3.543",
           "17.500",
           "23.000",
           "Cluster 2"
          ],
          [
           "3.100",
           "175.000",
           "109.000",
           "72.700",
           "194.600",
           "3.368",
           "17.500",
           "25.000",
           "Cluster 2"
          ],
          [
           "3.800",
           "200.000",
           "101.100",
           "74.500",
           "193.400",
           "3.492",
           "16.800",
           "25.000",
           "Cluster 2"
          ],
          [
           "3.000",
           "222.000",
           "108.300",
           "70.300",
           "190.500",
           "3.294",
           "18.500",
           "25.000",
           "Cluster 2"
          ],
          [
           "3.800",
           "205.000",
           "113.800",
           "74.700",
           "206.800",
           "3.778",
           "18.500",
           "24.000",
           "Cluster 2"
          ],
          [
           "3.800",
           "205.000",
           "112.200",
           "73.500",
           "200.000",
           "3.591",
           "17.500",
           "25.000",
           "Cluster 2"
          ],
          [
           "2.500",
           "165.000",
           "103.500",
           "67.500",
           "185.800",
           "3.415",
           "16.900",
           "25.000",
           "Cluster 2"
          ],
          [
           "3.100",
           "150.000",
           "107.000",
           "69.400",
           "192.000",
           "3.102",
           "15.200",
           "25.000",
           "Cluster 2"
          ],
          [
           "3.000",
           "227.000",
           "108.300",
           "70.200",
           "193.700",
           "3.342",
           "18.500",
           "25.000",
           "Cluster 2"
          ],
          [
           "4.300",
           "190.000",
           "107.000",
           "67.800",
           "181.200",
           "4.068",
           "17.500",
           "19.000",
           "Cluster 2"
          ],
          [
           "3.800",
           "200.000",
           "101.100",
           "74.100",
           "193.200",
           "3.500",
           "16.800",
           "25.000",
           "Cluster 2"
          ],
          [
           "3.100",
           "170.000",
           "107.000",
           "69.400",
           "190.400",
           "3.051",
           "15.000",
           "25.000",
           "Cluster 2"
          ],
          [
           "3.100",
           "175.000",
           "107.500",
           "72.500",
           "200.900",
           "3.330",
           "16.600",
           "25.000",
           "Cluster 2"
          ],
          [
           "3.400",
           "175.000",
           "107.000",
           "70.400",
           "186.300",
           "3.091",
           "15.200",
           "25.000",
           "Cluster 2"
          ],
          [
           "3.800",
           "205.000",
           "112.200",
           "72.600",
           "202.500",
           "3.590",
           "17.500",
           "24.000",
           "Cluster 2"
          ],
          [
           "2.400",
           "155.000",
           "103.100",
           "69.100",
           "183.500",
           "3.012",
           "15.900",
           "25.000",
           "Cluster 2"
          ],
          [
           "2.400",
           "148.000",
           "106.300",
           "71.600",
           "185.400",
           "3.072",
           "17.200",
           "25.000",
           "Cluster 2"
          ]
         ],
         "hoverlabel": {
          "namelength": 0
         },
         "hovertemplate": "Cluster=%{customdata[8]}<br>engine_s=%{customdata[0]}<br>horsepow=%{customdata[1]}<br>wheelbas=%{customdata[2]}<br>width=%{customdata[3]}<br>length=%{customdata[4]}<br>curb_wgt=%{customdata[5]}<br>fuel_cap=%{customdata[6]}<br>mpg=%{customdata[7]}",
         "legendgroup": "Cluster=Cluster 2",
         "marker": {
          "color": "#00cc96"
         },
         "name": "Cluster=Cluster 2",
         "notched": true,
         "offsetgroup": "Cluster=Cluster 2",
         "showlegend": false,
         "type": "box",
         "x": [
          "Cluster 2",
          "Cluster 2",
          "Cluster 2",
          "Cluster 2",
          "Cluster 2",
          "Cluster 2",
          "Cluster 2",
          "Cluster 2",
          "Cluster 2",
          "Cluster 2",
          "Cluster 2",
          "Cluster 2",
          "Cluster 2",
          "Cluster 2",
          "Cluster 2",
          "Cluster 2",
          "Cluster 2",
          "Cluster 2",
          "Cluster 2",
          "Cluster 2",
          "Cluster 2",
          "Cluster 2",
          "Cluster 2",
          "Cluster 2",
          "Cluster 2",
          "Cluster 2",
          "Cluster 2",
          "Cluster 2"
         ],
         "xaxis": "x2",
         "yaxis": "y2"
        }
       ],
       "layout": {
        "barmode": "relative",
        "legend": {
         "tracegroupgap": 0
        },
        "margin": {
         "t": 60
        },
        "template": {
         "data": {
          "bar": [
           {
            "error_x": {
             "color": "#2a3f5f"
            },
            "error_y": {
             "color": "#2a3f5f"
            },
            "marker": {
             "line": {
              "color": "#E5ECF6",
              "width": 0.5
             }
            },
            "type": "bar"
           }
          ],
          "barpolar": [
           {
            "marker": {
             "line": {
              "color": "#E5ECF6",
              "width": 0.5
             }
            },
            "type": "barpolar"
           }
          ],
          "carpet": [
           {
            "aaxis": {
             "endlinecolor": "#2a3f5f",
             "gridcolor": "white",
             "linecolor": "white",
             "minorgridcolor": "white",
             "startlinecolor": "#2a3f5f"
            },
            "baxis": {
             "endlinecolor": "#2a3f5f",
             "gridcolor": "white",
             "linecolor": "white",
             "minorgridcolor": "white",
             "startlinecolor": "#2a3f5f"
            },
            "type": "carpet"
           }
          ],
          "choropleth": [
           {
            "colorbar": {
             "outlinewidth": 0,
             "ticks": ""
            },
            "type": "choropleth"
           }
          ],
          "contour": [
           {
            "colorbar": {
             "outlinewidth": 0,
             "ticks": ""
            },
            "colorscale": [
             [
              0,
              "#0d0887"
             ],
             [
              0.1111111111111111,
              "#46039f"
             ],
             [
              0.2222222222222222,
              "#7201a8"
             ],
             [
              0.3333333333333333,
              "#9c179e"
             ],
             [
              0.4444444444444444,
              "#bd3786"
             ],
             [
              0.5555555555555556,
              "#d8576b"
             ],
             [
              0.6666666666666666,
              "#ed7953"
             ],
             [
              0.7777777777777778,
              "#fb9f3a"
             ],
             [
              0.8888888888888888,
              "#fdca26"
             ],
             [
              1,
              "#f0f921"
             ]
            ],
            "type": "contour"
           }
          ],
          "contourcarpet": [
           {
            "colorbar": {
             "outlinewidth": 0,
             "ticks": ""
            },
            "type": "contourcarpet"
           }
          ],
          "heatmap": [
           {
            "colorbar": {
             "outlinewidth": 0,
             "ticks": ""
            },
            "colorscale": [
             [
              0,
              "#0d0887"
             ],
             [
              0.1111111111111111,
              "#46039f"
             ],
             [
              0.2222222222222222,
              "#7201a8"
             ],
             [
              0.3333333333333333,
              "#9c179e"
             ],
             [
              0.4444444444444444,
              "#bd3786"
             ],
             [
              0.5555555555555556,
              "#d8576b"
             ],
             [
              0.6666666666666666,
              "#ed7953"
             ],
             [
              0.7777777777777778,
              "#fb9f3a"
             ],
             [
              0.8888888888888888,
              "#fdca26"
             ],
             [
              1,
              "#f0f921"
             ]
            ],
            "type": "heatmap"
           }
          ],
          "heatmapgl": [
           {
            "colorbar": {
             "outlinewidth": 0,
             "ticks": ""
            },
            "colorscale": [
             [
              0,
              "#0d0887"
             ],
             [
              0.1111111111111111,
              "#46039f"
             ],
             [
              0.2222222222222222,
              "#7201a8"
             ],
             [
              0.3333333333333333,
              "#9c179e"
             ],
             [
              0.4444444444444444,
              "#bd3786"
             ],
             [
              0.5555555555555556,
              "#d8576b"
             ],
             [
              0.6666666666666666,
              "#ed7953"
             ],
             [
              0.7777777777777778,
              "#fb9f3a"
             ],
             [
              0.8888888888888888,
              "#fdca26"
             ],
             [
              1,
              "#f0f921"
             ]
            ],
            "type": "heatmapgl"
           }
          ],
          "histogram": [
           {
            "marker": {
             "colorbar": {
              "outlinewidth": 0,
              "ticks": ""
             }
            },
            "type": "histogram"
           }
          ],
          "histogram2d": [
           {
            "colorbar": {
             "outlinewidth": 0,
             "ticks": ""
            },
            "colorscale": [
             [
              0,
              "#0d0887"
             ],
             [
              0.1111111111111111,
              "#46039f"
             ],
             [
              0.2222222222222222,
              "#7201a8"
             ],
             [
              0.3333333333333333,
              "#9c179e"
             ],
             [
              0.4444444444444444,
              "#bd3786"
             ],
             [
              0.5555555555555556,
              "#d8576b"
             ],
             [
              0.6666666666666666,
              "#ed7953"
             ],
             [
              0.7777777777777778,
              "#fb9f3a"
             ],
             [
              0.8888888888888888,
              "#fdca26"
             ],
             [
              1,
              "#f0f921"
             ]
            ],
            "type": "histogram2d"
           }
          ],
          "histogram2dcontour": [
           {
            "colorbar": {
             "outlinewidth": 0,
             "ticks": ""
            },
            "colorscale": [
             [
              0,
              "#0d0887"
             ],
             [
              0.1111111111111111,
              "#46039f"
             ],
             [
              0.2222222222222222,
              "#7201a8"
             ],
             [
              0.3333333333333333,
              "#9c179e"
             ],
             [
              0.4444444444444444,
              "#bd3786"
             ],
             [
              0.5555555555555556,
              "#d8576b"
             ],
             [
              0.6666666666666666,
              "#ed7953"
             ],
             [
              0.7777777777777778,
              "#fb9f3a"
             ],
             [
              0.8888888888888888,
              "#fdca26"
             ],
             [
              1,
              "#f0f921"
             ]
            ],
            "type": "histogram2dcontour"
           }
          ],
          "mesh3d": [
           {
            "colorbar": {
             "outlinewidth": 0,
             "ticks": ""
            },
            "type": "mesh3d"
           }
          ],
          "parcoords": [
           {
            "line": {
             "colorbar": {
              "outlinewidth": 0,
              "ticks": ""
             }
            },
            "type": "parcoords"
           }
          ],
          "pie": [
           {
            "automargin": true,
            "type": "pie"
           }
          ],
          "scatter": [
           {
            "marker": {
             "colorbar": {
              "outlinewidth": 0,
              "ticks": ""
             }
            },
            "type": "scatter"
           }
          ],
          "scatter3d": [
           {
            "line": {
             "colorbar": {
              "outlinewidth": 0,
              "ticks": ""
             }
            },
            "marker": {
             "colorbar": {
              "outlinewidth": 0,
              "ticks": ""
             }
            },
            "type": "scatter3d"
           }
          ],
          "scattercarpet": [
           {
            "marker": {
             "colorbar": {
              "outlinewidth": 0,
              "ticks": ""
             }
            },
            "type": "scattercarpet"
           }
          ],
          "scattergeo": [
           {
            "marker": {
             "colorbar": {
              "outlinewidth": 0,
              "ticks": ""
             }
            },
            "type": "scattergeo"
           }
          ],
          "scattergl": [
           {
            "marker": {
             "colorbar": {
              "outlinewidth": 0,
              "ticks": ""
             }
            },
            "type": "scattergl"
           }
          ],
          "scattermapbox": [
           {
            "marker": {
             "colorbar": {
              "outlinewidth": 0,
              "ticks": ""
             }
            },
            "type": "scattermapbox"
           }
          ],
          "scatterpolar": [
           {
            "marker": {
             "colorbar": {
              "outlinewidth": 0,
              "ticks": ""
             }
            },
            "type": "scatterpolar"
           }
          ],
          "scatterpolargl": [
           {
            "marker": {
             "colorbar": {
              "outlinewidth": 0,
              "ticks": ""
             }
            },
            "type": "scatterpolargl"
           }
          ],
          "scatterternary": [
           {
            "marker": {
             "colorbar": {
              "outlinewidth": 0,
              "ticks": ""
             }
            },
            "type": "scatterternary"
           }
          ],
          "surface": [
           {
            "colorbar": {
             "outlinewidth": 0,
             "ticks": ""
            },
            "colorscale": [
             [
              0,
              "#0d0887"
             ],
             [
              0.1111111111111111,
              "#46039f"
             ],
             [
              0.2222222222222222,
              "#7201a8"
             ],
             [
              0.3333333333333333,
              "#9c179e"
             ],
             [
              0.4444444444444444,
              "#bd3786"
             ],
             [
              0.5555555555555556,
              "#d8576b"
             ],
             [
              0.6666666666666666,
              "#ed7953"
             ],
             [
              0.7777777777777778,
              "#fb9f3a"
             ],
             [
              0.8888888888888888,
              "#fdca26"
             ],
             [
              1,
              "#f0f921"
             ]
            ],
            "type": "surface"
           }
          ],
          "table": [
           {
            "cells": {
             "fill": {
              "color": "#EBF0F8"
             },
             "line": {
              "color": "white"
             }
            },
            "header": {
             "fill": {
              "color": "#C8D4E3"
             },
             "line": {
              "color": "white"
             }
            },
            "type": "table"
           }
          ]
         },
         "layout": {
          "annotationdefaults": {
           "arrowcolor": "#2a3f5f",
           "arrowhead": 0,
           "arrowwidth": 1
          },
          "coloraxis": {
           "colorbar": {
            "outlinewidth": 0,
            "ticks": ""
           }
          },
          "colorscale": {
           "diverging": [
            [
             0,
             "#8e0152"
            ],
            [
             0.1,
             "#c51b7d"
            ],
            [
             0.2,
             "#de77ae"
            ],
            [
             0.3,
             "#f1b6da"
            ],
            [
             0.4,
             "#fde0ef"
            ],
            [
             0.5,
             "#f7f7f7"
            ],
            [
             0.6,
             "#e6f5d0"
            ],
            [
             0.7,
             "#b8e186"
            ],
            [
             0.8,
             "#7fbc41"
            ],
            [
             0.9,
             "#4d9221"
            ],
            [
             1,
             "#276419"
            ]
           ],
           "sequential": [
            [
             0,
             "#0d0887"
            ],
            [
             0.1111111111111111,
             "#46039f"
            ],
            [
             0.2222222222222222,
             "#7201a8"
            ],
            [
             0.3333333333333333,
             "#9c179e"
            ],
            [
             0.4444444444444444,
             "#bd3786"
            ],
            [
             0.5555555555555556,
             "#d8576b"
            ],
            [
             0.6666666666666666,
             "#ed7953"
            ],
            [
             0.7777777777777778,
             "#fb9f3a"
            ],
            [
             0.8888888888888888,
             "#fdca26"
            ],
            [
             1,
             "#f0f921"
            ]
           ],
           "sequentialminus": [
            [
             0,
             "#0d0887"
            ],
            [
             0.1111111111111111,
             "#46039f"
            ],
            [
             0.2222222222222222,
             "#7201a8"
            ],
            [
             0.3333333333333333,
             "#9c179e"
            ],
            [
             0.4444444444444444,
             "#bd3786"
            ],
            [
             0.5555555555555556,
             "#d8576b"
            ],
            [
             0.6666666666666666,
             "#ed7953"
            ],
            [
             0.7777777777777778,
             "#fb9f3a"
            ],
            [
             0.8888888888888888,
             "#fdca26"
            ],
            [
             1,
             "#f0f921"
            ]
           ]
          },
          "colorway": [
           "#636efa",
           "#EF553B",
           "#00cc96",
           "#ab63fa",
           "#FFA15A",
           "#19d3f3",
           "#FF6692",
           "#B6E880",
           "#FF97FF",
           "#FECB52"
          ],
          "font": {
           "color": "#2a3f5f"
          },
          "geo": {
           "bgcolor": "white",
           "lakecolor": "white",
           "landcolor": "#E5ECF6",
           "showlakes": true,
           "showland": true,
           "subunitcolor": "white"
          },
          "hoverlabel": {
           "align": "left"
          },
          "hovermode": "closest",
          "mapbox": {
           "style": "light"
          },
          "paper_bgcolor": "white",
          "plot_bgcolor": "#E5ECF6",
          "polar": {
           "angularaxis": {
            "gridcolor": "white",
            "linecolor": "white",
            "ticks": ""
           },
           "bgcolor": "#E5ECF6",
           "radialaxis": {
            "gridcolor": "white",
            "linecolor": "white",
            "ticks": ""
           }
          },
          "scene": {
           "xaxis": {
            "backgroundcolor": "#E5ECF6",
            "gridcolor": "white",
            "gridwidth": 2,
            "linecolor": "white",
            "showbackground": true,
            "ticks": "",
            "zerolinecolor": "white"
           },
           "yaxis": {
            "backgroundcolor": "#E5ECF6",
            "gridcolor": "white",
            "gridwidth": 2,
            "linecolor": "white",
            "showbackground": true,
            "ticks": "",
            "zerolinecolor": "white"
           },
           "zaxis": {
            "backgroundcolor": "#E5ECF6",
            "gridcolor": "white",
            "gridwidth": 2,
            "linecolor": "white",
            "showbackground": true,
            "ticks": "",
            "zerolinecolor": "white"
           }
          },
          "shapedefaults": {
           "line": {
            "color": "#2a3f5f"
           }
          },
          "ternary": {
           "aaxis": {
            "gridcolor": "white",
            "linecolor": "white",
            "ticks": ""
           },
           "baxis": {
            "gridcolor": "white",
            "linecolor": "white",
            "ticks": ""
           },
           "bgcolor": "#E5ECF6",
           "caxis": {
            "gridcolor": "white",
            "linecolor": "white",
            "ticks": ""
           }
          },
          "title": {
           "x": 0.05
          },
          "xaxis": {
           "automargin": true,
           "gridcolor": "white",
           "linecolor": "white",
           "ticks": "",
           "title": {
            "standoff": 15
           },
           "zerolinecolor": "white",
           "zerolinewidth": 2
          },
          "yaxis": {
           "automargin": true,
           "gridcolor": "white",
           "linecolor": "white",
           "ticks": "",
           "title": {
            "standoff": 15
           },
           "zerolinecolor": "white",
           "zerolinewidth": 2
          }
         }
        },
        "xaxis": {
         "anchor": "y",
         "categoryarray": [
          "Cluster 0",
          "Cluster 1",
          "Cluster 2"
         ],
         "categoryorder": "array",
         "domain": [
          0,
          1
         ],
         "title": {
          "text": "Cluster"
         }
        },
        "xaxis2": {
         "anchor": "y2",
         "domain": [
          0,
          1
         ],
         "matches": "x",
         "showgrid": true,
         "showticklabels": false
        },
        "yaxis": {
         "anchor": "x",
         "domain": [
          0,
          0.7326
         ],
         "title": {
          "text": "count"
         }
        },
        "yaxis2": {
         "anchor": "x2",
         "domain": [
          0.7426,
          1
         ],
         "matches": "y2",
         "showgrid": false,
         "showline": false,
         "showticklabels": false,
         "ticks": ""
        }
       }
      },
      "text/html": [
       "<div>\n",
       "        \n",
       "        \n",
       "            <div id=\"7a9e519c-86cd-49b4-afa8-ae7629f27913\" class=\"plotly-graph-div\" style=\"height:525px; width:100%;\"></div>\n",
       "            <script type=\"text/javascript\">\n",
       "                require([\"plotly\"], function(Plotly) {\n",
       "                    window.PLOTLYENV=window.PLOTLYENV || {};\n",
       "                    \n",
       "                if (document.getElementById(\"7a9e519c-86cd-49b4-afa8-ae7629f27913\")) {\n",
       "                    Plotly.newPlot(\n",
       "                        '7a9e519c-86cd-49b4-afa8-ae7629f27913',\n",
       "                        [{\"alignmentgroup\": \"True\", \"bingroup\": \"x\", \"hoverlabel\": {\"namelength\": 0}, \"hovertemplate\": \"Cluster=%{x}<br>count=%{y}\", \"legendgroup\": \"Cluster=Cluster 0\", \"marker\": {\"color\": \"#636efa\", \"opacity\": 0.7}, \"name\": \"Cluster=Cluster 0\", \"offsetgroup\": \"Cluster=Cluster 0\", \"orientation\": \"v\", \"showlegend\": true, \"type\": \"histogram\", \"x\": [\"Cluster 0\", \"Cluster 0\", \"Cluster 0\", \"Cluster 0\", \"Cluster 0\", \"Cluster 0\", \"Cluster 0\", \"Cluster 0\", \"Cluster 0\", \"Cluster 0\", \"Cluster 0\", \"Cluster 0\", \"Cluster 0\", \"Cluster 0\", \"Cluster 0\", \"Cluster 0\", \"Cluster 0\", \"Cluster 0\", \"Cluster 0\", \"Cluster 0\", \"Cluster 0\", \"Cluster 0\", \"Cluster 0\", \"Cluster 0\", \"Cluster 0\", \"Cluster 0\", \"Cluster 0\", \"Cluster 0\", \"Cluster 0\", \"Cluster 0\", \"Cluster 0\", \"Cluster 0\", \"Cluster 0\", \"Cluster 0\", \"Cluster 0\", \"Cluster 0\", \"Cluster 0\", \"Cluster 0\", \"Cluster 0\", \"Cluster 0\", \"Cluster 0\", \"Cluster 0\", \"Cluster 0\", \"Cluster 0\", \"Cluster 0\", \"Cluster 0\", \"Cluster 0\", \"Cluster 0\", \"Cluster 0\", \"Cluster 0\", \"Cluster 0\", \"Cluster 0\", \"Cluster 0\", \"Cluster 0\", \"Cluster 0\", \"Cluster 0\", \"Cluster 0\", \"Cluster 0\", \"Cluster 0\", \"Cluster 0\", \"Cluster 0\", \"Cluster 0\", \"Cluster 0\", \"Cluster 0\", \"Cluster 0\", \"Cluster 0\", \"Cluster 0\", \"Cluster 0\", \"Cluster 0\", \"Cluster 0\", \"Cluster 0\", \"Cluster 0\", \"Cluster 0\", \"Cluster 0\", \"Cluster 0\", \"Cluster 0\", \"Cluster 0\", \"Cluster 0\", \"Cluster 0\", \"Cluster 0\", \"Cluster 0\", \"Cluster 0\", \"Cluster 0\", \"Cluster 0\", \"Cluster 0\", \"Cluster 0\", \"Cluster 0\", \"Cluster 0\", \"Cluster 0\", \"Cluster 0\", \"Cluster 0\", \"Cluster 0\", \"Cluster 0\", \"Cluster 0\", \"Cluster 0\", \"Cluster 0\", \"Cluster 0\", \"Cluster 0\", \"Cluster 0\", \"Cluster 0\", \"Cluster 0\", \"Cluster 0\", \"Cluster 0\", \"Cluster 0\", \"Cluster 0\", \"Cluster 0\", \"Cluster 0\", \"Cluster 0\", \"Cluster 0\", \"Cluster 0\", \"Cluster 0\", \"Cluster 0\"], \"xaxis\": \"x\", \"yaxis\": \"y\"}, {\"alignmentgroup\": \"True\", \"customdata\": [[\"1.800\", \"140.000\", \"101.200\", \"67.300\", \"172.400\", \"2.639\", \"13.200\", \"28.000\", \"Cluster 0\"], [\"3.200\", \"215.000\", \"111.000\", \"72.200\", \"180.600\", \"4.387\", \"19.000\", \"20.000\", \"Cluster 0\"], [\"5.000\", \"302.000\", \"113.600\", \"73.100\", \"196.600\", \"4.115\", \"23.200\", \"20.000\", \"Cluster 0\"], [\"3.200\", \"215.000\", \"105.900\", \"67.800\", \"180.300\", \"3.213\", \"16.400\", \"26.000\", \"Cluster 0\"], [\"2.300\", \"190.000\", \"94.500\", \"67.500\", \"157.900\", \"3.055\", \"15.900\", \"26.000\", \"Cluster 0\"], [\"5.000\", \"302.000\", \"99.000\", \"71.300\", \"177.100\", \"4.125\", \"21.100\", \"20.000\", \"Cluster 0\"], [\"4.300\", \"275.000\", \"121.500\", \"73.100\", \"203.100\", \"4.133\", \"23.200\", \"21.000\", \"Cluster 0\"], [\"2.300\", \"185.000\", \"105.900\", \"67.700\", \"177.400\", \"3.250\", \"16.400\", \"26.000\", \"Cluster 0\"], [\"3.300\", \"170.000\", \"112.200\", \"74.900\", \"194.700\", \"3.944\", \"20.000\", \"21.000\", \"Cluster 0\"], [\"4.000\", \"210.000\", \"111.600\", \"70.200\", \"190.100\", \"3.876\", \"21.000\", \"18.000\", \"Cluster 0\"], [\"4.600\", \"200.000\", \"114.700\", \"78.200\", \"212.000\", \"3.958\", \"19.000\", \"21.000\", \"Cluster 0\"], [\"3.000\", \"153.000\", \"108.500\", \"73.000\", \"199.700\", \"3.379\", \"16.000\", \"24.000\", \"Cluster 0\"], [\"2.000\", \"125.000\", \"106.400\", \"69.600\", \"185.000\", \"2.892\", \"16.000\", \"30.000\", \"Cluster 0\"], [\"3.000\", \"173.000\", \"107.300\", \"66.700\", \"178.300\", \"3.510\", \"19.500\", \"20.000\", \"Cluster 0\"], [\"3.500\", \"200.000\", \"107.300\", \"69.900\", \"186.600\", \"4.520\", \"24.300\", \"18.000\", \"Cluster 0\"], [\"3.000\", \"161.000\", \"97.200\", \"72.400\", \"180.300\", \"3.131\", \"19.800\", \"21.000\", \"Cluster 0\"], [\"3.500\", \"210.000\", \"107.100\", \"70.300\", \"194.100\", \"3.443\", \"19.000\", \"22.000\", \"Cluster 0\"], [\"2.400\", \"154.000\", \"100.800\", \"68.900\", \"175.400\", \"2.910\", \"15.900\", \"24.000\", \"Cluster 0\"], [\"1.800\", \"113.000\", \"98.400\", \"66.500\", \"173.600\", \"2.250\", \"13.200\", \"30.000\", \"Cluster 0\"], [\"2.300\", \"236.000\", \"104.900\", \"71.500\", \"185.700\", \"3.601\", \"18.500\", \"23.000\", \"Cluster 0\"], [\"4.600\", \"215.000\", \"117.700\", \"78.200\", \"215.300\", \"4.121\", \"19.000\", \"21.000\", \"Cluster 0\"], [\"4.600\", \"275.000\", \"109.000\", \"73.600\", \"208.500\", \"3.868\", \"20.000\", \"22.000\", \"Cluster 0\"], [\"3.000\", \"220.000\", \"103.000\", \"71.500\", \"180.100\", \"3.900\", \"17.200\", \"21.000\", \"Cluster 0\"], [\"4.700\", \"230.000\", \"112.200\", \"76.400\", \"192.500\", \"5.401\", \"25.400\", \"15.000\", \"Cluster 0\"], [\"4.000\", \"290.000\", \"112.200\", \"72.000\", \"196.700\", \"3.890\", \"22.500\", \"22.000\", \"Cluster 0\"], [\"4.000\", \"300.000\", \"110.200\", \"70.900\", \"189.200\", \"3.693\", \"19.800\", \"21.000\", \"Cluster 0\"], [\"3.000\", \"225.000\", \"110.200\", \"70.900\", \"189.200\", \"3.638\", \"19.800\", \"23.000\", \"Cluster 0\"], [\"3.000\", \"210.000\", \"105.100\", \"70.500\", \"190.200\", \"3.373\", \"18.500\", \"23.000\", \"Cluster 0\"], [\"4.000\", \"195.000\", \"105.900\", \"72.300\", \"181.500\", \"3.880\", \"20.500\", \"19.000\", \"Cluster 0\"], [\"4.000\", \"190.000\", \"101.400\", \"69.400\", \"167.500\", \"3.194\", \"20.000\", \"20.000\", \"Cluster 0\"], [\"1.800\", \"126.000\", \"99.800\", \"67.300\", \"177.500\", \"2.593\", \"13.200\", \"30.000\", \"Cluster 0\"], [\"2.500\", \"120.000\", \"93.400\", \"66.700\", \"152.000\", \"3.045\", \"19.000\", \"17.000\", \"Cluster 0\"], [\"3.300\", \"170.000\", \"112.200\", \"74.900\", \"194.800\", \"3.991\", \"20.000\", \"21.000\", \"Cluster 0\"], [\"3.300\", \"170.000\", \"104.300\", \"70.400\", \"178.000\", \"3.821\", \"19.400\", \"18.000\", \"Cluster 0\"], [\"2.000\", \"115.000\", \"98.900\", \"67.900\", \"161.100\", \"2.769\", \"14.500\", \"26.000\", \"Cluster 0\"], [\"2.000\", \"115.000\", \"98.900\", \"68.300\", \"163.300\", \"2.762\", \"14.600\", \"26.000\", \"Cluster 0\"], [\"2.000\", \"115.000\", \"97.400\", \"66.700\", \"160.400\", \"3.079\", \"13.700\", \"26.000\", \"Cluster 0\"], [\"2.000\", \"115.000\", \"98.900\", \"68.300\", \"172.300\", \"2.853\", \"14.500\", \"26.000\", \"Cluster 0\"], [\"2.000\", \"115.000\", \"98.900\", \"68.300\", \"163.300\", \"2.767\", \"14.500\", \"26.000\", \"Cluster 0\"], [\"4.700\", \"230.000\", \"112.200\", \"76.400\", \"192.500\", \"5.115\", \"25.400\", \"15.000\", \"Cluster 0\"], [\"2.700\", \"150.000\", \"105.300\", \"66.500\", \"183.300\", \"3.440\", \"18.500\", \"23.000\", \"Cluster 0\"], [\"3.000\", \"194.000\", \"114.200\", \"73.400\", \"193.500\", \"3.759\", \"20.900\", \"22.000\", \"Cluster 0\"], [\"2.400\", \"142.000\", \"103.300\", \"66.500\", \"178.700\", \"2.580\", \"15.100\", \"23.000\", \"Cluster 0\"], [\"1.800\", \"140.000\", \"102.400\", \"68.300\", \"170.500\", \"2.425\", \"14.500\", \"31.000\", \"Cluster 0\"], [\"3.000\", \"210.000\", \"107.100\", \"71.700\", \"191.900\", \"3.417\", \"18.500\", \"26.000\", \"Cluster 0\"], [\"1.800\", \"120.000\", \"97.000\", \"66.700\", \"174.000\", \"2.420\", \"13.200\", \"33.000\", \"Cluster 0\"], [\"2.500\", \"165.000\", \"99.400\", \"68.300\", \"175.200\", \"3.125\", \"15.900\", \"24.000\", \"Cluster 0\"], [\"1.900\", \"124.000\", \"102.400\", \"66.400\", \"176.900\", \"2.452\", \"12.100\", \"31.000\", \"Cluster 0\"], [\"1.900\", \"100.000\", \"102.400\", \"66.400\", \"180.000\", \"2.367\", \"12.100\", \"33.000\", \"Cluster 0\"], [\"1.900\", \"100.000\", \"102.400\", \"66.400\", \"176.900\", \"2.332\", \"12.100\", \"33.000\", \"Cluster 0\"], [\"2.000\", \"185.000\", \"102.600\", \"67.400\", \"182.200\", \"2.990\", \"16.900\", \"23.000\", \"Cluster 0\"], [\"2.300\", \"170.000\", \"106.400\", \"70.600\", \"189.200\", \"3.280\", \"18.500\", \"23.000\", \"Cluster 0\"], [\"3.400\", \"300.000\", \"92.600\", \"69.500\", \"174.500\", \"3.075\", \"17.000\", \"23.000\", \"Cluster 0\"], [\"3.400\", \"300.000\", \"92.600\", \"69.500\", \"174.500\", \"3.032\", \"17.000\", \"21.000\", \"Cluster 0\"], [\"2.700\", \"217.000\", \"95.200\", \"70.100\", \"171.000\", \"2.778\", \"17.000\", \"22.000\", \"Cluster 0\"], [\"3.400\", \"185.000\", \"120.000\", \"72.700\", \"201.300\", \"3.942\", \"25.000\", \"23.000\", \"Cluster 0\"], [\"3.500\", \"253.000\", \"113.300\", \"76.300\", \"165.400\", \"2.850\", \"12.000\", \"21.000\", \"Cluster 0\"], [\"2.400\", \"150.000\", \"113.300\", \"76.800\", \"186.300\", \"3.528\", \"20.000\", \"24.000\", \"Cluster 0\"], [\"2.000\", \"132.000\", \"105.000\", \"74.400\", \"174.400\", \"2.559\", \"12.500\", \"29.000\", \"Cluster 0\"], [\"3.400\", \"185.000\", \"120.000\", \"72.200\", \"201.400\", \"3.948\", \"25.000\", \"22.000\", \"Cluster 0\"], [\"4.000\", \"250.000\", \"113.800\", \"74.400\", \"205.400\", \"3.967\", \"18.500\", \"22.000\", \"Cluster 0\"], [\"3.500\", \"215.000\", \"109.000\", \"73.600\", \"195.900\", \"3.455\", \"18.000\", \"$null$\", \"Cluster 0\"], [\"3.300\", \"170.000\", \"116.100\", \"66.500\", \"196.100\", \"3.217\", \"19.400\", \"18.000\", \"Cluster 0\"], [\"3.300\", \"170.000\", \"106.300\", \"71.700\", \"182.600\", \"3.947\", \"21.000\", \"19.000\", \"Cluster 0\"], [\"3.000\", \"240.000\", \"114.500\", \"71.600\", \"191.300\", \"3.650\", \"18.400\", \"21.000\", \"Cluster 0\"], [\"5.400\", \"300.000\", \"119.000\", \"79.900\", \"204.800\", \"5.393\", \"30.000\", \"15.000\", \"Cluster 0\"], [\"2.900\", \"201.000\", \"109.900\", \"72.100\", \"189.800\", \"3.600\", \"21.100\", \"24.000\", \"Cluster 0\"], [\"8.000\", \"450.000\", \"96.200\", \"75.700\", \"176.700\", \"3.375\", \"19.000\", \"16.000\", \"Cluster 0\"], [\"2.700\", \"202.000\", \"113.000\", \"74.700\", \"203.700\", \"3.489\", \"17.000\", \"$null$\", \"Cluster 0\"], [\"2.500\", \"168.000\", \"108.000\", \"71.000\", \"186.000\", \"3.058\", \"16.000\", \"24.000\", \"Cluster 0\"], [\"2.800\", \"193.000\", \"107.300\", \"68.500\", \"176.000\", \"3.197\", \"16.600\", \"24.000\", \"Cluster 0\"], [\"2.500\", \"163.000\", \"103.700\", \"69.100\", \"190.200\", \"2.879\", \"15.900\", \"24.000\", \"Cluster 0\"], [\"2.000\", \"132.000\", \"105.000\", \"74.400\", \"174.400\", \"2.567\", \"12.500\", \"29.000\", \"Cluster 0\"], [\"3.500\", \"253.000\", \"113.000\", \"74.400\", \"197.800\", \"3.567\", \"17.000\", \"23.000\", \"Cluster 0\"], [\"$null$\", \"$null$\", \"$null$\", \"$null$\", \"$null$\", \"$null$\", \"$null$\", \"$null$\", \"Cluster 0\"], [\"2.800\", \"193.000\", \"111.400\", \"70.900\", \"188.000\", \"3.472\", \"18.500\", \"24.800\", \"Cluster 0\"], [\"3.500\", \"253.000\", \"113.000\", \"74.400\", \"207.700\", \"3.564\", \"17.000\", \"23.000\", \"Cluster 0\"], [\"2.700\", \"200.000\", \"113.000\", \"74.400\", \"209.100\", \"3.452\", \"17.000\", \"26.000\", \"Cluster 0\"], [\"2.500\", \"168.000\", \"106.000\", \"69.200\", \"193.000\", \"3.332\", \"16.000\", \"24.000\", \"Cluster 0\"], [\"2.500\", \"163.000\", \"103.700\", \"69.700\", \"190.900\", \"2.967\", \"15.900\", \"24.000\", \"Cluster 0\"], [\"4.600\", \"275.000\", \"115.300\", \"74.500\", \"207.200\", \"3.978\", \"18.500\", \"22.000\", \"Cluster 0\"], [\"4.600\", \"275.000\", \"112.200\", \"75.000\", \"201.000\", \"$null$\", \"18.500\", \"22.000\", \"Cluster 0\"], [\"4.600\", \"275.000\", \"108.000\", \"75.500\", \"200.600\", \"3.843\", \"19.000\", \"22.000\", \"Cluster 0\"], [\"1.000\", \"55.000\", \"93.100\", \"62.600\", \"149.400\", \"1.895\", \"10.300\", \"45.000\", \"Cluster 0\"], [\"1.800\", \"120.000\", \"97.100\", \"66.700\", \"174.300\", \"2.398\", \"13.200\", \"33.000\", \"Cluster 0\"], [\"3.000\", \"200.000\", \"107.400\", \"70.300\", \"194.800\", \"3.770\", \"18.000\", \"22.000\", \"Cluster 0\"], [\"5.700\", \"345.000\", \"104.500\", \"73.600\", \"179.700\", \"3.210\", \"19.100\", \"22.000\", \"Cluster 0\"], [\"5.700\", \"255.000\", \"117.500\", \"77.000\", \"201.200\", \"5.572\", \"30.000\", \"15.000\", \"Cluster 0\"], [\"3.900\", \"175.000\", \"109.600\", \"78.800\", \"192.600\", \"4.245\", \"32.000\", \"15.000\", \"Cluster 0\"], [\"3.900\", \"175.000\", \"127.200\", \"78.800\", \"208.500\", \"4.298\", \"32.000\", \"16.000\", \"Cluster 0\"], [\"5.200\", \"230.000\", \"138.700\", \"79.300\", \"224.200\", \"4.470\", \"26.000\", \"17.000\", \"Cluster 0\"], [\"5.200\", \"230.000\", \"115.700\", \"71.700\", \"193.500\", \"4.394\", \"25.000\", \"17.000\", \"Cluster 0\"], [\"2.500\", \"119.000\", \"117.500\", \"69.400\", \"200.700\", \"3.086\", \"20.000\", \"23.000\", \"Cluster 0\"], [\"2.000\", \"146.000\", \"103.200\", \"68.900\", \"177.600\", \"3.219\", \"15.300\", \"24.000\", \"Cluster 0\"], [\"4.600\", \"240.000\", \"119.000\", \"78.700\", \"204.600\", \"4.808\", \"26.000\", \"16.000\", \"Cluster 0\"], [\"3.000\", \"150.000\", \"120.700\", \"76.600\", \"200.900\", \"3.761\", \"26.000\", \"21.000\", \"Cluster 0\"], [\"2.500\", \"120.000\", \"131.000\", \"71.500\", \"215.000\", \"3.557\", \"22.000\", \"19.000\", \"Cluster 0\"], [\"4.000\", \"210.000\", \"111.600\", \"70.200\", \"190.700\", \"3.876\", \"21.000\", \"19.000\", \"Cluster 0\"], [\"3.500\", \"210.000\", \"114.600\", \"71.400\", \"196.600\", \"3.850\", \"18.000\", \"22.000\", \"Cluster 0\"], [\"4.600\", \"200.000\", \"114.700\", \"78.200\", \"212.000\", \"3.908\", \"19.000\", \"21.000\", \"Cluster 0\"], [\"4.600\", \"220.000\", \"138.500\", \"79.100\", \"224.500\", \"4.241\", \"25.100\", \"18.000\", \"Cluster 0\"], [\"2.000\", \"107.000\", \"103.000\", \"66.900\", \"174.800\", \"2.564\", \"13.200\", \"30.000\", \"Cluster 0\"], [\"3.000\", \"155.000\", \"108.500\", \"73.000\", \"197.600\", \"3.368\", \"16.000\", \"24.000\", \"Cluster 0\"], [\"2.800\", \"200.000\", \"108.700\", \"76.100\", \"192.000\", \"3.561\", \"18.500\", \"22.000\", \"Cluster 0\"], [\"4.200\", \"310.000\", \"113.000\", \"74.000\", \"198.200\", \"3.902\", \"23.700\", \"21.000\", \"Cluster 0\"], [\"2.000\", \"110.000\", \"98.400\", \"67.000\", \"174.700\", \"2.468\", \"12.700\", \"30.000\", \"Cluster 0\"], [\"2.500\", \"170.000\", \"107.300\", \"68.400\", \"176.000\", \"3.179\", \"16.600\", \"26.100\", \"Cluster 0\"], [\"2.400\", \"150.000\", \"113.300\", \"76.800\", \"186.300\", \"3.533\", \"20.000\", \"24.000\", \"Cluster 0\"], [\"1.500\", \"92.000\", \"96.100\", \"65.700\", \"166.700\", \"2.240\", \"11.900\", \"31.000\", \"Cluster 0\"], [\"3.200\", \"225.000\", \"106.900\", \"70.600\", \"192.000\", \"3.470\", \"17.200\", \"26.000\", \"Cluster 0\"], [\"3.500\", \"210.000\", \"118.100\", \"75.600\", \"201.200\", \"4.288\", \"20.000\", \"23.000\", \"Cluster 0\"], [\"1.600\", \"106.000\", \"103.200\", \"67.100\", \"175.100\", \"2.339\", \"11.900\", \"32.000\", \"Cluster 0\"]], \"hoverlabel\": {\"namelength\": 0}, \"hovertemplate\": \"Cluster=%{customdata[8]}<br>engine_s=%{customdata[0]}<br>horsepow=%{customdata[1]}<br>wheelbas=%{customdata[2]}<br>width=%{customdata[3]}<br>length=%{customdata[4]}<br>curb_wgt=%{customdata[5]}<br>fuel_cap=%{customdata[6]}<br>mpg=%{customdata[7]}\", \"legendgroup\": \"Cluster=Cluster 0\", \"marker\": {\"color\": \"#636efa\"}, \"name\": \"Cluster=Cluster 0\", \"notched\": true, \"offsetgroup\": \"Cluster=Cluster 0\", \"showlegend\": false, \"type\": \"box\", \"x\": [\"Cluster 0\", \"Cluster 0\", \"Cluster 0\", \"Cluster 0\", \"Cluster 0\", \"Cluster 0\", \"Cluster 0\", \"Cluster 0\", \"Cluster 0\", \"Cluster 0\", \"Cluster 0\", \"Cluster 0\", \"Cluster 0\", \"Cluster 0\", \"Cluster 0\", \"Cluster 0\", \"Cluster 0\", \"Cluster 0\", \"Cluster 0\", \"Cluster 0\", \"Cluster 0\", \"Cluster 0\", \"Cluster 0\", \"Cluster 0\", \"Cluster 0\", \"Cluster 0\", \"Cluster 0\", \"Cluster 0\", \"Cluster 0\", \"Cluster 0\", \"Cluster 0\", \"Cluster 0\", \"Cluster 0\", \"Cluster 0\", \"Cluster 0\", \"Cluster 0\", \"Cluster 0\", \"Cluster 0\", \"Cluster 0\", \"Cluster 0\", \"Cluster 0\", \"Cluster 0\", \"Cluster 0\", \"Cluster 0\", \"Cluster 0\", \"Cluster 0\", \"Cluster 0\", \"Cluster 0\", \"Cluster 0\", \"Cluster 0\", \"Cluster 0\", \"Cluster 0\", \"Cluster 0\", \"Cluster 0\", \"Cluster 0\", \"Cluster 0\", \"Cluster 0\", \"Cluster 0\", \"Cluster 0\", \"Cluster 0\", \"Cluster 0\", \"Cluster 0\", \"Cluster 0\", \"Cluster 0\", \"Cluster 0\", \"Cluster 0\", \"Cluster 0\", \"Cluster 0\", \"Cluster 0\", \"Cluster 0\", \"Cluster 0\", \"Cluster 0\", \"Cluster 0\", \"Cluster 0\", \"Cluster 0\", \"Cluster 0\", \"Cluster 0\", \"Cluster 0\", \"Cluster 0\", \"Cluster 0\", \"Cluster 0\", \"Cluster 0\", \"Cluster 0\", \"Cluster 0\", \"Cluster 0\", \"Cluster 0\", \"Cluster 0\", \"Cluster 0\", \"Cluster 0\", \"Cluster 0\", \"Cluster 0\", \"Cluster 0\", \"Cluster 0\", \"Cluster 0\", \"Cluster 0\", \"Cluster 0\", \"Cluster 0\", \"Cluster 0\", \"Cluster 0\", \"Cluster 0\", \"Cluster 0\", \"Cluster 0\", \"Cluster 0\", \"Cluster 0\", \"Cluster 0\", \"Cluster 0\", \"Cluster 0\", \"Cluster 0\", \"Cluster 0\", \"Cluster 0\", \"Cluster 0\", \"Cluster 0\"], \"xaxis\": \"x2\", \"yaxis\": \"y2\"}, {\"alignmentgroup\": \"True\", \"bingroup\": \"x\", \"hoverlabel\": {\"namelength\": 0}, \"hovertemplate\": \"Cluster=%{x}<br>count=%{y}\", \"legendgroup\": \"Cluster=Cluster 1\", \"marker\": {\"color\": \"#EF553B\", \"opacity\": 0.7}, \"name\": \"Cluster=Cluster 1\", \"offsetgroup\": \"Cluster=Cluster 1\", \"orientation\": \"v\", \"showlegend\": true, \"type\": \"histogram\", \"x\": [\"Cluster 1\", \"Cluster 1\", \"Cluster 1\", \"Cluster 1\", \"Cluster 1\", \"Cluster 1\", \"Cluster 1\", \"Cluster 1\", \"Cluster 1\", \"Cluster 1\", \"Cluster 1\", \"Cluster 1\", \"Cluster 1\", \"Cluster 1\", \"Cluster 1\", \"Cluster 1\", \"Cluster 1\"], \"xaxis\": \"x\", \"yaxis\": \"y\"}, {\"alignmentgroup\": \"True\", \"customdata\": [[\"2.200\", \"137.000\", \"106.500\", \"69.000\", \"190.400\", \"2.910\", \"13.100\", \"28.000\", \"Cluster 1\"], [\"2.200\", \"137.000\", \"106.500\", \"69.000\", \"190.400\", \"3.075\", \"13.100\", \"27.000\", \"Cluster 1\"], [\"2.200\", \"133.000\", \"105.200\", \"70.100\", \"188.500\", \"2.998\", \"18.500\", \"27.000\", \"Cluster 1\"], [\"1.800\", \"150.000\", \"102.600\", \"68.200\", \"178.000\", \"2.998\", \"16.400\", \"27.000\", \"Cluster 1\"], [\"2.000\", \"127.000\", \"94.900\", \"66.700\", \"163.800\", \"2.668\", \"15.300\", \"27.000\", \"Cluster 1\"], [\"2.200\", \"115.000\", \"104.100\", \"67.900\", \"180.900\", \"2.676\", \"14.300\", \"27.000\", \"Cluster 1\"], [\"1.800\", \"150.000\", \"106.400\", \"68.500\", \"184.100\", \"3.043\", \"16.400\", \"27.000\", \"Cluster 1\"], [\"3.400\", \"180.000\", \"110.500\", \"72.700\", \"197.900\", \"3.340\", \"17.000\", \"27.000\", \"Cluster 1\"], [\"3.400\", \"180.000\", \"110.500\", \"73.000\", \"200.000\", \"3.389\", \"17.000\", \"27.000\", \"Cluster 1\"], [\"2.300\", \"185.000\", \"94.500\", \"67.500\", \"157.300\", \"2.975\", \"14.000\", \"27.000\", \"Cluster 1\"], [\"2.000\", \"125.000\", \"106.500\", \"69.100\", \"184.800\", \"2.769\", \"15.000\", \"28.000\", \"Cluster 1\"], [\"2.400\", \"150.000\", \"104.100\", \"68.400\", \"181.900\", \"2.906\", \"15.000\", \"27.000\", \"Cluster 1\"], [\"2.000\", \"132.000\", \"108.000\", \"71.000\", \"186.000\", \"2.911\", \"16.000\", \"27.000\", \"Cluster 1\"], [\"2.000\", \"132.000\", \"108.000\", \"71.000\", \"186.300\", \"2.942\", \"16.000\", \"27.000\", \"Cluster 1\"], [\"2.000\", \"140.000\", \"100.400\", \"66.900\", \"174.000\", \"2.626\", \"14.500\", \"27.000\", \"Cluster 1\"], [\"2.300\", \"135.000\", \"106.900\", \"70.300\", \"188.800\", \"2.932\", \"17.100\", \"27.000\", \"Cluster 1\"], [\"2.400\", \"150.000\", \"107.000\", \"70.100\", \"186.700\", \"2.958\", \"15.000\", \"27.000\", \"Cluster 1\"]], \"hoverlabel\": {\"namelength\": 0}, \"hovertemplate\": \"Cluster=%{customdata[8]}<br>engine_s=%{customdata[0]}<br>horsepow=%{customdata[1]}<br>wheelbas=%{customdata[2]}<br>width=%{customdata[3]}<br>length=%{customdata[4]}<br>curb_wgt=%{customdata[5]}<br>fuel_cap=%{customdata[6]}<br>mpg=%{customdata[7]}\", \"legendgroup\": \"Cluster=Cluster 1\", \"marker\": {\"color\": \"#EF553B\"}, \"name\": \"Cluster=Cluster 1\", \"notched\": true, \"offsetgroup\": \"Cluster=Cluster 1\", \"showlegend\": false, \"type\": \"box\", \"x\": [\"Cluster 1\", \"Cluster 1\", \"Cluster 1\", \"Cluster 1\", \"Cluster 1\", \"Cluster 1\", \"Cluster 1\", \"Cluster 1\", \"Cluster 1\", \"Cluster 1\", \"Cluster 1\", \"Cluster 1\", \"Cluster 1\", \"Cluster 1\", \"Cluster 1\", \"Cluster 1\", \"Cluster 1\"], \"xaxis\": \"x2\", \"yaxis\": \"y2\"}, {\"alignmentgroup\": \"True\", \"bingroup\": \"x\", \"hoverlabel\": {\"namelength\": 0}, \"hovertemplate\": \"Cluster=%{x}<br>count=%{y}\", \"legendgroup\": \"Cluster=Cluster 2\", \"marker\": {\"color\": \"#00cc96\", \"opacity\": 0.7}, \"name\": \"Cluster=Cluster 2\", \"offsetgroup\": \"Cluster=Cluster 2\", \"orientation\": \"v\", \"showlegend\": true, \"type\": \"histogram\", \"x\": [\"Cluster 2\", \"Cluster 2\", \"Cluster 2\", \"Cluster 2\", \"Cluster 2\", \"Cluster 2\", \"Cluster 2\", \"Cluster 2\", \"Cluster 2\", \"Cluster 2\", \"Cluster 2\", \"Cluster 2\", \"Cluster 2\", \"Cluster 2\", \"Cluster 2\", \"Cluster 2\", \"Cluster 2\", \"Cluster 2\", \"Cluster 2\", \"Cluster 2\", \"Cluster 2\", \"Cluster 2\", \"Cluster 2\", \"Cluster 2\", \"Cluster 2\", \"Cluster 2\", \"Cluster 2\", \"Cluster 2\"], \"xaxis\": \"x\", \"yaxis\": \"y\"}, {\"alignmentgroup\": \"True\", \"customdata\": [[\"3.800\", \"190.000\", \"101.300\", \"73.100\", \"183.200\", \"3.203\", \"15.700\", \"24.000\", \"Cluster 2\"], [\"2.500\", \"170.000\", \"106.500\", \"69.100\", \"184.600\", \"2.769\", \"15.000\", \"25.000\", \"Cluster 2\"], [\"2.400\", \"145.000\", \"103.700\", \"68.500\", \"187.800\", \"2.945\", \"16.300\", \"25.000\", \"Cluster 2\"], [\"3.800\", \"195.000\", \"110.500\", \"72.700\", \"196.500\", \"3.396\", \"18.000\", \"25.000\", \"Cluster 2\"], [\"3.200\", \"225.000\", \"108.100\", \"70.300\", \"192.900\", \"3.517\", \"17.200\", \"25.000\", \"Cluster 2\"], [\"1.900\", \"160.000\", \"100.500\", \"67.600\", \"176.600\", \"2.998\", \"15.800\", \"25.000\", \"Cluster 2\"], [\"1.900\", \"160.000\", \"100.500\", \"67.600\", \"176.600\", \"3.042\", \"15.800\", \"25.000\", \"Cluster 2\"], [\"2.400\", \"168.000\", \"104.900\", \"69.300\", \"185.900\", \"3.208\", \"17.900\", \"25.000\", \"Cluster 2\"], [\"2.400\", \"168.000\", \"104.900\", \"69.300\", \"186.200\", \"3.259\", \"17.900\", \"25.000\", \"Cluster 2\"], [\"3.200\", \"221.000\", \"111.500\", \"70.800\", \"189.400\", \"3.823\", \"21.100\", \"25.000\", \"Cluster 2\"], [\"3.200\", \"205.000\", \"106.400\", \"70.400\", \"178.200\", \"3.857\", \"21.100\", \"19.000\", \"Cluster 2\"], [\"3.800\", \"240.000\", \"109.000\", \"72.700\", \"196.200\", \"3.543\", \"17.500\", \"23.000\", \"Cluster 2\"], [\"3.100\", \"175.000\", \"109.000\", \"72.700\", \"194.600\", \"3.368\", \"17.500\", \"25.000\", \"Cluster 2\"], [\"3.800\", \"200.000\", \"101.100\", \"74.500\", \"193.400\", \"3.492\", \"16.800\", \"25.000\", \"Cluster 2\"], [\"3.000\", \"222.000\", \"108.300\", \"70.300\", \"190.500\", \"3.294\", \"18.500\", \"25.000\", \"Cluster 2\"], [\"3.800\", \"205.000\", \"113.800\", \"74.700\", \"206.800\", \"3.778\", \"18.500\", \"24.000\", \"Cluster 2\"], [\"3.800\", \"205.000\", \"112.200\", \"73.500\", \"200.000\", \"3.591\", \"17.500\", \"25.000\", \"Cluster 2\"], [\"2.500\", \"165.000\", \"103.500\", \"67.500\", \"185.800\", \"3.415\", \"16.900\", \"25.000\", \"Cluster 2\"], [\"3.100\", \"150.000\", \"107.000\", \"69.400\", \"192.000\", \"3.102\", \"15.200\", \"25.000\", \"Cluster 2\"], [\"3.000\", \"227.000\", \"108.300\", \"70.200\", \"193.700\", \"3.342\", \"18.500\", \"25.000\", \"Cluster 2\"], [\"4.300\", \"190.000\", \"107.000\", \"67.800\", \"181.200\", \"4.068\", \"17.500\", \"19.000\", \"Cluster 2\"], [\"3.800\", \"200.000\", \"101.100\", \"74.100\", \"193.200\", \"3.500\", \"16.800\", \"25.000\", \"Cluster 2\"], [\"3.100\", \"170.000\", \"107.000\", \"69.400\", \"190.400\", \"3.051\", \"15.000\", \"25.000\", \"Cluster 2\"], [\"3.100\", \"175.000\", \"107.500\", \"72.500\", \"200.900\", \"3.330\", \"16.600\", \"25.000\", \"Cluster 2\"], [\"3.400\", \"175.000\", \"107.000\", \"70.400\", \"186.300\", \"3.091\", \"15.200\", \"25.000\", \"Cluster 2\"], [\"3.800\", \"205.000\", \"112.200\", \"72.600\", \"202.500\", \"3.590\", \"17.500\", \"24.000\", \"Cluster 2\"], [\"2.400\", \"155.000\", \"103.100\", \"69.100\", \"183.500\", \"3.012\", \"15.900\", \"25.000\", \"Cluster 2\"], [\"2.400\", \"148.000\", \"106.300\", \"71.600\", \"185.400\", \"3.072\", \"17.200\", \"25.000\", \"Cluster 2\"]], \"hoverlabel\": {\"namelength\": 0}, \"hovertemplate\": \"Cluster=%{customdata[8]}<br>engine_s=%{customdata[0]}<br>horsepow=%{customdata[1]}<br>wheelbas=%{customdata[2]}<br>width=%{customdata[3]}<br>length=%{customdata[4]}<br>curb_wgt=%{customdata[5]}<br>fuel_cap=%{customdata[6]}<br>mpg=%{customdata[7]}\", \"legendgroup\": \"Cluster=Cluster 2\", \"marker\": {\"color\": \"#00cc96\"}, \"name\": \"Cluster=Cluster 2\", \"notched\": true, \"offsetgroup\": \"Cluster=Cluster 2\", \"showlegend\": false, \"type\": \"box\", \"x\": [\"Cluster 2\", \"Cluster 2\", \"Cluster 2\", \"Cluster 2\", \"Cluster 2\", \"Cluster 2\", \"Cluster 2\", \"Cluster 2\", \"Cluster 2\", \"Cluster 2\", \"Cluster 2\", \"Cluster 2\", \"Cluster 2\", \"Cluster 2\", \"Cluster 2\", \"Cluster 2\", \"Cluster 2\", \"Cluster 2\", \"Cluster 2\", \"Cluster 2\", \"Cluster 2\", \"Cluster 2\", \"Cluster 2\", \"Cluster 2\", \"Cluster 2\", \"Cluster 2\", \"Cluster 2\", \"Cluster 2\"], \"xaxis\": \"x2\", \"yaxis\": \"y2\"}],\n",
       "                        {\"barmode\": \"relative\", \"legend\": {\"tracegroupgap\": 0}, \"margin\": {\"t\": 60}, \"template\": {\"data\": {\"bar\": [{\"error_x\": {\"color\": \"#2a3f5f\"}, \"error_y\": {\"color\": \"#2a3f5f\"}, \"marker\": {\"line\": {\"color\": \"#E5ECF6\", \"width\": 0.5}}, \"type\": \"bar\"}], \"barpolar\": [{\"marker\": {\"line\": {\"color\": \"#E5ECF6\", \"width\": 0.5}}, \"type\": \"barpolar\"}], \"carpet\": [{\"aaxis\": {\"endlinecolor\": \"#2a3f5f\", \"gridcolor\": \"white\", \"linecolor\": \"white\", \"minorgridcolor\": \"white\", \"startlinecolor\": \"#2a3f5f\"}, \"baxis\": {\"endlinecolor\": \"#2a3f5f\", \"gridcolor\": \"white\", \"linecolor\": \"white\", \"minorgridcolor\": \"white\", \"startlinecolor\": \"#2a3f5f\"}, \"type\": \"carpet\"}], \"choropleth\": [{\"colorbar\": {\"outlinewidth\": 0, \"ticks\": \"\"}, \"type\": \"choropleth\"}], \"contour\": [{\"colorbar\": {\"outlinewidth\": 0, \"ticks\": \"\"}, \"colorscale\": [[0.0, \"#0d0887\"], [0.1111111111111111, \"#46039f\"], [0.2222222222222222, \"#7201a8\"], [0.3333333333333333, \"#9c179e\"], [0.4444444444444444, \"#bd3786\"], [0.5555555555555556, \"#d8576b\"], [0.6666666666666666, \"#ed7953\"], [0.7777777777777778, \"#fb9f3a\"], [0.8888888888888888, \"#fdca26\"], [1.0, \"#f0f921\"]], \"type\": \"contour\"}], \"contourcarpet\": [{\"colorbar\": {\"outlinewidth\": 0, \"ticks\": \"\"}, \"type\": \"contourcarpet\"}], \"heatmap\": [{\"colorbar\": {\"outlinewidth\": 0, \"ticks\": \"\"}, \"colorscale\": [[0.0, \"#0d0887\"], [0.1111111111111111, \"#46039f\"], [0.2222222222222222, \"#7201a8\"], [0.3333333333333333, \"#9c179e\"], [0.4444444444444444, \"#bd3786\"], [0.5555555555555556, \"#d8576b\"], [0.6666666666666666, \"#ed7953\"], [0.7777777777777778, \"#fb9f3a\"], [0.8888888888888888, \"#fdca26\"], [1.0, \"#f0f921\"]], \"type\": \"heatmap\"}], \"heatmapgl\": [{\"colorbar\": {\"outlinewidth\": 0, \"ticks\": \"\"}, \"colorscale\": [[0.0, \"#0d0887\"], [0.1111111111111111, \"#46039f\"], [0.2222222222222222, \"#7201a8\"], [0.3333333333333333, \"#9c179e\"], [0.4444444444444444, \"#bd3786\"], [0.5555555555555556, \"#d8576b\"], [0.6666666666666666, \"#ed7953\"], [0.7777777777777778, \"#fb9f3a\"], [0.8888888888888888, \"#fdca26\"], [1.0, \"#f0f921\"]], \"type\": \"heatmapgl\"}], \"histogram\": [{\"marker\": {\"colorbar\": {\"outlinewidth\": 0, \"ticks\": \"\"}}, \"type\": \"histogram\"}], \"histogram2d\": [{\"colorbar\": {\"outlinewidth\": 0, \"ticks\": \"\"}, \"colorscale\": [[0.0, \"#0d0887\"], [0.1111111111111111, \"#46039f\"], [0.2222222222222222, \"#7201a8\"], [0.3333333333333333, \"#9c179e\"], [0.4444444444444444, \"#bd3786\"], [0.5555555555555556, \"#d8576b\"], [0.6666666666666666, \"#ed7953\"], [0.7777777777777778, \"#fb9f3a\"], [0.8888888888888888, \"#fdca26\"], [1.0, \"#f0f921\"]], \"type\": \"histogram2d\"}], \"histogram2dcontour\": [{\"colorbar\": {\"outlinewidth\": 0, \"ticks\": \"\"}, \"colorscale\": [[0.0, \"#0d0887\"], [0.1111111111111111, \"#46039f\"], [0.2222222222222222, \"#7201a8\"], [0.3333333333333333, \"#9c179e\"], [0.4444444444444444, \"#bd3786\"], [0.5555555555555556, \"#d8576b\"], [0.6666666666666666, \"#ed7953\"], [0.7777777777777778, \"#fb9f3a\"], [0.8888888888888888, \"#fdca26\"], [1.0, \"#f0f921\"]], \"type\": \"histogram2dcontour\"}], \"mesh3d\": [{\"colorbar\": {\"outlinewidth\": 0, \"ticks\": \"\"}, \"type\": \"mesh3d\"}], \"parcoords\": [{\"line\": {\"colorbar\": {\"outlinewidth\": 0, \"ticks\": \"\"}}, \"type\": \"parcoords\"}], \"pie\": [{\"automargin\": true, \"type\": \"pie\"}], \"scatter\": [{\"marker\": {\"colorbar\": {\"outlinewidth\": 0, \"ticks\": \"\"}}, \"type\": \"scatter\"}], \"scatter3d\": [{\"line\": {\"colorbar\": {\"outlinewidth\": 0, \"ticks\": \"\"}}, \"marker\": {\"colorbar\": {\"outlinewidth\": 0, \"ticks\": \"\"}}, \"type\": \"scatter3d\"}], \"scattercarpet\": [{\"marker\": {\"colorbar\": {\"outlinewidth\": 0, \"ticks\": \"\"}}, \"type\": \"scattercarpet\"}], \"scattergeo\": [{\"marker\": {\"colorbar\": {\"outlinewidth\": 0, \"ticks\": \"\"}}, \"type\": \"scattergeo\"}], \"scattergl\": [{\"marker\": {\"colorbar\": {\"outlinewidth\": 0, \"ticks\": \"\"}}, \"type\": \"scattergl\"}], \"scattermapbox\": [{\"marker\": {\"colorbar\": {\"outlinewidth\": 0, \"ticks\": \"\"}}, \"type\": \"scattermapbox\"}], \"scatterpolar\": [{\"marker\": {\"colorbar\": {\"outlinewidth\": 0, \"ticks\": \"\"}}, \"type\": \"scatterpolar\"}], \"scatterpolargl\": [{\"marker\": {\"colorbar\": {\"outlinewidth\": 0, \"ticks\": \"\"}}, \"type\": \"scatterpolargl\"}], \"scatterternary\": [{\"marker\": {\"colorbar\": {\"outlinewidth\": 0, \"ticks\": \"\"}}, \"type\": \"scatterternary\"}], \"surface\": [{\"colorbar\": {\"outlinewidth\": 0, \"ticks\": \"\"}, \"colorscale\": [[0.0, \"#0d0887\"], [0.1111111111111111, \"#46039f\"], [0.2222222222222222, \"#7201a8\"], [0.3333333333333333, \"#9c179e\"], [0.4444444444444444, \"#bd3786\"], [0.5555555555555556, \"#d8576b\"], [0.6666666666666666, \"#ed7953\"], [0.7777777777777778, \"#fb9f3a\"], [0.8888888888888888, \"#fdca26\"], [1.0, \"#f0f921\"]], \"type\": \"surface\"}], \"table\": [{\"cells\": {\"fill\": {\"color\": \"#EBF0F8\"}, \"line\": {\"color\": \"white\"}}, \"header\": {\"fill\": {\"color\": \"#C8D4E3\"}, \"line\": {\"color\": \"white\"}}, \"type\": \"table\"}]}, \"layout\": {\"annotationdefaults\": {\"arrowcolor\": \"#2a3f5f\", \"arrowhead\": 0, \"arrowwidth\": 1}, \"coloraxis\": {\"colorbar\": {\"outlinewidth\": 0, \"ticks\": \"\"}}, \"colorscale\": {\"diverging\": [[0, \"#8e0152\"], [0.1, \"#c51b7d\"], [0.2, \"#de77ae\"], [0.3, \"#f1b6da\"], [0.4, \"#fde0ef\"], [0.5, \"#f7f7f7\"], [0.6, \"#e6f5d0\"], [0.7, \"#b8e186\"], [0.8, \"#7fbc41\"], [0.9, \"#4d9221\"], [1, \"#276419\"]], \"sequential\": [[0.0, \"#0d0887\"], [0.1111111111111111, \"#46039f\"], [0.2222222222222222, \"#7201a8\"], [0.3333333333333333, \"#9c179e\"], [0.4444444444444444, \"#bd3786\"], [0.5555555555555556, \"#d8576b\"], [0.6666666666666666, \"#ed7953\"], [0.7777777777777778, \"#fb9f3a\"], [0.8888888888888888, \"#fdca26\"], [1.0, \"#f0f921\"]], \"sequentialminus\": [[0.0, \"#0d0887\"], [0.1111111111111111, \"#46039f\"], [0.2222222222222222, \"#7201a8\"], [0.3333333333333333, \"#9c179e\"], [0.4444444444444444, \"#bd3786\"], [0.5555555555555556, \"#d8576b\"], [0.6666666666666666, \"#ed7953\"], [0.7777777777777778, \"#fb9f3a\"], [0.8888888888888888, \"#fdca26\"], [1.0, \"#f0f921\"]]}, \"colorway\": [\"#636efa\", \"#EF553B\", \"#00cc96\", \"#ab63fa\", \"#FFA15A\", \"#19d3f3\", \"#FF6692\", \"#B6E880\", \"#FF97FF\", \"#FECB52\"], \"font\": {\"color\": \"#2a3f5f\"}, \"geo\": {\"bgcolor\": \"white\", \"lakecolor\": \"white\", \"landcolor\": \"#E5ECF6\", \"showlakes\": true, \"showland\": true, \"subunitcolor\": \"white\"}, \"hoverlabel\": {\"align\": \"left\"}, \"hovermode\": \"closest\", \"mapbox\": {\"style\": \"light\"}, \"paper_bgcolor\": \"white\", \"plot_bgcolor\": \"#E5ECF6\", \"polar\": {\"angularaxis\": {\"gridcolor\": \"white\", \"linecolor\": \"white\", \"ticks\": \"\"}, \"bgcolor\": \"#E5ECF6\", \"radialaxis\": {\"gridcolor\": \"white\", \"linecolor\": \"white\", \"ticks\": \"\"}}, \"scene\": {\"xaxis\": {\"backgroundcolor\": \"#E5ECF6\", \"gridcolor\": \"white\", \"gridwidth\": 2, \"linecolor\": \"white\", \"showbackground\": true, \"ticks\": \"\", \"zerolinecolor\": \"white\"}, \"yaxis\": {\"backgroundcolor\": \"#E5ECF6\", \"gridcolor\": \"white\", \"gridwidth\": 2, \"linecolor\": \"white\", \"showbackground\": true, \"ticks\": \"\", \"zerolinecolor\": \"white\"}, \"zaxis\": {\"backgroundcolor\": \"#E5ECF6\", \"gridcolor\": \"white\", \"gridwidth\": 2, \"linecolor\": \"white\", \"showbackground\": true, \"ticks\": \"\", \"zerolinecolor\": \"white\"}}, \"shapedefaults\": {\"line\": {\"color\": \"#2a3f5f\"}}, \"ternary\": {\"aaxis\": {\"gridcolor\": \"white\", \"linecolor\": \"white\", \"ticks\": \"\"}, \"baxis\": {\"gridcolor\": \"white\", \"linecolor\": \"white\", \"ticks\": \"\"}, \"bgcolor\": \"#E5ECF6\", \"caxis\": {\"gridcolor\": \"white\", \"linecolor\": \"white\", \"ticks\": \"\"}}, \"title\": {\"x\": 0.05}, \"xaxis\": {\"automargin\": true, \"gridcolor\": \"white\", \"linecolor\": \"white\", \"ticks\": \"\", \"title\": {\"standoff\": 15}, \"zerolinecolor\": \"white\", \"zerolinewidth\": 2}, \"yaxis\": {\"automargin\": true, \"gridcolor\": \"white\", \"linecolor\": \"white\", \"ticks\": \"\", \"title\": {\"standoff\": 15}, \"zerolinecolor\": \"white\", \"zerolinewidth\": 2}}}, \"xaxis\": {\"anchor\": \"y\", \"categoryarray\": [\"Cluster 0\", \"Cluster 1\", \"Cluster 2\"], \"categoryorder\": \"array\", \"domain\": [0.0, 1.0], \"title\": {\"text\": \"Cluster\"}}, \"xaxis2\": {\"anchor\": \"y2\", \"domain\": [0.0, 1.0], \"matches\": \"x\", \"showgrid\": true, \"showticklabels\": false}, \"yaxis\": {\"anchor\": \"x\", \"domain\": [0.0, 0.7326], \"title\": {\"text\": \"count\"}}, \"yaxis2\": {\"anchor\": \"x2\", \"domain\": [0.7426, 1.0], \"matches\": \"y2\", \"showgrid\": false, \"showline\": false, \"showticklabels\": false, \"ticks\": \"\"}},\n",
       "                        {\"responsive\": true}\n",
       "                    ).then(function(){\n",
       "                            \n",
       "var gd = document.getElementById('7a9e519c-86cd-49b4-afa8-ae7629f27913');\n",
       "var x = new MutationObserver(function (mutations, observer) {{\n",
       "        var display = window.getComputedStyle(gd).display;\n",
       "        if (!display || display === 'none') {{\n",
       "            console.log([gd, 'removed!']);\n",
       "            Plotly.purge(gd);\n",
       "            observer.disconnect();\n",
       "        }}\n",
       "}});\n",
       "\n",
       "// Listen for the removal of the full notebook cells\n",
       "var notebookContainer = gd.closest('#notebook-container');\n",
       "if (notebookContainer) {{\n",
       "    x.observe(notebookContainer, {childList: true});\n",
       "}}\n",
       "\n",
       "// Listen for the clearing of the current output cell\n",
       "var outputEl = gd.closest('.output');\n",
       "if (outputEl) {{\n",
       "    x.observe(outputEl, {childList: true});\n",
       "}}\n",
       "\n",
       "                        })\n",
       "                };\n",
       "                });\n",
       "            </script>\n",
       "        </div>"
      ]
     },
     "metadata": {},
     "output_type": "display_data"
    }
   ],
   "source": [
    "plot_model(kmeans, plot = 'distribution') #to see size of clusters"
   ]
  },
  {
   "cell_type": "code",
   "execution_count": null,
   "metadata": {},
   "outputs": [],
   "source": []
  }
 ],
 "metadata": {
  "kernelspec": {
   "display_name": "Python 3",
   "language": "python",
   "name": "python3"
  },
  "language_info": {
   "codemirror_mode": {
    "name": "ipython",
    "version": 3
   },
   "file_extension": ".py",
   "mimetype": "text/x-python",
   "name": "python",
   "nbconvert_exporter": "python",
   "pygments_lexer": "ipython3",
   "version": "3.7.6"
  }
 },
 "nbformat": 4,
 "nbformat_minor": 4
}
